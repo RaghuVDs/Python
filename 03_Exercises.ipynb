{
  "cells": [
    {
      "cell_type": "markdown",
      "metadata": {
        "id": "view-in-github",
        "colab_type": "text"
      },
      "source": [
        "<a href=\"https://colab.research.google.com/github/RaghuVDs/Python/blob/main/03_Exercises.ipynb\" target=\"_parent\"><img src=\"https://colab.research.google.com/assets/colab-badge.svg\" alt=\"Open In Colab\"/></a>"
      ]
    },
    {
      "cell_type": "markdown",
      "id": "animal-encoding",
      "metadata": {
        "id": "animal-encoding"
      },
      "source": [
        "### Exercises"
      ]
    },
    {
      "cell_type": "markdown",
      "id": "editorial-church",
      "metadata": {
        "id": "editorial-church"
      },
      "source": [
        "#### Exercise 1"
      ]
    },
    {
      "cell_type": "markdown",
      "id": "coordinated-victor",
      "metadata": {
        "id": "coordinated-victor"
      },
      "source": [
        "Given the following string:"
      ]
    },
    {
      "cell_type": "code",
      "execution_count": 3,
      "id": "quick-symposium",
      "metadata": {
        "id": "quick-symposium"
      },
      "outputs": [],
      "source": [
        "s = 'FfEeDdCcBbAa'"
      ]
    },
    {
      "cell_type": "markdown",
      "id": "imported-crown",
      "metadata": {
        "id": "imported-crown"
      },
      "source": [
        "Create two new variables that contain just the lower and upper case letters of `s` respectively, in the correct alphabetical order, i.e:\n",
        "\n",
        "- `'ABCDEF'`\n",
        "- `'abcdef'`"
      ]
    },
    {
      "cell_type": "code",
      "source": [
        "lower = s[-1::-2]\n",
        "print(lower)\n",
        "\n",
        "upper = s[-2::-2]\n",
        "print(upper)"
      ],
      "metadata": {
        "colab": {
          "base_uri": "https://localhost:8080/"
        },
        "id": "Us-JLItiwfbT",
        "outputId": "8190fdcf-f708-4319-9e04-12e08674a120"
      },
      "id": "Us-JLItiwfbT",
      "execution_count": 6,
      "outputs": [
        {
          "output_type": "stream",
          "name": "stdout",
          "text": [
            "abcdef\n",
            "ABCDEF\n"
          ]
        }
      ]
    },
    {
      "cell_type": "markdown",
      "id": "copyrighted-spirit",
      "metadata": {
        "id": "copyrighted-spirit"
      },
      "source": [
        "#### Exercise 2"
      ]
    },
    {
      "cell_type": "markdown",
      "id": "powered-gazette",
      "metadata": {
        "id": "powered-gazette"
      },
      "source": [
        "Concatenate the following tuples into a single one, but replacing the odd values with zeros (`0`)."
      ]
    },
    {
      "cell_type": "code",
      "execution_count": 25,
      "id": "interior-webster",
      "metadata": {
        "id": "interior-webster"
      },
      "outputs": [],
      "source": [
        "t1 = 1, 2, 3, 4, 5, 6\n",
        "t2 = 7, 8, 9, 10\n",
        "t3 = 11, 12, 13, 14, 15, 16, 17"
      ]
    },
    {
      "cell_type": "markdown",
      "id": "allied-ladder",
      "metadata": {
        "id": "allied-ladder"
      },
      "source": [
        "You can assume that every tuple is a sequence of consecutive integers starting with an odd integer.\n",
        "\n",
        "Try to write your code to be as generic as possible."
      ]
    },
    {
      "cell_type": "code",
      "source": [
        "print(t1,t2,t3)"
      ],
      "metadata": {
        "colab": {
          "base_uri": "https://localhost:8080/"
        },
        "id": "uFfNYPoixk8v",
        "outputId": "82934c2c-7a19-4aa1-edad-0ef77b6c4d37"
      },
      "id": "uFfNYPoixk8v",
      "execution_count": 26,
      "outputs": [
        {
          "output_type": "stream",
          "name": "stdout",
          "text": [
            "(1, 2, 3, 4, 5, 6) (7, 8, 9, 10) (11, 12, 13, 14, 15, 16, 17)\n"
          ]
        }
      ]
    },
    {
      "cell_type": "code",
      "source": [
        "l1 = list(t1)\n",
        "l2 = list(t2)\n",
        "l3 = list(t3)\n",
        "\n",
        "print(l1,l2,l3)"
      ],
      "metadata": {
        "colab": {
          "base_uri": "https://localhost:8080/"
        },
        "id": "ImyMv-Yfxp66",
        "outputId": "925133be-bbb1-43be-d9eb-1bfa99ef3fa5"
      },
      "id": "ImyMv-Yfxp66",
      "execution_count": 27,
      "outputs": [
        {
          "output_type": "stream",
          "name": "stdout",
          "text": [
            "[1, 2, 3, 4, 5, 6] [7, 8, 9, 10] [11, 12, 13, 14, 15, 16, 17]\n"
          ]
        }
      ]
    },
    {
      "cell_type": "code",
      "source": [
        "l1[::2] = [0] * len(l1[::2])\n",
        "l2[::2] = [0] * len(l2[::2])\n",
        "l3[::2] = [0] * len(l3[::2])\n",
        "\n",
        "print(l1,l2,l3)"
      ],
      "metadata": {
        "colab": {
          "base_uri": "https://localhost:8080/"
        },
        "id": "_d3rS10wxyAS",
        "outputId": "4c47b3ba-36e5-4745-8b8f-6525fb5f3895"
      },
      "id": "_d3rS10wxyAS",
      "execution_count": 28,
      "outputs": [
        {
          "output_type": "stream",
          "name": "stdout",
          "text": [
            "[0, 2, 0, 4, 0, 6] [0, 8, 0, 10] [0, 12, 0, 14, 0, 16, 0]\n"
          ]
        }
      ]
    },
    {
      "cell_type": "code",
      "source": [
        "result = list(l1+l2+l3)\n",
        "print(result)"
      ],
      "metadata": {
        "colab": {
          "base_uri": "https://localhost:8080/"
        },
        "id": "_M_HWLOGzhdA",
        "outputId": "fac20fa6-03d5-4c1d-f599-477426650995"
      },
      "id": "_M_HWLOGzhdA",
      "execution_count": 29,
      "outputs": [
        {
          "output_type": "stream",
          "name": "stdout",
          "text": [
            "[0, 2, 0, 4, 0, 6, 0, 8, 0, 10, 0, 12, 0, 14, 0, 16, 0]\n"
          ]
        }
      ]
    },
    {
      "cell_type": "markdown",
      "id": "controversial-crest",
      "metadata": {
        "id": "controversial-crest"
      },
      "source": [
        "#### Exercise 3"
      ]
    },
    {
      "cell_type": "markdown",
      "id": "lucky-divide",
      "metadata": {
        "id": "lucky-divide"
      },
      "source": [
        "Given the following matrix:"
      ]
    },
    {
      "cell_type": "code",
      "execution_count": 30,
      "id": "israeli-porter",
      "metadata": {
        "id": "israeli-porter"
      },
      "outputs": [],
      "source": [
        "m = [\n",
        "    [0, 0, 0],\n",
        "    [0, 0, 0],\n",
        "    [0, 0, 0]\n",
        "]"
      ]
    },
    {
      "cell_type": "markdown",
      "id": "independent-blast",
      "metadata": {
        "id": "independent-blast"
      },
      "source": [
        "Make this matrix into an identity matrix (setting the diagonal elements to `1`).\n",
        "\n",
        "Your code should *mutate* `m`."
      ]
    },
    {
      "cell_type": "code",
      "source": [
        "m1 = m.copy()\n",
        "print(m1)"
      ],
      "metadata": {
        "colab": {
          "base_uri": "https://localhost:8080/"
        },
        "id": "cxvt1frN0Jlt",
        "outputId": "6ca0b22a-2d1a-46cb-8e8b-f46744e83910"
      },
      "id": "cxvt1frN0Jlt",
      "execution_count": 32,
      "outputs": [
        {
          "output_type": "stream",
          "name": "stdout",
          "text": [
            "[[0, 0, 0], [0, 0, 0], [0, 0, 0]]\n"
          ]
        }
      ]
    },
    {
      "cell_type": "code",
      "source": [
        "m is m1"
      ],
      "metadata": {
        "colab": {
          "base_uri": "https://localhost:8080/"
        },
        "id": "q2uYMsL90bON",
        "outputId": "5d602d1b-7941-401c-98a5-d0121d16de68"
      },
      "id": "q2uYMsL90bON",
      "execution_count": 33,
      "outputs": [
        {
          "output_type": "execute_result",
          "data": {
            "text/plain": [
              "False"
            ]
          },
          "metadata": {},
          "execution_count": 33
        }
      ]
    },
    {
      "cell_type": "code",
      "source": [
        "m[0] == m1[0]"
      ],
      "metadata": {
        "colab": {
          "base_uri": "https://localhost:8080/"
        },
        "id": "3-vUpdNc0doP",
        "outputId": "34b30de8-61d3-409e-8d97-113aaaeb415f"
      },
      "id": "3-vUpdNc0doP",
      "execution_count": 35,
      "outputs": [
        {
          "output_type": "execute_result",
          "data": {
            "text/plain": [
              "True"
            ]
          },
          "metadata": {},
          "execution_count": 35
        }
      ]
    },
    {
      "cell_type": "code",
      "source": [
        "m1[0][0] = 1\n",
        "m1[1][1] = 1\n",
        "m1[2][2] = 1\n",
        "\n",
        "print(m1,m)"
      ],
      "metadata": {
        "colab": {
          "base_uri": "https://localhost:8080/"
        },
        "id": "eV4Str9R0iR4",
        "outputId": "4feb5f34-09ad-40dc-b268-6414a3e0353b"
      },
      "id": "eV4Str9R0iR4",
      "execution_count": 38,
      "outputs": [
        {
          "output_type": "stream",
          "name": "stdout",
          "text": [
            "[[1, 0, 0], [0, 1, 0], [0, 0, 1]] [[1, 0, 0], [0, 1, 0], [0, 0, 1]]\n"
          ]
        }
      ]
    },
    {
      "cell_type": "markdown",
      "id": "damaged-response",
      "metadata": {
        "id": "damaged-response"
      },
      "source": [
        "#### Exercise 4"
      ]
    },
    {
      "cell_type": "markdown",
      "id": "separated-april",
      "metadata": {
        "id": "separated-april"
      },
      "source": [
        "Do the same problem as Exercise 3, but do **not** mutate `m`."
      ]
    },
    {
      "cell_type": "code",
      "source": [
        "from copy import deepcopy\n",
        "m2 = deepcopy(m)\n",
        "print(m2)\n",
        "\n",
        "print(m2 is m)\n",
        "print(m2[0] is m[0])\n",
        "\n",
        "m2[0][0] = 0\n",
        "m2[1][1] = 0\n",
        "m2[2][2] = 0\n",
        "\n",
        "print(m2,m)\n"
      ],
      "metadata": {
        "colab": {
          "base_uri": "https://localhost:8080/"
        },
        "id": "4x1GLzsM0_b0",
        "outputId": "0185627d-619a-4780-c07b-c7d7a3d6c948"
      },
      "id": "4x1GLzsM0_b0",
      "execution_count": 42,
      "outputs": [
        {
          "output_type": "stream",
          "name": "stdout",
          "text": [
            "[[1, 0, 0], [0, 1, 0], [0, 0, 1]]\n",
            "False\n",
            "False\n",
            "[[0, 0, 0], [0, 0, 0], [0, 0, 0]] [[1, 0, 0], [0, 1, 0], [0, 0, 1]]\n"
          ]
        }
      ]
    },
    {
      "cell_type": "markdown",
      "id": "respiratory-uniform",
      "metadata": {
        "id": "respiratory-uniform"
      },
      "source": [
        "#### Exercise 5"
      ]
    },
    {
      "cell_type": "markdown",
      "id": "heard-hurricane",
      "metadata": {
        "id": "heard-hurricane"
      },
      "source": [
        "You are given a list of tuples that each contain 4 values:\n",
        "\n",
        "```\n",
        "(amount, currency, target_currency, exchange_rate)\n",
        "```"
      ]
    },
    {
      "cell_type": "code",
      "execution_count": 44,
      "id": "positive-welcome",
      "metadata": {
        "id": "positive-welcome"
      },
      "outputs": [],
      "source": [
        "data = [\n",
        "    (100, 'USD', 'EUR', 0.83),\n",
        "    (100, 'USD', 'CAD', 1.27),\n",
        "    (100, 'CAD', 'EUR', 0.65)\n",
        "]"
      ]
    },
    {
      "cell_type": "markdown",
      "id": "alternative-lobby",
      "metadata": {
        "id": "alternative-lobby"
      },
      "source": [
        "Write code that converts the `amount` from its `currency` to its `target_currency` using the `exchange_rate` (which is the exchange rate for `1` `currency` in `target_currency`).\n",
        "\n",
        "Try to make your code as generic as possible (we'll see later how to use loops so we don't have to write three separate statements).\n",
        "\n",
        "In other words, you'll need three blocks of code here that are essentially almost identical.\n",
        "\n",
        "Use unpacking to assign the values in each tuple to variables.\n",
        "\n",
        "Your result for each row should print something like this out:\n",
        "\n",
        "```\n",
        "100 USD = 83 EUR\n",
        "```"
      ]
    },
    {
      "cell_type": "code",
      "source": [
        "amount, currency, target_currency, exchange_rate = data[0]\n",
        "print(amount, currency,\"=\",target_currency, exchange_rate)\n"
      ],
      "metadata": {
        "colab": {
          "base_uri": "https://localhost:8080/"
        },
        "id": "sEihzK-31205",
        "outputId": "dba91611-f1e8-4541-eade-663b05d50143"
      },
      "id": "sEihzK-31205",
      "execution_count": 47,
      "outputs": [
        {
          "output_type": "stream",
          "name": "stdout",
          "text": [
            "100 USD = EUR 0.83\n"
          ]
        }
      ]
    },
    {
      "cell_type": "code",
      "source": [
        "amount, currency, target_currency, exchange_rate = data[1]\n",
        "print(amount, currency,\"=\",target_currency, exchange_rate)\n"
      ],
      "metadata": {
        "colab": {
          "base_uri": "https://localhost:8080/"
        },
        "id": "o_w9i89y12ty",
        "outputId": "096a93d9-ee10-4d29-ca25-8c2c3a71d45b"
      },
      "id": "o_w9i89y12ty",
      "execution_count": 48,
      "outputs": [
        {
          "output_type": "stream",
          "name": "stdout",
          "text": [
            "100 USD = CAD 1.27\n"
          ]
        }
      ]
    },
    {
      "cell_type": "code",
      "source": [
        "amount, currency, target_currency, exchange_rate = data[2]\n",
        "print(amount, currency,\"=\",target_currency, exchange_rate)\n"
      ],
      "metadata": {
        "colab": {
          "base_uri": "https://localhost:8080/"
        },
        "id": "c0fUoZBt2tv-",
        "outputId": "194a2ea3-9c46-4f61-b91f-8c12e67478df"
      },
      "id": "c0fUoZBt2tv-",
      "execution_count": 50,
      "outputs": [
        {
          "output_type": "stream",
          "name": "stdout",
          "text": [
            "100 CAD = EUR 0.65\n"
          ]
        }
      ]
    },
    {
      "cell_type": "code",
      "source": [],
      "metadata": {
        "id": "I31n5pra2zcH"
      },
      "id": "I31n5pra2zcH",
      "execution_count": null,
      "outputs": []
    }
  ],
  "metadata": {
    "kernelspec": {
      "display_name": "Python 3",
      "language": "python",
      "name": "python3"
    },
    "language_info": {
      "codemirror_mode": {
        "name": "ipython",
        "version": 3
      },
      "file_extension": ".py",
      "mimetype": "text/x-python",
      "name": "python",
      "nbconvert_exporter": "python",
      "pygments_lexer": "ipython3",
      "version": "3.9.1"
    },
    "colab": {
      "provenance": [],
      "include_colab_link": true
    }
  },
  "nbformat": 4,
  "nbformat_minor": 5
}