{
  "nbformat": 4,
  "nbformat_minor": 0,
  "metadata": {
    "colab": {
      "provenance": [],
      "authorship_tag": "ABX9TyOwNNhODxdwazMBRDwPZrRR",
      "include_colab_link": true
    },
    "kernelspec": {
      "name": "python3",
      "display_name": "Python 3"
    },
    "language_info": {
      "name": "python"
    }
  },
  "cells": [
    {
      "cell_type": "markdown",
      "metadata": {
        "id": "view-in-github",
        "colab_type": "text"
      },
      "source": [
        "<a href=\"https://colab.research.google.com/github/RaghuVDs/Python/blob/main/05_Iterations.ipynb\" target=\"_parent\"><img src=\"https://colab.research.google.com/assets/colab-badge.svg\" alt=\"Open In Colab\"/></a>"
      ]
    },
    {
      "cell_type": "markdown",
      "source": [
        "# Iterations - repetition\n",
        "\n",
        "running code multiple times\n",
        "\n",
        "## 1. knowing how many numbers to run - **for loop**\n",
        "deterministic approch\n",
        "## 2. Not knowing how many tiems to run the code - **while loop**\n",
        "non deterministic approch\n",
        "\n",
        "\n"
      ],
      "metadata": {
        "id": "br02FOql0V8_"
      }
    },
    {
      "cell_type": "markdown",
      "source": [
        "# **Range**\n",
        "\n",
        "range is an iterable object\n",
        "\n",
        "it has finite number of integers\n",
        "\n",
        "range() to create objects\n"
      ],
      "metadata": {
        "id": "vi23Heac1Vpd"
      }
    },
    {
      "cell_type": "code",
      "execution_count": null,
      "metadata": {
        "id": "Nz65PqtC0L4Q"
      },
      "outputs": [],
      "source": [
        "# range(start : end : step)\n"
      ]
    },
    {
      "cell_type": "code",
      "source": [
        "# it is an iterable of integer\n",
        "\n",
        "r = range(0,5)\n",
        "print(r,type(r))"
      ],
      "metadata": {
        "colab": {
          "base_uri": "https://localhost:8080/"
        },
        "id": "SF7hA6Wd13GN",
        "outputId": "a9a48b59-5bda-4cbc-83d4-972418f9d858"
      },
      "execution_count": null,
      "outputs": [
        {
          "output_type": "stream",
          "name": "stdout",
          "text": [
            "range(0, 5) <class 'range'>\n"
          ]
        }
      ]
    },
    {
      "cell_type": "code",
      "source": [
        "list(r)"
      ],
      "metadata": {
        "colab": {
          "base_uri": "https://localhost:8080/"
        },
        "id": "WWT0Dzbq2Af9",
        "outputId": "28cf8621-7245-439f-eb0c-5087982af839"
      },
      "execution_count": null,
      "outputs": [
        {
          "output_type": "execute_result",
          "data": {
            "text/plain": [
              "[0, 1, 2, 3, 4]"
            ]
          },
          "metadata": {},
          "execution_count": 11
        }
      ]
    },
    {
      "cell_type": "code",
      "source": [
        "tuple(r)"
      ],
      "metadata": {
        "colab": {
          "base_uri": "https://localhost:8080/"
        },
        "id": "bNgOdOvQ2gAi",
        "outputId": "7c278f72-9d29-43e6-f8b6-c126772d3ac3"
      },
      "execution_count": null,
      "outputs": [
        {
          "output_type": "execute_result",
          "data": {
            "text/plain": [
              "(0, 1, 2, 3, 4)"
            ]
          },
          "metadata": {},
          "execution_count": 12
        }
      ]
    },
    {
      "cell_type": "code",
      "source": [
        "range01 = range(0,10,2)\n",
        "print(list(range01),len(list(range01)))"
      ],
      "metadata": {
        "colab": {
          "base_uri": "https://localhost:8080/"
        },
        "id": "BdmL3y-r2kcH",
        "outputId": "fd61edea-ba19-44ac-a88b-0a07d7267920"
      },
      "execution_count": null,
      "outputs": [
        {
          "output_type": "stream",
          "name": "stdout",
          "text": [
            "[0, 2, 4, 6, 8] 5\n"
          ]
        }
      ]
    },
    {
      "cell_type": "markdown",
      "source": [
        "# **for loop**\n",
        "\n",
        "used to itereate when we know the the number of elements\n",
        "\n",
        "it grabs the element from the iterables  \n",
        "\n",
        "i = 0\n",
        "\n",
        "for i in [1,2,3]:\n",
        "\n",
        "  x = i + i\n",
        "\n",
        "print(x)\n",
        "\n",
        "print('done')  "
      ],
      "metadata": {
        "id": "tKgCNtuZ3RgS"
      }
    },
    {
      "cell_type": "code",
      "source": [
        "for i in [1,2,3]:\n",
        "\n",
        "  x = i + i\n",
        "  print(x)\n",
        "\n",
        "print('done')"
      ],
      "metadata": {
        "colab": {
          "base_uri": "https://localhost:8080/"
        },
        "id": "Dpcvt6o1227u",
        "outputId": "9b033653-e845-4936-d14e-d03fbebec581"
      },
      "execution_count": null,
      "outputs": [
        {
          "output_type": "stream",
          "name": "stdout",
          "text": [
            "2\n",
            "4\n",
            "6\n",
            "done\n"
          ]
        }
      ]
    },
    {
      "cell_type": "code",
      "source": [
        "for i in range(0,5,2):\n",
        "  sq = i*i\n",
        "  print(sq)\n"
      ],
      "metadata": {
        "colab": {
          "base_uri": "https://localhost:8080/"
        },
        "id": "TyMAqaA83_Hy",
        "outputId": "28516f19-f5da-4608-8bc1-f24a7edeca78"
      },
      "execution_count": null,
      "outputs": [
        {
          "output_type": "stream",
          "name": "stdout",
          "text": [
            "0\n",
            "4\n",
            "16\n"
          ]
        }
      ]
    },
    {
      "cell_type": "code",
      "source": [
        "for i in range(0,5):\n",
        "  for j in range(1,i+1):\n",
        "    print(j,'*')\n",
        "  print(i,\"@\")\n",
        "  print(\"_\"* 4)\n",
        "print('done')"
      ],
      "metadata": {
        "colab": {
          "base_uri": "https://localhost:8080/"
        },
        "id": "T2o_2a5n4oZ2",
        "outputId": "6e1d3e41-3516-4b38-c1fc-72fb4db57442"
      },
      "execution_count": null,
      "outputs": [
        {
          "output_type": "stream",
          "name": "stdout",
          "text": [
            "0 @\n",
            "____\n",
            "1 *\n",
            "1 @\n",
            "____\n",
            "1 *\n",
            "2 *\n",
            "2 @\n",
            "____\n",
            "1 *\n",
            "2 *\n",
            "3 *\n",
            "3 @\n",
            "____\n",
            "1 *\n",
            "2 *\n",
            "3 *\n",
            "4 *\n",
            "4 @\n",
            "____\n",
            "done\n"
          ]
        }
      ]
    },
    {
      "cell_type": "code",
      "source": [
        "data = [1,2,3,-4,5,-10,-15]\n",
        "\n",
        "for i in data:\n",
        "  if i < 0:\n",
        "    i = 0\n",
        "  print(i)\n"
      ],
      "metadata": {
        "colab": {
          "base_uri": "https://localhost:8080/"
        },
        "id": "FMz5a_Yv48tV",
        "outputId": "fb9cfbed-57b0-4a69-d978-4ed2546fa3b9"
      },
      "execution_count": null,
      "outputs": [
        {
          "output_type": "stream",
          "name": "stdout",
          "text": [
            "1\n",
            "2\n",
            "3\n",
            "0\n",
            "5\n",
            "0\n",
            "0\n"
          ]
        }
      ]
    },
    {
      "cell_type": "markdown",
      "source": [
        "# enumerate function\n",
        "\n",
        "takes iterable\n",
        "\n",
        "returns a new variable whose elements are a tuple\n"
      ],
      "metadata": {
        "id": "bIqxZZg26zSO"
      }
    },
    {
      "cell_type": "code",
      "source": [
        "for i in enumerate(data):\n",
        "  index,element = i\n",
        "  if element < 0:\n",
        "    data[index] = 0\n",
        "print(data)"
      ],
      "metadata": {
        "colab": {
          "base_uri": "https://localhost:8080/"
        },
        "id": "zvL7DnUT6s8y",
        "outputId": "9a262dfe-18a1-41c7-a878-b9233526b578"
      },
      "execution_count": null,
      "outputs": [
        {
          "output_type": "stream",
          "name": "stdout",
          "text": [
            "[1, 2, 3, 0, 5, 0, 0]\n"
          ]
        }
      ]
    },
    {
      "cell_type": "code",
      "source": [
        "for index,element in enumerate(data):\n",
        "  if element < 0:\n",
        "    data[index] = 0\n",
        "  print(index,element)\n",
        "print(data)"
      ],
      "metadata": {
        "colab": {
          "base_uri": "https://localhost:8080/"
        },
        "id": "v-wERcI97Kor",
        "outputId": "18021e5a-4461-48a3-a2e5-45da3acebf65"
      },
      "execution_count": null,
      "outputs": [
        {
          "output_type": "stream",
          "name": "stdout",
          "text": [
            "0 1\n",
            "1 2\n",
            "2 3\n",
            "3 0\n",
            "4 5\n",
            "5 0\n",
            "6 0\n",
            "[1, 2, 3, 0, 5, 0, 0]\n",
            "6\n"
          ]
        }
      ]
    },
    {
      "cell_type": "code",
      "source": [
        "suits = ['diamonds','clubs','hearts','spades']\n",
        "\n",
        "for s in suits:\n",
        "  print(f'{s[0].upper()} = {s}')"
      ],
      "metadata": {
        "colab": {
          "base_uri": "https://localhost:8080/"
        },
        "id": "HQKe-Vxr79uZ",
        "outputId": "666397a9-ea2a-4d8b-ebf8-774ddf82956f"
      },
      "execution_count": null,
      "outputs": [
        {
          "output_type": "stream",
          "name": "stdout",
          "text": [
            "D = diamonds\n",
            "C = clubs\n",
            "H = hearts\n",
            "S = spades\n"
          ]
        }
      ]
    },
    {
      "cell_type": "code",
      "source": [
        "for i in 'python':\n",
        "  print(i)"
      ],
      "metadata": {
        "colab": {
          "base_uri": "https://localhost:8080/"
        },
        "id": "ExEjGPyF81RB",
        "outputId": "ccdaa252-907d-44a6-8a98-3fcf575d321d"
      },
      "execution_count": null,
      "outputs": [
        {
          "output_type": "stream",
          "name": "stdout",
          "text": [
            "p\n",
            "y\n",
            "t\n",
            "h\n",
            "o\n",
            "n\n"
          ]
        }
      ]
    },
    {
      "cell_type": "code",
      "source": [
        "i"
      ],
      "metadata": {
        "colab": {
          "base_uri": "https://localhost:8080/",
          "height": 36
        },
        "id": "_Pl0NsyG9BsK",
        "outputId": "59ef4995-abc0-4639-a058-eb97f056c0e7"
      },
      "execution_count": null,
      "outputs": [
        {
          "output_type": "execute_result",
          "data": {
            "text/plain": [
              "'n'"
            ],
            "application/vnd.google.colaboratory.intrinsic+json": {
              "type": "string"
            }
          },
          "metadata": {},
          "execution_count": 43
        }
      ]
    },
    {
      "cell_type": "code",
      "source": [
        "s"
      ],
      "metadata": {
        "colab": {
          "base_uri": "https://localhost:8080/",
          "height": 36
        },
        "id": "KiVVvLe59H5d",
        "outputId": "db0a45fb-f674-4eba-a13e-4d6b9230765a"
      },
      "execution_count": null,
      "outputs": [
        {
          "output_type": "execute_result",
          "data": {
            "text/plain": [
              "'spades'"
            ],
            "application/vnd.google.colaboratory.intrinsic+json": {
              "type": "string"
            }
          },
          "metadata": {},
          "execution_count": 49
        }
      ]
    },
    {
      "cell_type": "code",
      "source": [
        "for i in range(2,11,2):\n",
        "  print(i)"
      ],
      "metadata": {
        "colab": {
          "base_uri": "https://localhost:8080/"
        },
        "id": "64pb5XSb9Jnz",
        "outputId": "cfb2bcd2-78fc-4341-99c1-c5505164d353"
      },
      "execution_count": null,
      "outputs": [
        {
          "output_type": "stream",
          "name": "stdout",
          "text": [
            "2\n",
            "4\n",
            "6\n",
            "8\n",
            "10\n"
          ]
        }
      ]
    },
    {
      "cell_type": "code",
      "source": [
        "for i in range(3):\n",
        "  for j in range(3):\n",
        "    print(i,j)\n",
        "  print(\"_ _\" * 3)"
      ],
      "metadata": {
        "colab": {
          "base_uri": "https://localhost:8080/"
        },
        "id": "2LQ-IqWJ9WlP",
        "outputId": "22c2ceb9-ba64-471f-e48a-efeed166632e"
      },
      "execution_count": null,
      "outputs": [
        {
          "output_type": "stream",
          "name": "stdout",
          "text": [
            "0 0\n",
            "0 1\n",
            "0 2\n",
            "_ __ __ _\n",
            "1 0\n",
            "1 1\n",
            "1 2\n",
            "_ __ __ _\n",
            "2 0\n",
            "2 1\n",
            "2 2\n",
            "_ __ __ _\n"
          ]
        }
      ]
    },
    {
      "cell_type": "code",
      "source": [
        "matrix = [[1,1,1],[2,2,2],[3,3,3]]\n",
        "\n",
        "for row in range(len(matrix)):\n",
        "  for col in range(len(matrix[row])):\n",
        "    print(f'{[row,col]} = {matrix[row][col]}')"
      ],
      "metadata": {
        "colab": {
          "base_uri": "https://localhost:8080/"
        },
        "id": "1BzTb4bg9tnk",
        "outputId": "56946f27-df80-48bb-964a-a2c91295e372"
      },
      "execution_count": null,
      "outputs": [
        {
          "output_type": "stream",
          "name": "stdout",
          "text": [
            "[0, 0] = 1\n",
            "[0, 1] = 1\n",
            "[0, 2] = 1\n",
            "[1, 0] = 2\n",
            "[1, 1] = 2\n",
            "[1, 2] = 2\n",
            "[2, 0] = 3\n",
            "[2, 1] = 3\n",
            "[2, 2] = 3\n"
          ]
        }
      ]
    },
    {
      "cell_type": "code",
      "source": [
        "len(matrix)"
      ],
      "metadata": {
        "colab": {
          "base_uri": "https://localhost:8080/"
        },
        "id": "tryLqMsg-0qq",
        "outputId": "63d87d21-a468-4d78-d6de-b2ddd762331c"
      },
      "execution_count": null,
      "outputs": [
        {
          "output_type": "execute_result",
          "data": {
            "text/plain": [
              "3"
            ]
          },
          "metadata": {},
          "execution_count": 63
        }
      ]
    },
    {
      "cell_type": "code",
      "source": [
        "len(matrix[0])"
      ],
      "metadata": {
        "colab": {
          "base_uri": "https://localhost:8080/"
        },
        "id": "ErB4kHLr_vgb",
        "outputId": "c2538922-ff30-488b-dd1e-70738f2557b6"
      },
      "execution_count": null,
      "outputs": [
        {
          "output_type": "execute_result",
          "data": {
            "text/plain": [
              "3"
            ]
          },
          "metadata": {},
          "execution_count": 64
        }
      ]
    },
    {
      "cell_type": "code",
      "source": [
        "# creating an identity matrix using for loop\n",
        "\n",
        "n = int(input(\"Enter the size of the matrix : \"))\n",
        "\n",
        "matrix = []\n",
        "\n",
        "for i in range(n):\n",
        "  rows = []\n",
        "  for j in range(n):\n",
        "    if i == j:\n",
        "      rows.append(1)\n",
        "    else:\n",
        "      rows.append(0)\n",
        "  matrix.append(rows)\n",
        "\n",
        "print(matrix)"
      ],
      "metadata": {
        "colab": {
          "base_uri": "https://localhost:8080/"
        },
        "id": "3F0Y5PFB_ydZ",
        "outputId": "b1869338-d136-4ef8-cb06-b174e5ef87ed"
      },
      "execution_count": null,
      "outputs": [
        {
          "output_type": "stream",
          "name": "stdout",
          "text": [
            "Enter the size of the matrix : 3\n",
            "[[1, 0, 0], [0, 1, 0], [0, 0, 1]]\n"
          ]
        }
      ]
    },
    {
      "cell_type": "code",
      "source": [
        "data = [10,20,30]\n",
        "\n",
        "for index,element in enumerate(data): # unpacking\n",
        "  print(index,element) # (index,i)"
      ],
      "metadata": {
        "colab": {
          "base_uri": "https://localhost:8080/"
        },
        "id": "CQAUhwgBBzPP",
        "outputId": "bab68249-6095-4f69-c8fe-c03c3cb37dcb"
      },
      "execution_count": null,
      "outputs": [
        {
          "output_type": "stream",
          "name": "stdout",
          "text": [
            "0 10\n",
            "1 20\n",
            "2 30\n"
          ]
        }
      ]
    },
    {
      "cell_type": "code",
      "source": [
        "m = [\n",
        "    [0,1],\n",
        "    [2,3,4,5],\n",
        "    [7,8,9],\n",
        "    [10]\n",
        "    ]"
      ],
      "metadata": {
        "id": "AIl3IriyC677"
      },
      "execution_count": null,
      "outputs": []
    },
    {
      "cell_type": "code",
      "source": [
        "for rows in m:\n",
        "  for col in rows:\n",
        "    print(col)"
      ],
      "metadata": {
        "colab": {
          "base_uri": "https://localhost:8080/"
        },
        "id": "bC2-uwIXDtZ9",
        "outputId": "9930ed5c-464d-4e71-ede1-602ec100773a"
      },
      "execution_count": null,
      "outputs": [
        {
          "output_type": "stream",
          "name": "stdout",
          "text": [
            "0\n",
            "1\n",
            "2\n",
            "3\n",
            "4\n",
            "5\n",
            "7\n",
            "8\n",
            "9\n",
            "10\n"
          ]
        }
      ]
    },
    {
      "cell_type": "code",
      "source": [
        "for r_index,row in enumerate(m):\n",
        "  for c_index,col in enumerate(row):\n",
        "    print(f'[{r_index},{c_index}] = {col}')\n",
        "  print(\"- -\" * 2)"
      ],
      "metadata": {
        "colab": {
          "base_uri": "https://localhost:8080/"
        },
        "id": "M1pHZ_6pDxtP",
        "outputId": "86c85626-1e8e-4069-cfbc-55aa0f895515"
      },
      "execution_count": null,
      "outputs": [
        {
          "output_type": "stream",
          "name": "stdout",
          "text": [
            "[0,0] = 0\n",
            "[0,1] = 1\n",
            "- -- -\n",
            "[1,0] = 2\n",
            "[1,1] = 3\n",
            "[1,2] = 4\n",
            "[1,3] = 5\n",
            "- -- -\n",
            "[2,0] = 7\n",
            "[2,1] = 8\n",
            "[2,2] = 9\n",
            "- -- -\n",
            "[3,0] = 10\n",
            "- -- -\n"
          ]
        }
      ]
    },
    {
      "cell_type": "code",
      "source": [
        "data_missing = [1,2,3,None,4,5,6,None,8,9,10]"
      ],
      "metadata": {
        "id": "B50aEZnJEkyD"
      },
      "execution_count": null,
      "outputs": []
    },
    {
      "cell_type": "code",
      "source": [
        "total = 0\n",
        "count = 0\n",
        "\n",
        "for index,element in enumerate(data_missing):\n",
        "  print(index,element)\n",
        "\n",
        "  if element is not None:\n",
        "    total += element\n",
        "    count += 1\n",
        "\n",
        "\n",
        "print(\"_ _\" * 10)\n",
        "avg = total/count\n",
        "print(avg,count)\n",
        "print(data_missing)\n"
      ],
      "metadata": {
        "colab": {
          "base_uri": "https://localhost:8080/"
        },
        "id": "dUnIuKtzG0s2",
        "outputId": "8710189b-93af-4f1b-a0cd-04b42f43fcb0"
      },
      "execution_count": null,
      "outputs": [
        {
          "output_type": "stream",
          "name": "stdout",
          "text": [
            "0 1\n",
            "1 2\n",
            "2 3\n",
            "3 None\n",
            "4 4\n",
            "5 5\n",
            "6 6\n",
            "7 None\n",
            "8 8\n",
            "9 9\n",
            "10 10\n",
            "_ __ __ __ __ __ __ __ __ __ _\n",
            "5.333333333333333 9\n",
            "[1, 2, 3, None, 4, 5, 6, None, 8, 9, 10]\n"
          ]
        }
      ]
    },
    {
      "cell_type": "code",
      "source": [
        "for index,element in enumerate(data_missing):\n",
        "  if element is None:\n",
        "    data_missing[index] = avg\n",
        "print(f'{data_missing}')"
      ],
      "metadata": {
        "colab": {
          "base_uri": "https://localhost:8080/"
        },
        "id": "Othy_sggHIFQ",
        "outputId": "96de8922-cf8a-46e9-a5c6-f5e8da47ca77"
      },
      "execution_count": null,
      "outputs": [
        {
          "output_type": "stream",
          "name": "stdout",
          "text": [
            "[1, 2, 3, 5.333333333333333, 4, 5, 6, 5.333333333333333, 8, 9, 10]\n"
          ]
        }
      ]
    },
    {
      "cell_type": "markdown",
      "source": [
        "# **while Loop**"
      ],
      "metadata": {
        "id": "dI3_Qp_EPBMn"
      }
    },
    {
      "cell_type": "markdown",
      "source": [
        "Repeates the code till a certain condition is reached or becomes true\n",
        "\n",
        "while (expression):\n",
        "\n",
        "    code block"
      ],
      "metadata": {
        "id": "XUw4HZNOPiZD"
      }
    },
    {
      "cell_type": "code",
      "source": [
        "value = 10\n",
        "\n",
        "while value < 15:\n",
        "  print(value)\n",
        "  value += 1"
      ],
      "metadata": {
        "colab": {
          "base_uri": "https://localhost:8080/"
        },
        "id": "I3ZhI9aSL3DL",
        "outputId": "7398178e-3046-46d2-d9e1-c02a11c200b8"
      },
      "execution_count": null,
      "outputs": [
        {
          "output_type": "stream",
          "name": "stdout",
          "text": [
            "10\n",
            "11\n",
            "12\n",
            "13\n",
            "14\n"
          ]
        }
      ]
    },
    {
      "cell_type": "code",
      "source": [
        "price = 100\n",
        "\n",
        "while price > 90:\n",
        "  print(f\"price = {price} - waiting for discount\")\n",
        "  price -= 2\n",
        "  print(f\"price = {price}\")\n",
        "print(f'Reached price = {price} - buy now')"
      ],
      "metadata": {
        "colab": {
          "base_uri": "https://localhost:8080/"
        },
        "id": "fsGB_4EYQIlX",
        "outputId": "897f4f7b-ca6e-4176-f37e-b24349b53025"
      },
      "execution_count": null,
      "outputs": [
        {
          "output_type": "stream",
          "name": "stdout",
          "text": [
            "price = 100 - waiting for discount\n",
            "price = 98\n",
            "price = 98 - waiting for discount\n",
            "price = 96\n",
            "price = 96 - waiting for discount\n",
            "price = 94\n",
            "price = 94 - waiting for discount\n",
            "price = 92\n",
            "price = 92 - waiting for discount\n",
            "price = 90\n",
            "Reached price = 90 - buy now\n"
          ]
        }
      ]
    },
    {
      "cell_type": "code",
      "source": [
        "data = [100,200,300,400,500]\n"
      ],
      "metadata": {
        "id": "Qy6mfPh3QSVJ"
      },
      "execution_count": null,
      "outputs": []
    },
    {
      "cell_type": "code",
      "source": [
        "while len(data) > 0:\n",
        "  last_ele = data.pop()\n",
        "  print(f\"processing element {last_ele}\")\n",
        "  print(f\"data = {data}\")\n",
        "  # retrives the data and removes"
      ],
      "metadata": {
        "colab": {
          "base_uri": "https://localhost:8080/"
        },
        "id": "vKbVjq7LStJL",
        "outputId": "3b1faeb1-ec2e-4224-ef9e-2e2c315e0d99"
      },
      "execution_count": null,
      "outputs": [
        {
          "output_type": "stream",
          "name": "stdout",
          "text": [
            "processing element 500\n",
            "data = [100, 200, 300, 400]\n",
            "processing element 400\n",
            "data = [100, 200, 300]\n",
            "processing element 300\n",
            "data = [100, 200]\n",
            "processing element 200\n",
            "data = [100]\n",
            "processing element 100\n",
            "data = []\n"
          ]
        }
      ]
    },
    {
      "cell_type": "code",
      "source": [
        "# if we have to add or remove elements from a sequence  we have to use WHILE LOOP - do not use the FOR LOOP"
      ],
      "metadata": {
        "id": "JuWc-IddTObn"
      },
      "execution_count": null,
      "outputs": []
    },
    {
      "cell_type": "markdown",
      "source": [
        "# **continue , Break, Else**\n",
        "\n",
        "# **continue**\n",
        "1. used to skip an iteration without termination the loop - not widely used\n",
        "\n",
        "# **Break**\n",
        "1. early termination - stops and terminate the loop\n",
        "\n",
        "# **Else clause - in a for loop**\n",
        "1. used in a for loop when break is not encountered\n"
      ],
      "metadata": {
        "id": "0G_pYr3XVGZi"
      }
    },
    {
      "cell_type": "code",
      "source": [
        "# break\n",
        "\n",
        "for i in range(100):\n",
        "  if i == 20:\n",
        "    print(\"breaking the loop\")\n",
        "    break\n",
        "  print(i)"
      ],
      "metadata": {
        "colab": {
          "base_uri": "https://localhost:8080/"
        },
        "id": "lmuLvgWoVDGO",
        "outputId": "fccc4ed8-122f-458e-ca9e-f4010432c0cd"
      },
      "execution_count": null,
      "outputs": [
        {
          "output_type": "stream",
          "name": "stdout",
          "text": [
            "0\n",
            "1\n",
            "2\n",
            "3\n",
            "4\n",
            "5\n",
            "6\n",
            "7\n",
            "8\n",
            "9\n",
            "10\n",
            "11\n",
            "12\n",
            "13\n",
            "14\n",
            "15\n",
            "16\n",
            "17\n",
            "18\n",
            "19\n",
            "breaking the loop\n"
          ]
        }
      ]
    },
    {
      "cell_type": "code",
      "source": [
        "# continue\n",
        "\n",
        "for i in range(0,10):\n",
        "  if i % 2 == 0:\n",
        "    continue\n",
        "  print(i)"
      ],
      "metadata": {
        "colab": {
          "base_uri": "https://localhost:8080/"
        },
        "id": "eFKQQ_UBXDAu",
        "outputId": "3b52eaa6-a6b8-4929-8a90-3b84f924ea9f"
      },
      "execution_count": null,
      "outputs": [
        {
          "output_type": "stream",
          "name": "stdout",
          "text": [
            "1\n",
            "3\n",
            "5\n",
            "7\n",
            "9\n"
          ]
        }
      ]
    },
    {
      "cell_type": "code",
      "source": [
        "# Continue & break using 2 loops - if we use Continue & break inside an inner loop it Continues & breaks out of only the inner loop and not the complete loop\n",
        "\n",
        "for i in range(10):\n",
        "  for j in range(10):\n",
        "    if i == j:\n",
        "      print(\"*\")\n",
        "      continue\n",
        "    print(i,j)\n",
        "  print(\"______\")"
      ],
      "metadata": {
        "colab": {
          "base_uri": "https://localhost:8080/"
        },
        "id": "zJR4-2zNXnn3",
        "outputId": "b3e267ca-7921-404b-997e-c1ea50f87a50"
      },
      "execution_count": null,
      "outputs": [
        {
          "output_type": "stream",
          "name": "stdout",
          "text": [
            "*\n",
            "0 1\n",
            "0 2\n",
            "0 3\n",
            "0 4\n",
            "0 5\n",
            "0 6\n",
            "0 7\n",
            "0 8\n",
            "0 9\n",
            "______\n",
            "1 0\n",
            "*\n",
            "1 2\n",
            "1 3\n",
            "1 4\n",
            "1 5\n",
            "1 6\n",
            "1 7\n",
            "1 8\n",
            "1 9\n",
            "______\n",
            "2 0\n",
            "2 1\n",
            "*\n",
            "2 3\n",
            "2 4\n",
            "2 5\n",
            "2 6\n",
            "2 7\n",
            "2 8\n",
            "2 9\n",
            "______\n",
            "3 0\n",
            "3 1\n",
            "3 2\n",
            "*\n",
            "3 4\n",
            "3 5\n",
            "3 6\n",
            "3 7\n",
            "3 8\n",
            "3 9\n",
            "______\n",
            "4 0\n",
            "4 1\n",
            "4 2\n",
            "4 3\n",
            "*\n",
            "4 5\n",
            "4 6\n",
            "4 7\n",
            "4 8\n",
            "4 9\n",
            "______\n",
            "5 0\n",
            "5 1\n",
            "5 2\n",
            "5 3\n",
            "5 4\n",
            "*\n",
            "5 6\n",
            "5 7\n",
            "5 8\n",
            "5 9\n",
            "______\n",
            "6 0\n",
            "6 1\n",
            "6 2\n",
            "6 3\n",
            "6 4\n",
            "6 5\n",
            "*\n",
            "6 7\n",
            "6 8\n",
            "6 9\n",
            "______\n",
            "7 0\n",
            "7 1\n",
            "7 2\n",
            "7 3\n",
            "7 4\n",
            "7 5\n",
            "7 6\n",
            "*\n",
            "7 8\n",
            "7 9\n",
            "______\n",
            "8 0\n",
            "8 1\n",
            "8 2\n",
            "8 3\n",
            "8 4\n",
            "8 5\n",
            "8 6\n",
            "8 7\n",
            "*\n",
            "8 9\n",
            "______\n",
            "9 0\n",
            "9 1\n",
            "9 2\n",
            "9 3\n",
            "9 4\n",
            "9 5\n",
            "9 6\n",
            "9 7\n",
            "9 8\n",
            "*\n",
            "______\n"
          ]
        }
      ]
    },
    {
      "cell_type": "code",
      "source": [
        "for i in range(10):\n",
        "  print(i)\n",
        "  if i == 5:\n",
        "    break\n",
        "else:\n",
        "  print(\"no Break\")"
      ],
      "metadata": {
        "colab": {
          "base_uri": "https://localhost:8080/"
        },
        "id": "lB_R4C7VYK55",
        "outputId": "b27e5f85-df73-45f0-cb19-82589b1a2bd3"
      },
      "execution_count": null,
      "outputs": [
        {
          "output_type": "stream",
          "name": "stdout",
          "text": [
            "0\n",
            "1\n",
            "2\n",
            "3\n",
            "4\n",
            "5\n"
          ]
        }
      ]
    },
    {
      "cell_type": "code",
      "source": [
        "data = [1,2,3,4,5,6,]"
      ],
      "metadata": {
        "id": "L5SgzKcNa0XZ"
      },
      "execution_count": null,
      "outputs": []
    },
    {
      "cell_type": "code",
      "source": [
        "for i in data:\n",
        "  if i < 0:\n",
        "    print(i)\n",
        "    break\n",
        "else:\n",
        "  print(\"no negative\")"
      ],
      "metadata": {
        "colab": {
          "base_uri": "https://localhost:8080/"
        },
        "id": "5Wxc58PfbFLc",
        "outputId": "5f078681-b4a8-4402-e890-820f4db7763e"
      },
      "execution_count": null,
      "outputs": [
        {
          "output_type": "stream",
          "name": "stdout",
          "text": [
            "no negative\n"
          ]
        }
      ]
    },
    {
      "cell_type": "code",
      "source": [],
      "metadata": {
        "id": "ae4OtPRVbJ9n"
      },
      "execution_count": null,
      "outputs": []
    }
  ]
}