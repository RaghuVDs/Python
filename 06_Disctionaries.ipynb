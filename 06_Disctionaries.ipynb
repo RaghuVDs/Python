{
  "nbformat": 4,
  "nbformat_minor": 0,
  "metadata": {
    "colab": {
      "provenance": [],
      "authorship_tag": "ABX9TyPHe+9aTpbMg14oquSdX+nA",
      "include_colab_link": true
    },
    "kernelspec": {
      "name": "python3",
      "display_name": "Python 3"
    },
    "language_info": {
      "name": "python"
    }
  },
  "cells": [
    {
      "cell_type": "markdown",
      "metadata": {
        "id": "view-in-github",
        "colab_type": "text"
      },
      "source": [
        "<a href=\"https://colab.research.google.com/github/RaghuVDs/Python/blob/main/06_Disctionaries.ipynb\" target=\"_parent\"><img src=\"https://colab.research.google.com/assets/colab-badge.svg\" alt=\"Open In Colab\"/></a>"
      ]
    },
    {
      "cell_type": "markdown",
      "source": [
        "name : Number - (association)\n",
        "\n",
        "dict or hash maps are associated arrrays also called as maps\n",
        "\n",
        "\n",
        "they are key and value pairs - {key:value}\n",
        "\n",
        "a special mechanism is used to quickly find the keys.\n",
        "\n",
        "the lookup us speed is not affected by the dict\n",
        "\n",
        "strings are hashable\n",
        "\n",
        "numaric are hashable\n",
        "\n",
        "mutable objects are mostly not hashable\n",
        "\n",
        "Dict cannot contain same keys\n",
        "\n",
        "looking up values in a dict - data['a']\n",
        "\n",
        "if there is a key - python updates the value else it creates a new key value pair"
      ],
      "metadata": {
        "id": "CczZKVO80f89"
      }
    },
    {
      "cell_type": "markdown",
      "source": [
        "# common exceptions\n",
        "\n",
        "keyError - reading or deleting a no existant key keys\n",
        "\n",
        "type error - using a non hashable element"
      ],
      "metadata": {
        "id": "Lu0orZzi4O3l"
      }
    },
    {
      "cell_type": "code",
      "execution_count": null,
      "metadata": {
        "colab": {
          "base_uri": "https://localhost:8080/"
        },
        "id": "l-K7tvMs0OmI",
        "outputId": "9e739c3b-7aec-435d-b498-97599e73e08a"
      },
      "outputs": [
        {
          "output_type": "stream",
          "name": "stdout",
          "text": [
            "{'a': 1, 'b': 2, 'C': 3}\n"
          ]
        }
      ],
      "source": [
        "d = {\"a\" : 1, \"b\" : 2, \"C\": 3}\n",
        "print(d)"
      ]
    },
    {
      "cell_type": "code",
      "source": [
        "person = {\n",
        "    \"first_name\" : \"Eric\",\n",
        "    \"last_name\" : \"Idle\",\n",
        "    \"age\" : 73\n",
        "}"
      ],
      "metadata": {
        "id": "5we-glZu41Tz"
      },
      "execution_count": null,
      "outputs": []
    },
    {
      "cell_type": "code",
      "source": [
        "person[\"first_name\"]"
      ],
      "metadata": {
        "colab": {
          "base_uri": "https://localhost:8080/",
          "height": 36
        },
        "id": "Sd_pdyUT5FiC",
        "outputId": "e8ebc763-caec-4be0-9001-308a80511023"
      },
      "execution_count": null,
      "outputs": [
        {
          "output_type": "execute_result",
          "data": {
            "text/plain": [
              "'Eric'"
            ],
            "application/vnd.google.colaboratory.intrinsic+json": {
              "type": "string"
            }
          },
          "metadata": {},
          "execution_count": 4
        }
      ]
    },
    {
      "cell_type": "code",
      "source": [
        "person[\"age\"] = 2000"
      ],
      "metadata": {
        "id": "elD5TGBJ5KOt"
      },
      "execution_count": null,
      "outputs": []
    },
    {
      "cell_type": "code",
      "source": [
        "print(person)"
      ],
      "metadata": {
        "colab": {
          "base_uri": "https://localhost:8080/"
        },
        "id": "0xX0JG0D5Nt6",
        "outputId": "bb51bd25-2183-45d6-e23f-d00e897517db"
      },
      "execution_count": null,
      "outputs": [
        {
          "output_type": "stream",
          "name": "stdout",
          "text": [
            "{'first_name': 'Eric', 'last_name': 'Idle', 'age': 2000}\n"
          ]
        }
      ]
    },
    {
      "cell_type": "code",
      "source": [
        "person[\"Month_Born\"] = \"Jan\""
      ],
      "metadata": {
        "id": "tHrxbiA75PUO"
      },
      "execution_count": null,
      "outputs": []
    },
    {
      "cell_type": "code",
      "source": [
        "print(person)"
      ],
      "metadata": {
        "colab": {
          "base_uri": "https://localhost:8080/"
        },
        "id": "9iXOcwZ05Z5y",
        "outputId": "fe9921ae-b009-4158-ea03-f1789f52666c"
      },
      "execution_count": null,
      "outputs": [
        {
          "output_type": "stream",
          "name": "stdout",
          "text": [
            "{'first_name': 'Eric', 'last_name': 'Idle', 'age': 2000, 'Month_Born': 'Jan'}\n"
          ]
        }
      ]
    },
    {
      "cell_type": "code",
      "source": [
        "hash(100)"
      ],
      "metadata": {
        "colab": {
          "base_uri": "https://localhost:8080/"
        },
        "id": "GWgAo6k_5bEQ",
        "outputId": "f16ca252-a042-47b2-ff80-d15c306c506d"
      },
      "execution_count": null,
      "outputs": [
        {
          "output_type": "execute_result",
          "data": {
            "text/plain": [
              "100"
            ]
          },
          "metadata": {},
          "execution_count": 11
        }
      ]
    },
    {
      "cell_type": "code",
      "source": [
        "# tuple may be hashable or may not be - depends on the type inside a tuple\n",
        "\n",
        "t = (1, 2, 3)\n",
        "hash(t)"
      ],
      "metadata": {
        "colab": {
          "base_uri": "https://localhost:8080/"
        },
        "id": "i7Jwac7t5wW0",
        "outputId": "d5213bd9-b1a0-4e5f-c1c2-24ea2f46be8d"
      },
      "execution_count": null,
      "outputs": [
        {
          "output_type": "execute_result",
          "data": {
            "text/plain": [
              "529344067295497451"
            ]
          },
          "metadata": {},
          "execution_count": 12
        }
      ]
    },
    {
      "cell_type": "code",
      "source": [
        "tl = (1, 2, [3])\n",
        "hash(tl)"
      ],
      "metadata": {
        "colab": {
          "base_uri": "https://localhost:8080/",
          "height": 165
        },
        "id": "zlx7DDGECo7k",
        "outputId": "18a249c7-7abc-423c-c6fb-5e028a7620a5"
      },
      "execution_count": null,
      "outputs": [
        {
          "output_type": "error",
          "ename": "TypeError",
          "evalue": "unhashable type: 'list'",
          "traceback": [
            "\u001b[0;31m---------------------------------------------------------------------------\u001b[0m",
            "\u001b[0;31mTypeError\u001b[0m                                 Traceback (most recent call last)",
            "\u001b[0;32m<ipython-input-14-0e036ca6c6f4>\u001b[0m in \u001b[0;36m<cell line: 2>\u001b[0;34m()\u001b[0m\n\u001b[1;32m      1\u001b[0m \u001b[0mtl\u001b[0m \u001b[0;34m=\u001b[0m \u001b[0;34m(\u001b[0m\u001b[0;36m1\u001b[0m\u001b[0;34m,\u001b[0m \u001b[0;36m2\u001b[0m\u001b[0;34m,\u001b[0m \u001b[0;34m[\u001b[0m\u001b[0;36m3\u001b[0m\u001b[0;34m]\u001b[0m\u001b[0;34m)\u001b[0m\u001b[0;34m\u001b[0m\u001b[0;34m\u001b[0m\u001b[0m\n\u001b[0;32m----> 2\u001b[0;31m \u001b[0mhash\u001b[0m\u001b[0;34m(\u001b[0m\u001b[0mtl\u001b[0m\u001b[0;34m)\u001b[0m\u001b[0;34m\u001b[0m\u001b[0;34m\u001b[0m\u001b[0m\n\u001b[0m",
            "\u001b[0;31mTypeError\u001b[0m: unhashable type: 'list'"
          ]
        }
      ]
    },
    {
      "cell_type": "code",
      "source": [
        "# non existance element\n",
        "\n",
        "person['b']"
      ],
      "metadata": {
        "colab": {
          "base_uri": "https://localhost:8080/",
          "height": 183
        },
        "id": "qCvdmwaOCsea",
        "outputId": "86106892-c762-4efd-ee56-0c5e9e53290f"
      },
      "execution_count": null,
      "outputs": [
        {
          "output_type": "error",
          "ename": "KeyError",
          "evalue": "'b'",
          "traceback": [
            "\u001b[0;31m---------------------------------------------------------------------------\u001b[0m",
            "\u001b[0;31mKeyError\u001b[0m                                  Traceback (most recent call last)",
            "\u001b[0;32m<ipython-input-16-c35f893a01c4>\u001b[0m in \u001b[0;36m<cell line: 3>\u001b[0;34m()\u001b[0m\n\u001b[1;32m      1\u001b[0m \u001b[0;31m# non existance element\u001b[0m\u001b[0;34m\u001b[0m\u001b[0;34m\u001b[0m\u001b[0m\n\u001b[1;32m      2\u001b[0m \u001b[0;34m\u001b[0m\u001b[0m\n\u001b[0;32m----> 3\u001b[0;31m \u001b[0mperson\u001b[0m\u001b[0;34m[\u001b[0m\u001b[0;34m'b'\u001b[0m\u001b[0;34m]\u001b[0m\u001b[0;34m\u001b[0m\u001b[0;34m\u001b[0m\u001b[0m\n\u001b[0m",
            "\u001b[0;31mKeyError\u001b[0m: 'b'"
          ]
        }
      ]
    },
    {
      "cell_type": "code",
      "source": [
        "globals()"
      ],
      "metadata": {
        "colab": {
          "base_uri": "https://localhost:8080/"
        },
        "id": "xkjMSRUYDPMO",
        "outputId": "7feb482d-7ecd-4be8-d672-cc70722fe589"
      },
      "execution_count": null,
      "outputs": [
        {
          "output_type": "execute_result",
          "data": {
            "text/plain": [
              "{'__name__': '__main__',\n",
              " '__doc__': 'Automatically created module for IPython interactive environment',\n",
              " '__package__': None,\n",
              " '__loader__': None,\n",
              " '__spec__': None,\n",
              " '__builtin__': <module 'builtins' (built-in)>,\n",
              " '__builtins__': <module 'builtins' (built-in)>,\n",
              " '_ih': ['',\n",
              "  'd = {\"a\" : 1, \"b\" : 2, \"C\": 3}\\npritn(d)',\n",
              "  'd = {\"a\" : 1, \"b\" : 2, \"C\": 3}\\nprint(d)',\n",
              "  'person = {\\n    \"first_name\" : \"Eric\",\\n    \"last_name\" : \"Idle\",\\n    \"age\" : 73\\n}',\n",
              "  'person[\"first_name\"]',\n",
              "  'person[\"age\"] = 2000',\n",
              "  'print(d)',\n",
              "  'print(person)',\n",
              "  'person[\"Month_Born\"] = \"Jan\"',\n",
              "  'print(person)',\n",
              "  'hash(person)',\n",
              "  'hash(100)',\n",
              "  '# tuple may be hashable or may not be - depends on the type inside a tuple\\n\\nt = (1, 2, 3)\\nhash(t) ',\n",
              "  'tl = (1, 2, [3])\\nhash(t) ',\n",
              "  'tl = (1, 2, [3])\\nhash(tl) ',\n",
              "  \"# non existance element\\n\\nx['b']\",\n",
              "  \"# non existance element\\n\\nperson['b']\",\n",
              "  'globals()',\n",
              "  'globals()'],\n",
              " '_oh': {4: 'Eric',\n",
              "  11: 100,\n",
              "  12: 529344067295497451,\n",
              "  13: 529344067295497451,\n",
              "  17: {...}},\n",
              " '_dh': ['/content'],\n",
              " 'In': ['',\n",
              "  'd = {\"a\" : 1, \"b\" : 2, \"C\": 3}\\npritn(d)',\n",
              "  'd = {\"a\" : 1, \"b\" : 2, \"C\": 3}\\nprint(d)',\n",
              "  'person = {\\n    \"first_name\" : \"Eric\",\\n    \"last_name\" : \"Idle\",\\n    \"age\" : 73\\n}',\n",
              "  'person[\"first_name\"]',\n",
              "  'person[\"age\"] = 2000',\n",
              "  'print(d)',\n",
              "  'print(person)',\n",
              "  'person[\"Month_Born\"] = \"Jan\"',\n",
              "  'print(person)',\n",
              "  'hash(person)',\n",
              "  'hash(100)',\n",
              "  '# tuple may be hashable or may not be - depends on the type inside a tuple\\n\\nt = (1, 2, 3)\\nhash(t) ',\n",
              "  'tl = (1, 2, [3])\\nhash(t) ',\n",
              "  'tl = (1, 2, [3])\\nhash(tl) ',\n",
              "  \"# non existance element\\n\\nx['b']\",\n",
              "  \"# non existance element\\n\\nperson['b']\",\n",
              "  'globals()',\n",
              "  'globals()'],\n",
              " 'Out': {4: 'Eric',\n",
              "  11: 100,\n",
              "  12: 529344067295497451,\n",
              "  13: 529344067295497451,\n",
              "  17: {...}},\n",
              " 'get_ipython': <bound method InteractiveShell.get_ipython of <google.colab._shell.Shell object at 0x7a9ed1851e10>>,\n",
              " 'exit': <IPython.core.autocall.ZMQExitAutocall at 0x7a9ed18523b0>,\n",
              " 'quit': <IPython.core.autocall.ZMQExitAutocall at 0x7a9ed18523b0>,\n",
              " '_': {...},\n",
              " '__': 529344067295497451,\n",
              " '___': 529344067295497451,\n",
              " '_i': 'globals()',\n",
              " '_ii': \"# non existance element\\n\\nperson['b']\",\n",
              " '_iii': \"# non existance element\\n\\nx['b']\",\n",
              " '_i1': 'd = {\"a\" : 1, \"b\" : 2, \"C\": 3}\\npritn(d)',\n",
              " 'd': {'a': 1, 'b': 2, 'C': 3},\n",
              " '_i2': 'd = {\"a\" : 1, \"b\" : 2, \"C\": 3}\\nprint(d)',\n",
              " '_i3': 'person = {\\n    \"first_name\" : \"Eric\",\\n    \"last_name\" : \"Idle\",\\n    \"age\" : 73\\n}',\n",
              " 'person': {'first_name': 'Eric',\n",
              "  'last_name': 'Idle',\n",
              "  'age': 2000,\n",
              "  'Month_Born': 'Jan'},\n",
              " '_i4': 'person[\"first_name\"]',\n",
              " '_4': 'Eric',\n",
              " '_i5': 'person[\"age\"] = 2000',\n",
              " '_i6': 'print(d)',\n",
              " '_i7': 'print(person)',\n",
              " '_i8': 'person[\"Month_Born\"] = \"Jan\"',\n",
              " '_i9': 'print(person)',\n",
              " '_i10': 'hash(person)',\n",
              " '_i11': 'hash(100)',\n",
              " '_11': 100,\n",
              " '_i12': '# tuple may be hashable or may not be - depends on the type inside a tuple\\n\\nt = (1, 2, 3)\\nhash(t) ',\n",
              " 't': (1, 2, 3),\n",
              " '_12': 529344067295497451,\n",
              " '_i13': 'tl = (1, 2, [3])\\nhash(t) ',\n",
              " 'tl': (1, 2, [3]),\n",
              " '_13': 529344067295497451,\n",
              " '_i14': 'tl = (1, 2, [3])\\nhash(tl) ',\n",
              " '_i15': \"# non existance element\\n\\nx['b']\",\n",
              " '_i16': \"# non existance element\\n\\nperson['b']\",\n",
              " '_i17': 'globals()',\n",
              " '_17': {...},\n",
              " '_i18': 'globals()'}"
            ]
          },
          "metadata": {},
          "execution_count": 18
        }
      ]
    },
    {
      "cell_type": "code",
      "source": [
        "type(globals())"
      ],
      "metadata": {
        "colab": {
          "base_uri": "https://localhost:8080/"
        },
        "id": "r4QMW1Q9DgGu",
        "outputId": "9b6cb781-8dd2-4f05-f37b-82fdb1b86152"
      },
      "execution_count": null,
      "outputs": [
        {
          "output_type": "execute_result",
          "data": {
            "text/plain": [
              "dict"
            ]
          },
          "metadata": {},
          "execution_count": 19
        }
      ]
    },
    {
      "cell_type": "code",
      "source": [
        "# iteration over dict\n",
        "\n",
        "# we can iterate over key value key:values\n",
        "\n",
        "#.keys()\n",
        "#.values()\n",
        "\n",
        "#.items() - keyvalue pairs"
      ],
      "metadata": {
        "id": "NHZd1LohDxGm"
      },
      "execution_count": null,
      "outputs": []
    },
    {
      "cell_type": "code",
      "source": [
        "# insertion order - it has no orders - the iteration order is manintained in new python 3.6 and above.\n",
        "# we do not have indexing in dict"
      ],
      "metadata": {
        "id": "8mKSCXb5ENPu"
      },
      "execution_count": null,
      "outputs": []
    },
    {
      "cell_type": "code",
      "source": [
        "d = {\n",
        "    \"key1\" : 1,\n",
        "    \"key2\" : 2,\n",
        "     3.14 : \"pi\"\n",
        "}"
      ],
      "metadata": {
        "id": "aC6t_KEQFPjv"
      },
      "execution_count": null,
      "outputs": []
    },
    {
      "cell_type": "code",
      "source": [
        "# default keys are the result of a for loop\n",
        "\n",
        "for k in d:\n",
        "  print(k)"
      ],
      "metadata": {
        "colab": {
          "base_uri": "https://localhost:8080/"
        },
        "id": "t851LWocFa7F",
        "outputId": "5cd7251c-816a-47ad-c944-3e25ebefc933"
      },
      "execution_count": null,
      "outputs": [
        {
          "output_type": "stream",
          "name": "stdout",
          "text": [
            "key1\n",
            "key2\n",
            "3.14\n"
          ]
        }
      ]
    },
    {
      "cell_type": "code",
      "source": [
        "for k in d:\n",
        "  print(f'{k} = {d[k]}')"
      ],
      "metadata": {
        "colab": {
          "base_uri": "https://localhost:8080/"
        },
        "id": "GrLlhCNiFdvI",
        "outputId": "a016c68b-f415-470d-f16e-c09786de5e51"
      },
      "execution_count": null,
      "outputs": [
        {
          "output_type": "stream",
          "name": "stdout",
          "text": [
            "key1 = 1\n",
            "key2 = 2\n",
            "3.14 = pi\n"
          ]
        }
      ]
    },
    {
      "cell_type": "code",
      "source": [
        "# only values\n",
        "for v in d.values():\n",
        "  print(v)"
      ],
      "metadata": {
        "colab": {
          "base_uri": "https://localhost:8080/"
        },
        "id": "kWhHd5dcF5pM",
        "outputId": "8ef56b63-7f7d-44cc-90ec-4edff61c6d18"
      },
      "execution_count": null,
      "outputs": [
        {
          "output_type": "stream",
          "name": "stdout",
          "text": [
            "1\n",
            "2\n",
            "pi\n"
          ]
        }
      ]
    },
    {
      "cell_type": "code",
      "source": [
        "# key and value\n",
        "for k,v in d.items():\n",
        "  print(f'{k} = {v}')"
      ],
      "metadata": {
        "colab": {
          "base_uri": "https://localhost:8080/"
        },
        "id": "QuQK_BDiF-94",
        "outputId": "63ea8db7-6ace-42ad-98e0-3126fc28209e"
      },
      "execution_count": null,
      "outputs": [
        {
          "output_type": "stream",
          "name": "stdout",
          "text": [
            "key1 = 1\n",
            "key2 = 2\n",
            "3.14 = pi\n"
          ]
        }
      ]
    },
    {
      "cell_type": "markdown",
      "source": [
        "# **order of insertion = order of iteration**"
      ],
      "metadata": {
        "id": "mV1h0R2DGm3B"
      }
    },
    {
      "cell_type": "code",
      "source": [
        "del d[\"key1\"]"
      ],
      "metadata": {
        "id": "VF-ODd1mGqRZ"
      },
      "execution_count": null,
      "outputs": []
    },
    {
      "cell_type": "code",
      "source": [
        "d[\"key1\"] = 100"
      ],
      "metadata": {
        "id": "WZo5sESQHDd1"
      },
      "execution_count": null,
      "outputs": []
    },
    {
      "cell_type": "code",
      "source": [
        "print(d)"
      ],
      "metadata": {
        "colab": {
          "base_uri": "https://localhost:8080/"
        },
        "id": "birqvxlwHGOD",
        "outputId": "497719a5-7f1f-450b-d560-8ddcc5179459"
      },
      "execution_count": null,
      "outputs": [
        {
          "output_type": "stream",
          "name": "stdout",
          "text": [
            "{'key2': 2, 3.14: 'pi', 'key1': 100}\n"
          ]
        }
      ]
    },
    {
      "cell_type": "markdown",
      "source": [
        "# membership operation\n",
        "\n",
        "can check is the key is present in dict or not - in\n",
        "\n",
        "d.clear() - removes all the elements from the dict\n",
        "\n",
        "d.copy()\n",
        "\n",
        "d.deepcopy()\n",
        "\n",
        "d.len() - how many items in dict\n",
        "\n",
        "dict('a'=1,'b'=2)\n",
        "\n",
        "d.fromkeys([\"a\",\"b\"],0)\n",
        "\n",
        "dict are mutable\n",
        "\n",
        "get() - takes key - get values , default is None if the key does not exists\n",
        "\n",
        ".update() - inserts if not present else its updates\n",
        "\n"
      ],
      "metadata": {
        "id": "_WuoI3ymHTDd"
      }
    },
    {
      "cell_type": "code",
      "source": [
        "dataa = {\n",
        "    'open' : 100,\n",
        "    'high' : 200,\n",
        "    'low' : 300,\n",
        "    'close' : 400\n",
        "}"
      ],
      "metadata": {
        "id": "J2CgwU0tHlPc"
      },
      "execution_count": null,
      "outputs": []
    },
    {
      "cell_type": "code",
      "source": [
        "'open' in dataa"
      ],
      "metadata": {
        "colab": {
          "base_uri": "https://localhost:8080/"
        },
        "id": "cUz2PefuKhTb",
        "outputId": "d8f38f36-9d71-4ca9-cff2-3a4ea4af6646"
      },
      "execution_count": null,
      "outputs": [
        {
          "output_type": "execute_result",
          "data": {
            "text/plain": [
              "True"
            ]
          },
          "metadata": {},
          "execution_count": 38
        }
      ]
    },
    {
      "cell_type": "code",
      "source": [
        "\"open\" not in dataa"
      ],
      "metadata": {
        "colab": {
          "base_uri": "https://localhost:8080/"
        },
        "id": "4ICURp6zKl3U",
        "outputId": "939a285c-3bb9-4bd6-fd75-3747e6705de5"
      },
      "execution_count": null,
      "outputs": [
        {
          "output_type": "execute_result",
          "data": {
            "text/plain": [
              "False"
            ]
          },
          "metadata": {},
          "execution_count": 39
        }
      ]
    },
    {
      "cell_type": "code",
      "source": [
        "'x' not in dataa"
      ],
      "metadata": {
        "colab": {
          "base_uri": "https://localhost:8080/"
        },
        "id": "WOn-lGlRKrpP",
        "outputId": "c1cef195-5c95-493a-e694-847c9e1a1746"
      },
      "execution_count": null,
      "outputs": [
        {
          "output_type": "execute_result",
          "data": {
            "text/plain": [
              "True"
            ]
          },
          "metadata": {},
          "execution_count": 41
        }
      ]
    },
    {
      "cell_type": "code",
      "source": [
        "dataa.clear()"
      ],
      "metadata": {
        "id": "NaoMOaomKt1K"
      },
      "execution_count": null,
      "outputs": []
    },
    {
      "cell_type": "code",
      "source": [
        "dataa"
      ],
      "metadata": {
        "colab": {
          "base_uri": "https://localhost:8080/"
        },
        "id": "vDDOUVhSLCB2",
        "outputId": "1089a1fc-e778-4e04-fc29-5eff09e09062"
      },
      "execution_count": null,
      "outputs": [
        {
          "output_type": "execute_result",
          "data": {
            "text/plain": [
              "{}"
            ]
          },
          "metadata": {},
          "execution_count": 44
        }
      ]
    },
    {
      "cell_type": "code",
      "source": [
        "len(dataa)"
      ],
      "metadata": {
        "colab": {
          "base_uri": "https://localhost:8080/"
        },
        "id": "GSrD7uyeLE68",
        "outputId": "3d7f231c-a639-4a54-a918-4231c634f7f3"
      },
      "execution_count": null,
      "outputs": [
        {
          "output_type": "execute_result",
          "data": {
            "text/plain": [
              "4"
            ]
          },
          "metadata": {},
          "execution_count": 46
        }
      ]
    },
    {
      "cell_type": "code",
      "source": [
        "a = dataa.copy()"
      ],
      "metadata": {
        "id": "lcRq_K6LLHdO"
      },
      "execution_count": null,
      "outputs": []
    },
    {
      "cell_type": "code",
      "source": [
        "print(a)"
      ],
      "metadata": {
        "colab": {
          "base_uri": "https://localhost:8080/"
        },
        "id": "jakxlybkLTp7",
        "outputId": "2d5a5a78-f518-49bf-a0dd-976aec66e0fb"
      },
      "execution_count": null,
      "outputs": [
        {
          "output_type": "stream",
          "name": "stdout",
          "text": [
            "{'open': 100, 'high': 200, 'low': 300, 'close': 400}\n"
          ]
        }
      ]
    },
    {
      "cell_type": "code",
      "source": [
        "a['open'] = 1000"
      ],
      "metadata": {
        "id": "1_9OpG1fLVlV"
      },
      "execution_count": null,
      "outputs": []
    },
    {
      "cell_type": "code",
      "source": [
        "print(dataa)"
      ],
      "metadata": {
        "colab": {
          "base_uri": "https://localhost:8080/"
        },
        "id": "YG6VbypWLaz3",
        "outputId": "f15ce376-93c3-4f2d-cf43-1571484b9e6c"
      },
      "execution_count": null,
      "outputs": [
        {
          "output_type": "stream",
          "name": "stdout",
          "text": [
            "{'open': 100, 'high': 200, 'low': 300, 'close': 400}\n"
          ]
        }
      ]
    },
    {
      "cell_type": "code",
      "source": [
        "a[\"previous\"] = 150"
      ],
      "metadata": {
        "id": "x5x8bj0YLcZc"
      },
      "execution_count": null,
      "outputs": []
    },
    {
      "cell_type": "code",
      "source": [
        "print(a)"
      ],
      "metadata": {
        "colab": {
          "base_uri": "https://localhost:8080/"
        },
        "id": "aDux6QEfLxmY",
        "outputId": "ce8a7ebf-1f09-4c2e-d056-4c0eeab9c147"
      },
      "execution_count": null,
      "outputs": [
        {
          "output_type": "stream",
          "name": "stdout",
          "text": [
            "{'open': 1000, 'high': 200, 'low': 300, 'close': 400, 'previous': 150}\n"
          ]
        }
      ]
    },
    {
      "cell_type": "code",
      "source": [
        "a = dict(open=100,close=200)"
      ],
      "metadata": {
        "id": "HKKDw0UlLydl"
      },
      "execution_count": null,
      "outputs": []
    },
    {
      "cell_type": "code",
      "source": [
        "print(a)"
      ],
      "metadata": {
        "colab": {
          "base_uri": "https://localhost:8080/"
        },
        "id": "Y6zT_9mvMpQ8",
        "outputId": "108e960a-19b4-41c7-d3e0-c697e32b1631"
      },
      "execution_count": null,
      "outputs": [
        {
          "output_type": "stream",
          "name": "stdout",
          "text": [
            "{'open': 100, 'close': 200}\n"
          ]
        }
      ]
    },
    {
      "cell_type": "code",
      "source": [
        "type(a)"
      ],
      "metadata": {
        "colab": {
          "base_uri": "https://localhost:8080/"
        },
        "id": "Ux0D4V-FMwHn",
        "outputId": "225beae0-14ff-4f5d-8365-53b51bd1b11b"
      },
      "execution_count": null,
      "outputs": [
        {
          "output_type": "execute_result",
          "data": {
            "text/plain": [
              "dict"
            ]
          },
          "metadata": {},
          "execution_count": 56
        }
      ]
    },
    {
      "cell_type": "code",
      "source": [
        "a.fromkeys([\"a\",\"b\"],100)"
      ],
      "metadata": {
        "colab": {
          "base_uri": "https://localhost:8080/"
        },
        "id": "4AzI-m_zMzWq",
        "outputId": "054fc010-447d-4477-d93e-e1af0323ab95"
      },
      "execution_count": null,
      "outputs": [
        {
          "output_type": "execute_result",
          "data": {
            "text/plain": [
              "{'a': 100, 'b': 100}"
            ]
          },
          "metadata": {},
          "execution_count": 57
        }
      ]
    },
    {
      "cell_type": "code",
      "source": [
        "print(a)"
      ],
      "metadata": {
        "colab": {
          "base_uri": "https://localhost:8080/"
        },
        "id": "qZ3tWaVDM7WM",
        "outputId": "a00772ae-767f-4388-fc01-ddc45c0f1712"
      },
      "execution_count": null,
      "outputs": [
        {
          "output_type": "stream",
          "name": "stdout",
          "text": [
            "{'open': 100, 'close': 200}\n"
          ]
        }
      ]
    },
    {
      "cell_type": "code",
      "source": [
        "symb = ['apple','microsoft','google','apple','microsoft']"
      ],
      "metadata": {
        "id": "-p2671nWM9Ze"
      },
      "execution_count": 3,
      "outputs": []
    },
    {
      "cell_type": "code",
      "source": [
        "d= dict.fromkeys(symb,0)\n",
        "print(d)"
      ],
      "metadata": {
        "colab": {
          "base_uri": "https://localhost:8080/"
        },
        "id": "QfkzG0eVOk5K",
        "outputId": "09eff356-133c-43c2-ecb9-73e774c202b9"
      },
      "execution_count": 4,
      "outputs": [
        {
          "output_type": "stream",
          "name": "stdout",
          "text": [
            "{'apple': 0, 'microsoft': 0, 'google': 0}\n"
          ]
        }
      ]
    },
    {
      "cell_type": "code",
      "source": [
        "list[d.keys()]"
      ],
      "metadata": {
        "id": "C7ZNPaj3OpGx",
        "colab": {
          "base_uri": "https://localhost:8080/"
        },
        "outputId": "d4bb5f58-1001-475e-ad62-a0ca9ba57b24"
      },
      "execution_count": 6,
      "outputs": [
        {
          "output_type": "execute_result",
          "data": {
            "text/plain": [
              "list[dict_keys(['apple', 'microsoft', 'google'])]"
            ]
          },
          "metadata": {},
          "execution_count": 6
        }
      ]
    },
    {
      "cell_type": "code",
      "source": [
        "d = dict.fromkeys(\"Python is awsome\",0)"
      ],
      "metadata": {
        "id": "12L9WIVT1cI3"
      },
      "execution_count": 7,
      "outputs": []
    },
    {
      "cell_type": "code",
      "source": [
        "print(d)"
      ],
      "metadata": {
        "colab": {
          "base_uri": "https://localhost:8080/"
        },
        "id": "JmwQmVU71utR",
        "outputId": "256f80c0-d072-4104-d1b2-44c503eb7d40"
      },
      "execution_count": 10,
      "outputs": [
        {
          "output_type": "stream",
          "name": "stdout",
          "text": [
            "{'P': 0, 'y': 0, 't': 0, 'h': 0, 'o': 0, 'n': 0, ' ': 0, 'i': 0, 's': 0, 'a': 0, 'w': 0, 'm': 0, 'e': 0}\n"
          ]
        }
      ]
    },
    {
      "cell_type": "code",
      "source": [
        "transactions = [\n",
        "    {'item': 'widget', 'trans_type': 'sale', 'quantity': 10},\n",
        "    {'item': 'widget', 'trans_type': 'sale', 'quantity': 5},\n",
        "    {'item': 'widget', 'trans_type': 'refund', 'quantity': 2},\n",
        "    {'item': 'license', 'trans_type': 'sale', 'quantity': 1},\n",
        "    {'item': 'license', 'trans_type': 'sale', 'quantity': 1},\n",
        "    {'item': 'license', 'trans_type': 'refund', 'quantity': 1},\n",
        "]"
      ],
      "metadata": {
        "id": "_9sHJONy1vcU"
      },
      "execution_count": 12,
      "outputs": []
    },
    {
      "cell_type": "code",
      "source": [
        "d = {}\n",
        "\n",
        "for i in transactions:\n",
        "  #print(i['item'],i['quantity'],i['trans_type'])\n",
        "  item = i['item']\n",
        "  is_sale = True if i['trans_type'] == 'sale' else False\n",
        "  quantity = i['quantity']\n",
        "\n",
        "  print(item,is_sale,quantity)\n",
        "\n",
        "  if is_sale:\n",
        "    d[item] = d.get(item,0) + quantity\n",
        "  else:\n",
        "    d[item] = d.get(item,0) - quantity\n",
        "\n",
        "print(d)\n"
      ],
      "metadata": {
        "colab": {
          "base_uri": "https://localhost:8080/"
        },
        "id": "liGkHdu754tm",
        "outputId": "ee9409ac-42a1-4772-ff6d-3c02d8c95e14"
      },
      "execution_count": 24,
      "outputs": [
        {
          "output_type": "stream",
          "name": "stdout",
          "text": [
            "widget True 10\n",
            "widget True 5\n",
            "widget False 2\n",
            "license True 1\n",
            "license True 1\n",
            "license False 1\n",
            "{'widget': 13, 'license': 1}\n"
          ]
        }
      ]
    },
    {
      "cell_type": "code",
      "source": [
        "# merging to dict\n",
        "\n",
        "a = dict(a=1,b=2,c =3)\n",
        "b = dict(b=4,c=5,d=6)\n",
        "\n",
        "a.update(b)\n",
        "print(a)"
      ],
      "metadata": {
        "colab": {
          "base_uri": "https://localhost:8080/"
        },
        "id": "7w_Tc4M06X71",
        "outputId": "2f61bad8-dfd2-496e-fc5a-2501ae3a1fc3"
      },
      "execution_count": 26,
      "outputs": [
        {
          "output_type": "stream",
          "name": "stdout",
          "text": [
            "{'a': 1, 'b': 4, 'c': 5, 'd': 6}\n"
          ]
        }
      ]
    },
    {
      "cell_type": "code",
      "source": [],
      "metadata": {
        "id": "g4L_Mi1p-_cv"
      },
      "execution_count": null,
      "outputs": []
    }
  ]
}