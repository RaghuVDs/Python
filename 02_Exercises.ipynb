{
  "cells": [
    {
      "cell_type": "markdown",
      "metadata": {
        "id": "view-in-github",
        "colab_type": "text"
      },
      "source": [
        "<a href=\"https://colab.research.google.com/github/RaghuVDs/Python/blob/main/02_Exercises.ipynb\" target=\"_parent\"><img src=\"https://colab.research.google.com/assets/colab-badge.svg\" alt=\"Open In Colab\"/></a>"
      ]
    },
    {
      "cell_type": "markdown",
      "id": "sensitive-saint",
      "metadata": {
        "id": "sensitive-saint"
      },
      "source": [
        "### Exercises"
      ]
    },
    {
      "cell_type": "markdown",
      "id": "particular-humidity",
      "metadata": {
        "id": "particular-humidity"
      },
      "source": [
        "#### Exercise 1"
      ]
    },
    {
      "cell_type": "markdown",
      "id": "trained-masters",
      "metadata": {
        "id": "trained-masters"
      },
      "source": [
        "Given a variable `a` (containing any value), re-assign the value `\"N/A\"` if `a` is `None`, and leave `a` unchanged otherwise. Use an `if...else...` statement."
      ]
    },
    {
      "cell_type": "code",
      "source": [
        "a = 10\n",
        "\n",
        "if a is None:\n",
        "  a = \"N/a\"\n",
        "else:\n",
        "  a\n",
        "\n",
        "print(a)"
      ],
      "metadata": {
        "colab": {
          "base_uri": "https://localhost:8080/"
        },
        "id": "VNoBbZPKnM4A",
        "outputId": "0bdf90fa-439e-4057-9a90-91cba75f1bc4"
      },
      "id": "VNoBbZPKnM4A",
      "execution_count": 2,
      "outputs": [
        {
          "output_type": "stream",
          "name": "stdout",
          "text": [
            "N/a\n"
          ]
        }
      ]
    },
    {
      "cell_type": "markdown",
      "id": "growing-acoustic",
      "metadata": {
        "id": "growing-acoustic"
      },
      "source": [
        "#### Exercise 2"
      ]
    },
    {
      "cell_type": "markdown",
      "id": "hazardous-formula",
      "metadata": {
        "id": "hazardous-formula"
      },
      "source": [
        "Do the same thing as Question 1, but this time use a ternary operator."
      ]
    },
    {
      "cell_type": "code",
      "source": [
        "a = None\n",
        "\n",
        "a = \"N/A\" if a is None else a\n",
        "\n",
        "print(a)"
      ],
      "metadata": {
        "colab": {
          "base_uri": "https://localhost:8080/"
        },
        "id": "j6BBk73FoCPH",
        "outputId": "1c6b9cd0-0e03-48ec-ec61-fa5753e2dcda"
      },
      "id": "j6BBk73FoCPH",
      "execution_count": 5,
      "outputs": [
        {
          "output_type": "stream",
          "name": "stdout",
          "text": [
            "N/A\n"
          ]
        }
      ]
    },
    {
      "cell_type": "markdown",
      "id": "seasonal-bronze",
      "metadata": {
        "id": "seasonal-bronze"
      },
      "source": [
        "#### Exercise 3"
      ]
    },
    {
      "cell_type": "markdown",
      "id": "atomic-authority",
      "metadata": {
        "id": "atomic-authority"
      },
      "source": [
        "Given an credit score `score`, assign a string value to another variable `rating` based on the following scale:\n",
        "\n",
        "- [0, 580) --> Poor\n",
        "- [580, 670) --> Fair\n",
        "- [670, 740) --> Good\n",
        "- [740, 800) --> Very Good\n",
        "- [800, 850] --> Excellent\n"
      ]
    },
    {
      "cell_type": "code",
      "source": [
        "score = 579\n",
        "\n",
        "if score >= 580:\n",
        "  rating = \"Fair\"\n",
        "elif score >= 670:\n",
        "  rating = \"Good\"\n",
        "elif score >= 740:\n",
        "  rating = \"Very Good\"\n",
        "elif score >=800:\n",
        "  rating = \"Excellent\"\n",
        "else:\n",
        "  rating = \"Poor\"\n",
        "\n",
        "print(rating)"
      ],
      "metadata": {
        "colab": {
          "base_uri": "https://localhost:8080/"
        },
        "id": "HpTUa0r0oS7v",
        "outputId": "f07be067-103a-445b-a8e3-732fc7b75a0f"
      },
      "id": "HpTUa0r0oS7v",
      "execution_count": 9,
      "outputs": [
        {
          "output_type": "stream",
          "name": "stdout",
          "text": [
            "Poor\n"
          ]
        }
      ]
    },
    {
      "cell_type": "markdown",
      "id": "fiscal-estate",
      "metadata": {
        "id": "fiscal-estate"
      },
      "source": [
        "#### Exercise 4"
      ]
    },
    {
      "cell_type": "markdown",
      "id": "overhead-candidate",
      "metadata": {
        "id": "overhead-candidate"
      },
      "source": [
        "Given an `elapsed` time (in seconds), write code to set a variable `magnitude` based on the following conditions:\n",
        "\n",
        "- if elapsed time is less than 1 minute, `magnitude` --> `'seconds'`\n",
        "- if elapsed time is more than 1 minute, but less than 1 hour, `magnitude` --> `'minutes'`\n",
        "- if elapsed time is more than 1 hour, but less than 1 day, `magnitude` --> `'hours'`\n",
        "- if elapsed time is more than 1 day, but less than 1 week: `magnitude` --> `'days'`\n",
        "- if elapsed time is more than 1 week, `magnitude` --> '`weeks'`"
      ]
    },
    {
      "cell_type": "code",
      "source": [
        "sec= 60\n",
        "sec_min = 60 * sec\n",
        "sec_hour = 60 * sec_min\n",
        "sec_day = 24 * sec_hour\n",
        "sec_week = 7 * sec_day"
      ],
      "metadata": {
        "id": "EY4-B6edpqqo"
      },
      "id": "EY4-B6edpqqo",
      "execution_count": 69,
      "outputs": []
    },
    {
      "cell_type": "code",
      "source": [
        "elapsed = 3 * 7 * 24 * 60 * 60\n",
        "\n",
        "if elapsed < sec:\n",
        "  magnitude = \"Seconds\"\n",
        "elif elapsed < sec_min:\n",
        "  magnitude = \"Minutes\"\n",
        "elif elapsed < sec_hour:\n",
        "  magnitude = \"Hours\"\n",
        "elif elapsed < sec_day:\n",
        "  magnitude = \"days\"\n",
        "else:\n",
        "  magnitude = \"Weeks\"\n",
        "\n",
        "print(magnitude)"
      ],
      "metadata": {
        "colab": {
          "base_uri": "https://localhost:8080/"
        },
        "id": "bdsEoyJ-qEH-",
        "outputId": "4f4c3894-4263-404c-8707-c3e1f39acc58"
      },
      "id": "bdsEoyJ-qEH-",
      "execution_count": 71,
      "outputs": [
        {
          "output_type": "stream",
          "name": "stdout",
          "text": [
            "days\n"
          ]
        }
      ]
    },
    {
      "cell_type": "code",
      "source": [],
      "metadata": {
        "id": "YPId4ueUx5aW"
      },
      "id": "YPId4ueUx5aW",
      "execution_count": null,
      "outputs": []
    }
  ],
  "metadata": {
    "kernelspec": {
      "display_name": "Python 3",
      "language": "python",
      "name": "python3"
    },
    "language_info": {
      "codemirror_mode": {
        "name": "ipython",
        "version": 3
      },
      "file_extension": ".py",
      "mimetype": "text/x-python",
      "name": "python",
      "nbconvert_exporter": "python",
      "pygments_lexer": "ipython3",
      "version": "3.9.1"
    },
    "colab": {
      "provenance": [],
      "include_colab_link": true
    }
  },
  "nbformat": 4,
  "nbformat_minor": 5
}