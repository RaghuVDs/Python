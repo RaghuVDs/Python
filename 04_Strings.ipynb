{
  "nbformat": 4,
  "nbformat_minor": 0,
  "metadata": {
    "colab": {
      "provenance": [],
      "authorship_tag": "ABX9TyM4Tq3iHVdRU0Jt9WDgxZug",
      "include_colab_link": true
    },
    "kernelspec": {
      "name": "python3",
      "display_name": "Python 3"
    },
    "language_info": {
      "name": "python"
    }
  },
  "cells": [
    {
      "cell_type": "markdown",
      "metadata": {
        "id": "view-in-github",
        "colab_type": "text"
      },
      "source": [
        "<a href=\"https://colab.research.google.com/github/RaghuVDs/Python/blob/main/04_Strings.ipynb\" target=\"_parent\"><img src=\"https://colab.research.google.com/assets/colab-badge.svg\" alt=\"Open In Colab\"/></a>"
      ]
    },
    {
      "cell_type": "markdown",
      "source": [
        "# **Strings**\n",
        "unicode transformation format\n",
        "\n",
        "\n"
      ],
      "metadata": {
        "id": "DhQZf0HqOee3"
      }
    },
    {
      "cell_type": "code",
      "execution_count": 1,
      "metadata": {
        "colab": {
          "base_uri": "https://localhost:8080/"
        },
        "id": "0MT0foq-Oa3f",
        "outputId": "454e6458-6d0b-40a0-b80e-da6a26434739"
      },
      "outputs": [
        {
          "output_type": "execute_result",
          "data": {
            "text/plain": [
              "65"
            ]
          },
          "metadata": {},
          "execution_count": 1
        }
      ],
      "source": [
        "ord(\"A\")"
      ]
    },
    {
      "cell_type": "code",
      "source": [
        "ord(\"*\")"
      ],
      "metadata": {
        "colab": {
          "base_uri": "https://localhost:8080/"
        },
        "id": "C4IH6CneRGgA",
        "outputId": "710f3aaf-6571-403f-c504-51e585f954fc"
      },
      "execution_count": 2,
      "outputs": [
        {
          "output_type": "execute_result",
          "data": {
            "text/plain": [
              "42"
            ]
          },
          "metadata": {},
          "execution_count": 2
        }
      ]
    },
    {
      "cell_type": "code",
      "source": [
        "hex(ord(\">\"))"
      ],
      "metadata": {
        "colab": {
          "base_uri": "https://localhost:8080/",
          "height": 36
        },
        "id": "XYMQY-BlRdB0",
        "outputId": "e1f411e1-4ae2-44b2-e8bd-83ede8c2227e"
      },
      "execution_count": 9,
      "outputs": [
        {
          "output_type": "execute_result",
          "data": {
            "text/plain": [
              "'0x3e'"
            ],
            "application/vnd.google.colaboratory.intrinsic+json": {
              "type": "string"
            }
          },
          "metadata": {},
          "execution_count": 9
        }
      ]
    },
    {
      "cell_type": "code",
      "source": [
        "int('3b1',16)"
      ],
      "metadata": {
        "colab": {
          "base_uri": "https://localhost:8080/"
        },
        "id": "xM3DhsE9RgGA",
        "outputId": "80f93133-3893-43ed-fbed-3f87f6b0419d"
      },
      "execution_count": 11,
      "outputs": [
        {
          "output_type": "execute_result",
          "data": {
            "text/plain": [
              "945"
            ]
          },
          "metadata": {},
          "execution_count": 11
        }
      ]
    },
    {
      "cell_type": "markdown",
      "source": [
        "# **common string methods**\n",
        "\n",
        "string.method()\n",
        "\n",
        "strings are not mutable - so they return a new string."
      ],
      "metadata": {
        "id": "T78g_haoSlzq"
      }
    },
    {
      "cell_type": "markdown",
      "source": [
        "# upper\n",
        "# lower\n",
        "# Title case\n",
        "# casefold() - used to compare\n",
        "\n",
        "# strip - removes whitespaces also it can strip chars\n",
        "1. ltrip\n",
        "2. rstrip\n",
        "\n",
        "# concatination - joining 2 strings\n",
        "\n",
        "# split - used to split based on delimiter\n",
        "1. lsplit\n",
        "2. Rsplit\n",
        "\n",
        "# join - based on delimiter\n",
        "\n",
        "# in - used to find substring\n",
        "\n",
        "# startswith\n",
        "# endswith\n",
        "\n",
        "# index - find the index of a substring - if not present it raises an exception\n",
        "\n",
        "# find - does not raises an exception\n",
        "\n"
      ],
      "metadata": {
        "id": "pvW9rNihUe0q"
      }
    },
    {
      "cell_type": "code",
      "source": [
        "# cases\n",
        "\n",
        "case_mapping = \"Hello World. I am a string\""
      ],
      "metadata": {
        "id": "pQXzwLjYR5Gs"
      },
      "execution_count": 46,
      "outputs": []
    },
    {
      "cell_type": "code",
      "source": [
        "u = case_mapping.upper()\n",
        "u"
      ],
      "metadata": {
        "colab": {
          "base_uri": "https://localhost:8080/",
          "height": 36
        },
        "id": "O9k4RXegTx2w",
        "outputId": "ebe9b94f-6d96-433d-a012-67caf5e76887"
      },
      "execution_count": 18,
      "outputs": [
        {
          "output_type": "execute_result",
          "data": {
            "text/plain": [
              "'HELLO WORLD. I AM A STRING'"
            ],
            "application/vnd.google.colaboratory.intrinsic+json": {
              "type": "string"
            }
          },
          "metadata": {},
          "execution_count": 18
        }
      ]
    },
    {
      "cell_type": "code",
      "source": [
        "l = case_mapping.lower()\n",
        "l"
      ],
      "metadata": {
        "colab": {
          "base_uri": "https://localhost:8080/",
          "height": 36
        },
        "id": "Ds8oNPJfV7Wf",
        "outputId": "302cfc69-60f0-44ea-ab54-89077d07c25e"
      },
      "execution_count": 19,
      "outputs": [
        {
          "output_type": "execute_result",
          "data": {
            "text/plain": [
              "'hello world. i am a string'"
            ],
            "application/vnd.google.colaboratory.intrinsic+json": {
              "type": "string"
            }
          },
          "metadata": {},
          "execution_count": 19
        }
      ]
    },
    {
      "cell_type": "code",
      "source": [
        "t = case_mapping.title()\n",
        "t"
      ],
      "metadata": {
        "colab": {
          "base_uri": "https://localhost:8080/",
          "height": 36
        },
        "id": "iOJ6JKo0WAjd",
        "outputId": "be44d3e3-f86e-428e-8a1e-47b5daf3fcd5"
      },
      "execution_count": 20,
      "outputs": [
        {
          "output_type": "execute_result",
          "data": {
            "text/plain": [
              "'Hello World. I Am A String'"
            ],
            "application/vnd.google.colaboratory.intrinsic+json": {
              "type": "string"
            }
          },
          "metadata": {},
          "execution_count": 20
        }
      ]
    },
    {
      "cell_type": "code",
      "source": [
        "u.casefold() ==  l.casefold() # use it only for string comparission"
      ],
      "metadata": {
        "colab": {
          "base_uri": "https://localhost:8080/"
        },
        "id": "1wgEY37VWEET",
        "outputId": "95718cdf-d445-4473-ee4d-c4980b3e3e89"
      },
      "execution_count": 24,
      "outputs": [
        {
          "output_type": "execute_result",
          "data": {
            "text/plain": [
              "True"
            ]
          },
          "metadata": {},
          "execution_count": 24
        }
      ]
    },
    {
      "cell_type": "code",
      "source": [
        "u.casefold(),l.casefold()"
      ],
      "metadata": {
        "colab": {
          "base_uri": "https://localhost:8080/"
        },
        "id": "nhYkSYdeWcwZ",
        "outputId": "97a9a02e-1074-4edd-ce76-64e2f50a710a"
      },
      "execution_count": 26,
      "outputs": [
        {
          "output_type": "execute_result",
          "data": {
            "text/plain": [
              "('hello world. i am a string', 'hello world. i am a string')"
            ]
          },
          "metadata": {},
          "execution_count": 26
        }
      ]
    },
    {
      "cell_type": "code",
      "source": [
        "# strip\n",
        "\n",
        "strip = \"ababHello World  \""
      ],
      "metadata": {
        "id": "kDfHeshfXI4W"
      },
      "execution_count": 39,
      "outputs": []
    },
    {
      "cell_type": "code",
      "source": [
        "strip.strip()"
      ],
      "metadata": {
        "colab": {
          "base_uri": "https://localhost:8080/",
          "height": 36
        },
        "id": "QI_pz5MXYXsf",
        "outputId": "ca5ddda6-fd05-47f4-f72a-41f67a5f7950"
      },
      "execution_count": 40,
      "outputs": [
        {
          "output_type": "execute_result",
          "data": {
            "text/plain": [
              "'ababHello World'"
            ],
            "application/vnd.google.colaboratory.intrinsic+json": {
              "type": "string"
            }
          },
          "metadata": {},
          "execution_count": 40
        }
      ]
    },
    {
      "cell_type": "code",
      "source": [
        "strip.lstrip()"
      ],
      "metadata": {
        "colab": {
          "base_uri": "https://localhost:8080/",
          "height": 36
        },
        "id": "RaopiEL1YaLD",
        "outputId": "f10a19c0-b675-40c8-fb1d-c6ca883cd525"
      },
      "execution_count": 41,
      "outputs": [
        {
          "output_type": "execute_result",
          "data": {
            "text/plain": [
              "'ababHello World  '"
            ],
            "application/vnd.google.colaboratory.intrinsic+json": {
              "type": "string"
            }
          },
          "metadata": {},
          "execution_count": 41
        }
      ]
    },
    {
      "cell_type": "code",
      "source": [
        "strip.rstrip()"
      ],
      "metadata": {
        "colab": {
          "base_uri": "https://localhost:8080/",
          "height": 36
        },
        "id": "hlbg3QScYcx1",
        "outputId": "637de9af-d8ed-4884-be64-a782a7dc5356"
      },
      "execution_count": 42,
      "outputs": [
        {
          "output_type": "execute_result",
          "data": {
            "text/plain": [
              "'ababHello World'"
            ],
            "application/vnd.google.colaboratory.intrinsic+json": {
              "type": "string"
            }
          },
          "metadata": {},
          "execution_count": 42
        }
      ]
    },
    {
      "cell_type": "code",
      "source": [
        "strip.strip(\"ab\")"
      ],
      "metadata": {
        "colab": {
          "base_uri": "https://localhost:8080/",
          "height": 36
        },
        "id": "XfXyBctHYfBI",
        "outputId": "2d45c13b-8427-4f22-e820-777e68a96044"
      },
      "execution_count": 43,
      "outputs": [
        {
          "output_type": "execute_result",
          "data": {
            "text/plain": [
              "'Hello World  '"
            ],
            "application/vnd.google.colaboratory.intrinsic+json": {
              "type": "string"
            }
          },
          "metadata": {},
          "execution_count": 43
        }
      ]
    },
    {
      "cell_type": "code",
      "source": [
        "# concatination\n",
        "\"hello\" + \"world\"\n"
      ],
      "metadata": {
        "colab": {
          "base_uri": "https://localhost:8080/",
          "height": 36
        },
        "id": "5AaI7-PxY5Xu",
        "outputId": "be3f9c3c-9814-4c9b-ba9c-b9bce95374e6"
      },
      "execution_count": 52,
      "outputs": [
        {
          "output_type": "execute_result",
          "data": {
            "text/plain": [
              "'helloworld'"
            ],
            "application/vnd.google.colaboratory.intrinsic+json": {
              "type": "string"
            }
          },
          "metadata": {},
          "execution_count": 52
        }
      ]
    },
    {
      "cell_type": "code",
      "source": [
        "# split\n",
        "split = \"john,peter,marry\"\n",
        "\n",
        "split.split(\",\")"
      ],
      "metadata": {
        "colab": {
          "base_uri": "https://localhost:8080/"
        },
        "id": "Pf3Nw_HXZPqb",
        "outputId": "30f3b804-f090-4635-9568-9829e53c2a24"
      },
      "execution_count": 55,
      "outputs": [
        {
          "output_type": "execute_result",
          "data": {
            "text/plain": [
              "['john', 'peter', 'marry']"
            ]
          },
          "metadata": {},
          "execution_count": 55
        }
      ]
    },
    {
      "cell_type": "code",
      "source": [
        "# sequence unpacking\n",
        "first,last,middle = split.split(\",\")\n",
        "\n",
        "print(first,last,middle)"
      ],
      "metadata": {
        "colab": {
          "base_uri": "https://localhost:8080/"
        },
        "id": "fg3YUMjAZ0t_",
        "outputId": "3663c710-54f4-4f98-b141-33792f86ae69"
      },
      "execution_count": 58,
      "outputs": [
        {
          "output_type": "stream",
          "name": "stdout",
          "text": [
            "john peter marry\n"
          ]
        }
      ]
    },
    {
      "cell_type": "code",
      "source": [
        "# join\n",
        "\n",
        "\"__\".join(split.split(\",\"))"
      ],
      "metadata": {
        "colab": {
          "base_uri": "https://localhost:8080/",
          "height": 36
        },
        "id": "RF29XuuTZ_F-",
        "outputId": "e72c4677-c97a-4aa0-c1b0-73898c0a9fb0"
      },
      "execution_count": 61,
      "outputs": [
        {
          "output_type": "execute_result",
          "data": {
            "text/plain": [
              "'john__peter__marry'"
            ],
            "application/vnd.google.colaboratory.intrinsic+json": {
              "type": "string"
            }
          },
          "metadata": {},
          "execution_count": 61
        }
      ]
    },
    {
      "cell_type": "code",
      "source": [
        "# in\n",
        "\n",
        "string_in = \" my name is john\"\n",
        "\n",
        "\"john\".casefold() in string_in.casefold()"
      ],
      "metadata": {
        "colab": {
          "base_uri": "https://localhost:8080/"
        },
        "id": "mIB8sjKraQTI",
        "outputId": "e5ecea3d-a35c-4195-d977-548bbd1caa89"
      },
      "execution_count": 73,
      "outputs": [
        {
          "output_type": "execute_result",
          "data": {
            "text/plain": [
              "True"
            ]
          },
          "metadata": {},
          "execution_count": 73
        }
      ]
    },
    {
      "cell_type": "code",
      "source": [
        "'abc' in (\"abc\", \"abs\")"
      ],
      "metadata": {
        "colab": {
          "base_uri": "https://localhost:8080/"
        },
        "id": "9qlhgwFBanfQ",
        "outputId": "4e75c251-ec19-45f2-cb1d-8ea8ea42c836"
      },
      "execution_count": 74,
      "outputs": [
        {
          "output_type": "execute_result",
          "data": {
            "text/plain": [
              "True"
            ]
          },
          "metadata": {},
          "execution_count": 74
        }
      ]
    },
    {
      "cell_type": "code",
      "source": [
        "# startswith and endswith\n",
        "\n",
        "print(string_in.casefold().startswith(' My'.casefold()))\n",
        "\n",
        "print(string_in.casefold().endswith('is'.casefold()))"
      ],
      "metadata": {
        "colab": {
          "base_uri": "https://localhost:8080/"
        },
        "id": "1Fqk9K6yazhP",
        "outputId": "d6d3a55b-6d3b-4674-e614-08aa9234064e"
      },
      "execution_count": 79,
      "outputs": [
        {
          "output_type": "stream",
          "name": "stdout",
          "text": [
            "True\n",
            "False\n"
          ]
        }
      ]
    },
    {
      "cell_type": "code",
      "source": [
        "# index\n",
        "# and find - only for strings\n",
        "\n",
        "print(string_in.index(\"is\")) # outputs value error if it encounters exception\n",
        "\n",
        "print(string_in.find(\"isis\")) # outputs -1 if it encounters exception"
      ],
      "metadata": {
        "colab": {
          "base_uri": "https://localhost:8080/"
        },
        "id": "JLBPDO4ObM-J",
        "outputId": "c2cfce04-e13c-4a3b-f8f8-ba5b78b9b647"
      },
      "execution_count": 83,
      "outputs": [
        {
          "output_type": "stream",
          "name": "stdout",
          "text": [
            "9\n",
            "-1\n"
          ]
        }
      ]
    },
    {
      "cell_type": "code",
      "source": [
        "string = \" my name is john and my name is marry\"\n",
        "\n",
        "print(string.index(\"is\",20)) # (string, starting index)\n",
        "\n",
        "print(string.index(\"is\",string.index(\"is\") + len('is')))\n"
      ],
      "metadata": {
        "colab": {
          "base_uri": "https://localhost:8080/"
        },
        "id": "-Z1y4ZKub1Ia",
        "outputId": "49843293-1eec-4692-f1b9-19a685c7ae81"
      },
      "execution_count": 92,
      "outputs": [
        {
          "output_type": "stream",
          "name": "stdout",
          "text": [
            "29\n",
            "29\n"
          ]
        }
      ]
    },
    {
      "cell_type": "markdown",
      "source": [
        "# **String Interpolation**\n",
        "\n",
        "there are multiple variations"
      ],
      "metadata": {
        "id": "rsvAWTWheA2n"
      }
    },
    {
      "cell_type": "code",
      "source": [
        "a = 100\n",
        "\n",
        "s = \"Python\"\n",
        "\n",
        "print(str(a) + s)"
      ],
      "metadata": {
        "colab": {
          "base_uri": "https://localhost:8080/"
        },
        "id": "7ZlvtzQjcmod",
        "outputId": "cf1f7ea7-c4e3-4592-c8c2-6c8eef821993"
      },
      "execution_count": 95,
      "outputs": [
        {
          "output_type": "stream",
          "name": "stdout",
          "text": [
            "100Python\n"
          ]
        }
      ]
    },
    {
      "cell_type": "code",
      "source": [
        "# .format\n",
        "\n",
        "a = 10\n",
        "b = 20\n",
        "c = 30\n",
        "d = 40\n",
        "\n",
        "print(\"a: {},b: {},c: {},d: {}\".format(a,b,c,d))"
      ],
      "metadata": {
        "colab": {
          "base_uri": "https://localhost:8080/"
        },
        "id": "7w8A_hc5eQz9",
        "outputId": "6a10c0ed-5959-420a-d385-bff60fe1373d"
      },
      "execution_count": 96,
      "outputs": [
        {
          "output_type": "stream",
          "name": "stdout",
          "text": [
            "a: 10,b: 20,c: 30,d: 40\n"
          ]
        }
      ]
    },
    {
      "cell_type": "code",
      "source": [
        "# f-strings\n",
        "\n",
        "print(f\"a: {a},b: {b}, c is : {c} d : {d-a}\")"
      ],
      "metadata": {
        "colab": {
          "base_uri": "https://localhost:8080/"
        },
        "id": "OnUFX4MMp6kG",
        "outputId": "33f9d873-0e5b-4129-e4fc-f95f14f94c6c"
      },
      "execution_count": 100,
      "outputs": [
        {
          "output_type": "stream",
          "name": "stdout",
          "text": [
            "a: 10,b: 20, c is : 30 d : 30\n"
          ]
        }
      ]
    },
    {
      "cell_type": "code",
      "source": [
        "# named argumnets\n",
        "\n",
        "print(\"a :{A} and b :{B}\".format(A=a,B=b))"
      ],
      "metadata": {
        "colab": {
          "base_uri": "https://localhost:8080/"
        },
        "id": "GutqzrhCtPAQ",
        "outputId": "097ce34a-2f09-4b7b-fefa-6e5a68fd0cfa"
      },
      "execution_count": 101,
      "outputs": [
        {
          "output_type": "stream",
          "name": "stdout",
          "text": [
            "a :10 and b :20\n"
          ]
        }
      ]
    },
    {
      "cell_type": "code",
      "source": [
        "a = 1.2345\n",
        "b = 1.2345678\n",
        "\n",
        "print('a: {A:.2f}, B: {b:.5f}'.format(A=a,b=b))"
      ],
      "metadata": {
        "colab": {
          "base_uri": "https://localhost:8080/"
        },
        "id": "42OO2RSovru1",
        "outputId": "d6867706-90e4-4f00-9c12-e9d215b4fdb3"
      },
      "execution_count": 104,
      "outputs": [
        {
          "output_type": "stream",
          "name": "stdout",
          "text": [
            "a: 1.23, B: 1.23457\n"
          ]
        }
      ]
    },
    {
      "cell_type": "code",
      "source": [
        "print(f'a: {a:.2f}, B: {b:.5f}')"
      ],
      "metadata": {
        "colab": {
          "base_uri": "https://localhost:8080/"
        },
        "id": "8IJmJ_NAv-Cv",
        "outputId": "2aac5418-c50d-4666-cbb3-d5a906bdab1b"
      },
      "execution_count": 106,
      "outputs": [
        {
          "output_type": "stream",
          "name": "stdout",
          "text": [
            "a: 1.23, B: 1.23457\n"
          ]
        }
      ]
    },
    {
      "cell_type": "code",
      "source": [],
      "metadata": {
        "id": "PBFZrP1HwLLc"
      },
      "execution_count": null,
      "outputs": []
    }
  ]
}