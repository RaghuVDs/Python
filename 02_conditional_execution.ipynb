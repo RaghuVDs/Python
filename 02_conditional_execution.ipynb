{
  "nbformat": 4,
  "nbformat_minor": 0,
  "metadata": {
    "colab": {
      "provenance": [],
      "authorship_tag": "ABX9TyP42QI+y7g+fE4YCQH+Ebgy",
      "include_colab_link": true
    },
    "kernelspec": {
      "name": "python3",
      "display_name": "Python 3"
    },
    "language_info": {
      "name": "python"
    }
  },
  "cells": [
    {
      "cell_type": "markdown",
      "metadata": {
        "id": "view-in-github",
        "colab_type": "text"
      },
      "source": [
        "<a href=\"https://colab.research.google.com/github/RaghuVDs/Python/blob/main/02_conditional_execution.ipynb\" target=\"_parent\"><img src=\"https://colab.research.google.com/assets/colab-badge.svg\" alt=\"Open In Colab\"/></a>"
      ]
    },
    {
      "cell_type": "markdown",
      "source": [
        "# if condition"
      ],
      "metadata": {
        "id": "aLeRYLxhLje7"
      }
    },
    {
      "cell_type": "markdown",
      "source": [
        "if somthing is true :\n",
        "\n",
        "                print(somthing)\n",
        "                print(n) - all these will be printed\n",
        "\n",
        "else :\n",
        "\n",
        "                print(somthing) [optional]\n",
        "                print(n)"
      ],
      "metadata": {
        "id": "-b3002KbK36l"
      }
    },
    {
      "cell_type": "markdown",
      "source": [
        "# nested if"
      ],
      "metadata": {
        "id": "Mf6xLmM5Mb8p"
      }
    },
    {
      "cell_type": "markdown",
      "source": [
        "#### nesting can be done inside an else block also.\n",
        "if somthing is true :\n",
        "\n",
        "                if somthing is true :\n",
        "\n",
        "                          print(somthing)\n",
        "                          print(n) - all these will be printed\n",
        "               else :\n",
        "\n",
        "                          print(somthing) [optional]\n",
        "                          print(n)\n",
        "\n",
        "else :\n",
        "\n",
        "                print(somthing) [optional]\n",
        "                print(n)\n",
        "\n",
        "\n"
      ],
      "metadata": {
        "id": "Bzo5Xh0AMftW"
      }
    },
    {
      "cell_type": "code",
      "source": [
        "# if condition\n",
        "\n",
        "a = 20\n",
        "b = 5\n",
        "\n",
        "if a < b:\n",
        "  print('a is less')\n",
        "else :\n",
        "  print('b is less')\n",
        "\n",
        "print(\"check for c\") # part of regular code and not inside an indentation"
      ],
      "metadata": {
        "colab": {
          "base_uri": "https://localhost:8080/"
        },
        "id": "6q_CnwQILorv",
        "outputId": "15110c72-a662-422b-b122-4fdb36a33832"
      },
      "execution_count": null,
      "outputs": [
        {
          "output_type": "stream",
          "name": "stdout",
          "text": [
            "b is less\n",
            "check for c\n"
          ]
        }
      ]
    },
    {
      "cell_type": "code",
      "source": [
        "account_enabled = False\n",
        "balance = 1000\n",
        "withdraw = 10000\n",
        "\n",
        "if account_enabled and withdraw <= balance  :\n",
        "  print('can be withdrawn')\n",
        "  balance = balance - withdraw\n",
        "  print(balance)\n",
        "else:\n",
        "  if not account_enabled:\n",
        "    print(\"account disables\")\n",
        "    print('cannot be withdrawn')\n",
        "  else:\n",
        "    print('Insufficinet funds')\n"
      ],
      "metadata": {
        "colab": {
          "base_uri": "https://localhost:8080/"
        },
        "id": "dbsRG42PNdwD",
        "outputId": "44296c2c-aa30-4b2f-b1bd-e6370cc6b7fe"
      },
      "execution_count": null,
      "outputs": [
        {
          "output_type": "stream",
          "name": "stdout",
          "text": [
            "account disables\n",
            "cannot be withdrawn\n"
          ]
        }
      ]
    },
    {
      "cell_type": "code",
      "source": [
        "# nested if\n",
        "\n",
        "my_grade = 80\n",
        "\n",
        "if my_grade >= 90:\n",
        "  print('A')\n",
        "else:\n",
        "  if my_grade >= 80:\n",
        "    print('B')\n",
        "  else:\n",
        "    if my_grade >=70:\n",
        "      print('C')\n",
        "    else:\n",
        "      if my_grade >= 60:\n",
        "        print('D')\n",
        "      else:\n",
        "        print('F')\n",
        "\n"
      ],
      "metadata": {
        "colab": {
          "base_uri": "https://localhost:8080/"
        },
        "id": "thpiOdKxO1Zx",
        "outputId": "03290db3-bd2b-47bf-e570-bf5c2e713488"
      },
      "execution_count": null,
      "outputs": [
        {
          "output_type": "stream",
          "name": "stdout",
          "text": [
            "B\n"
          ]
        }
      ]
    },
    {
      "cell_type": "code",
      "source": [
        "grade = 70\n",
        "\n",
        "if grade >= 90:\n",
        "  print('A')\n",
        "\n",
        "if grade >=80 and grade < 90:\n",
        "  letter_grade = 'B'\n",
        "\n",
        "if grade >=70 and grade < 80:\n",
        "  letter_grade = 'c'\n",
        "\n",
        "if grade >=60 and grade < 70:\n",
        "  letter_grade = 'd'\n",
        "\n",
        "if grade >=50 and grade < 60:\n",
        "  letter_grade = 'e'\n",
        "\n",
        "if grade < 50:\n",
        "  letter_grade = 'f'\n",
        "\n",
        "print(letter_grade)\n"
      ],
      "metadata": {
        "colab": {
          "base_uri": "https://localhost:8080/"
        },
        "id": "z_5hfsqNP5IT",
        "outputId": "c52fe7b8-0698-497d-f7aa-9dc0e8bcd005"
      },
      "execution_count": null,
      "outputs": [
        {
          "output_type": "stream",
          "name": "stdout",
          "text": [
            "c\n"
          ]
        }
      ]
    },
    {
      "cell_type": "code",
      "source": [
        "# elif\n",
        "\n",
        "# if one condition is True - then the code is exited.\n",
        "grade = 22\n",
        "\n",
        "if grade >= 90:\n",
        "  grade_letter = \"A\"\n",
        "elif grade >= 80:\n",
        "  grade_letter = \"B\"\n",
        "elif grade >= 70:\n",
        "  grade_letter = \"C\"\n",
        "elif grade >= 60:\n",
        "  grade_letter = \"D\"\n",
        "\n",
        "else:\n",
        "  grade_letter = \"F\"\n",
        "\n",
        "print(grade_letter)"
      ],
      "metadata": {
        "colab": {
          "base_uri": "https://localhost:8080/"
        },
        "id": "6jfX7m5tXZvh",
        "outputId": "8c0071d5-b575-4696-aa81-97e0fbed007d"
      },
      "execution_count": null,
      "outputs": [
        {
          "output_type": "stream",
          "name": "stdout",
          "text": [
            "F\n"
          ]
        }
      ]
    },
    {
      "cell_type": "code",
      "source": [
        "account_enabled = True\n",
        "balance = 1000\n",
        "withdraw = 50\n",
        "\n",
        "if not account_enabled:\n",
        "  print(\"account disabled\")\n",
        "elif withdraw <= balance:\n",
        "    print('Can be withdrawn')\n",
        "    balance = balance - withdraw\n",
        "    print(f'balance = {balance }')\n",
        "else:\n",
        "    print(\"insufficient Funds\")\n",
        "    balance = balance - withdraw\n",
        "    print(f\"{balance} cannot be withdrawn\")\n",
        "\n"
      ],
      "metadata": {
        "colab": {
          "base_uri": "https://localhost:8080/"
        },
        "id": "BxkzjAKBZcdc",
        "outputId": "77f679a1-3f0f-487a-fe6c-ca9afbac77e2"
      },
      "execution_count": null,
      "outputs": [
        {
          "output_type": "stream",
          "name": "stdout",
          "text": [
            "Can be withdrawn\n",
            "balance = 950\n"
          ]
        }
      ]
    },
    {
      "cell_type": "markdown",
      "source": [
        "# Ternary conditional operator - 3 operands\n",
        "\n",
        "### unary = -x\n",
        "### binary = x + y\n",
        "\n",
        "## ternary = exp1 if <condition 1> else exp2\n",
        "## the ternary operator also uses short circuit evaluation."
      ],
      "metadata": {
        "id": "2ZW4z7hYc7EQ"
      }
    },
    {
      "cell_type": "code",
      "source": [
        "# ternary conditional operator\n",
        "\n",
        "ask_price = 1\n",
        "\n",
        "if ask_price > 50:\n",
        "  volume = 80\n",
        "else:\n",
        "  volume = 10\n",
        "\n",
        "print(volume)"
      ],
      "metadata": {
        "colab": {
          "base_uri": "https://localhost:8080/"
        },
        "id": "wbz11FPZc--3",
        "outputId": "ca4df951-11eb-4c47-8b91-c37ad8d85e6b"
      },
      "execution_count": null,
      "outputs": [
        {
          "output_type": "stream",
          "name": "stdout",
          "text": [
            "10\n"
          ]
        }
      ]
    },
    {
      "cell_type": "code",
      "source": [
        "volume = 80 if ask_price > 50 else 10\n",
        "\n",
        "print(volume)"
      ],
      "metadata": {
        "colab": {
          "base_uri": "https://localhost:8080/"
        },
        "id": "kU67nhuteKZe",
        "outputId": "3ac8a9bf-d494-4464-fe25-efbf971c39ba"
      },
      "execution_count": null,
      "outputs": [
        {
          "output_type": "stream",
          "name": "stdout",
          "text": [
            "10\n"
          ]
        }
      ]
    },
    {
      "cell_type": "code",
      "source": [
        "current_value = [100,200,300,-999]\n",
        "running_total = 0\n",
        "running_count = 125\n",
        "\n",
        "for i in current_value:\n",
        "    clean_value = 0 if i == -999 else i\n",
        "\n",
        "    running_total = running_total + clean_value\n",
        "print(running_total)"
      ],
      "metadata": {
        "colab": {
          "base_uri": "https://localhost:8080/"
        },
        "id": "WoyJOWgmeWKw",
        "outputId": "56e8437a-0cd9-4a87-a469-83993a62e311"
      },
      "execution_count": null,
      "outputs": [
        {
          "output_type": "stream",
          "name": "stdout",
          "text": [
            "600\n"
          ]
        }
      ]
    },
    {
      "cell_type": "code",
      "source": [],
      "metadata": {
        "id": "k_PHU5kPkU6G"
      },
      "execution_count": null,
      "outputs": []
    }
  ]
}