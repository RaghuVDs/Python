{
  "cells": [
    {
      "cell_type": "markdown",
      "metadata": {
        "id": "view-in-github",
        "colab_type": "text"
      },
      "source": [
        "<a href=\"https://colab.research.google.com/github/RaghuVDs/Python/blob/main/01_Exercises.ipynb\" target=\"_parent\"><img src=\"https://colab.research.google.com/assets/colab-badge.svg\" alt=\"Open In Colab\"/></a>"
      ]
    },
    {
      "cell_type": "markdown",
      "metadata": {
        "id": "7fFmkJ4-jTmE"
      },
      "source": [
        "### Exercises"
      ]
    },
    {
      "cell_type": "markdown",
      "metadata": {
        "id": "t6JcxNchjTmH"
      },
      "source": [
        "### Exercise 1"
      ]
    },
    {
      "cell_type": "markdown",
      "metadata": {
        "id": "Mk7C_3ryjTmI"
      },
      "source": [
        "Given two floats `a` and `b`, and some tolerance `tol`, write an expression that will test whether `a` and `b` are within `tol` of each other."
      ]
    },
    {
      "cell_type": "code",
      "source": [
        "from abc import abstractmethod\n",
        "a = 5.5\n",
        "b = 2.3\n",
        "tol = 3.32\n",
        "\n",
        "c = abs(a-b)\n",
        "\n",
        "print(c,tol)\n",
        "\n",
        "c < tol\n",
        "\n"
      ],
      "metadata": {
        "colab": {
          "base_uri": "https://localhost:8080/"
        },
        "id": "bgeAJd-0jaRQ",
        "outputId": "613e661f-9118-45c7-cabc-5dd00678b6f1"
      },
      "execution_count": 3,
      "outputs": [
        {
          "output_type": "stream",
          "name": "stdout",
          "text": [
            "3.2 3.32\n"
          ]
        },
        {
          "output_type": "execute_result",
          "data": {
            "text/plain": [
              "True"
            ]
          },
          "metadata": {},
          "execution_count": 3
        }
      ]
    },
    {
      "cell_type": "markdown",
      "metadata": {
        "id": "4hRCt4bAjTmI"
      },
      "source": [
        "### Exercise 2"
      ]
    },
    {
      "cell_type": "markdown",
      "metadata": {
        "id": "PPNfXV4KjTmI"
      },
      "source": [
        "Assume you have some variable `elapsed` that contains elapsed time in seconds."
      ]
    },
    {
      "cell_type": "markdown",
      "metadata": {
        "id": "lYM3waAqjTmJ"
      },
      "source": [
        "Create three new variables: `hours`, `minutes` and `seconds`, that represent the number of hours, minutes and seconds represented by `elapsed`."
      ]
    },
    {
      "cell_type": "markdown",
      "metadata": {
        "id": "BZXegxTkjTmJ"
      },
      "source": [
        "For example, if `elapsed = 7835`, then `hours = 2`, `minutes = 10` and `seconds = 35`"
      ]
    },
    {
      "cell_type": "code",
      "source": [
        "elapsed_sec = 7835\n",
        "\n",
        "hours = elapsed_sec // 3600\n",
        "\n",
        "remaining_sec = elapsed_sec % 3600\n",
        "print(remaining_sec)\n",
        "minutes = remaining_sec // 60\n",
        "\n",
        "remaining_seconds = remaining_sec % 60\n",
        "\n",
        "print(hours,minutes,remaining_seconds)"
      ],
      "metadata": {
        "colab": {
          "base_uri": "https://localhost:8080/"
        },
        "id": "RMwSEjHUF7DT",
        "outputId": "6481c0e5-9162-4ba4-f7a2-1efec63578f7"
      },
      "execution_count": 23,
      "outputs": [
        {
          "output_type": "stream",
          "name": "stdout",
          "text": [
            "635\n",
            "2 10 35\n"
          ]
        }
      ]
    },
    {
      "cell_type": "code",
      "source": [],
      "metadata": {
        "id": "k8mqjo8FGNOF"
      },
      "execution_count": null,
      "outputs": []
    }
  ],
  "metadata": {
    "kernelspec": {
      "display_name": "Python 3",
      "language": "python",
      "name": "python3"
    },
    "language_info": {
      "codemirror_mode": {
        "name": "ipython",
        "version": 3
      },
      "file_extension": ".py",
      "mimetype": "text/x-python",
      "name": "python",
      "nbconvert_exporter": "python",
      "pygments_lexer": "ipython3",
      "version": "3.9.1"
    },
    "colab": {
      "provenance": [],
      "include_colab_link": true
    }
  },
  "nbformat": 4,
  "nbformat_minor": 0
}