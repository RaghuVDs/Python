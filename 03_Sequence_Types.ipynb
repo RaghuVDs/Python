{
  "nbformat": 4,
  "nbformat_minor": 0,
  "metadata": {
    "colab": {
      "provenance": [],
      "authorship_tag": "ABX9TyP61EfPyOTQuhqS3RRzob6u",
      "include_colab_link": true
    },
    "kernelspec": {
      "name": "python3",
      "display_name": "Python 3"
    },
    "language_info": {
      "name": "python"
    }
  },
  "cells": [
    {
      "cell_type": "markdown",
      "metadata": {
        "id": "view-in-github",
        "colab_type": "text"
      },
      "source": [
        "<a href=\"https://colab.research.google.com/github/RaghuVDs/Python/blob/main/03_Sequence_Types.ipynb\" target=\"_parent\"><img src=\"https://colab.research.google.com/assets/colab-badge.svg\" alt=\"Open In Colab\"/></a>"
      ]
    },
    {
      "cell_type": "markdown",
      "source": [
        "# Sequence Types\n",
        "### its a ordered collection of objects\n",
        "### we can index - starts from 0\n",
        "\n",
        "[1,2,3,4,5,6] - elements\n",
        "\n",
        "[0,1,2,3,4,5] - index\n",
        "\n",
        "types - Homogeneous and Heterogeneous\n",
        "\n",
        "homo - all the elements are of same types\n",
        "\n",
        "hetero - there can be different types in the sequence\n",
        "\n",
        "\n",
        "# list - hetero & muutable\n",
        "# Tuples - hetero & immutable\n",
        "# Strings - immutable"
      ],
      "metadata": {
        "id": "6YUcXCk3McU_"
      }
    },
    {
      "cell_type": "markdown",
      "source": [
        "# container type - containes elements\n",
        "\n",
        "# sequence type\n",
        "\n",
        "# Heterogeneous\n",
        "\n",
        "# Mutable\n",
        "\n",
        "# unbound growth is possable\n",
        "\n",
        "# can add remove update and delete elements in the list"
      ],
      "metadata": {
        "id": "qB7v2cFsPKWU"
      }
    },
    {
      "cell_type": "markdown",
      "source": [
        "# Lists"
      ],
      "metadata": {
        "id": "LgcGRR-YRXph"
      }
    },
    {
      "cell_type": "code",
      "source": [
        "list_type = [1,2,3,4,5,6]\n",
        "list_type_index = [0,1,2,3,4,5]\n",
        "list_type_diff_types = [1,'A',True,4.5,[True,False]]\n",
        "\n",
        "print(list_type)\n",
        "print(list_type_index)\n",
        "print(list_type_diff_types)"
      ],
      "metadata": {
        "colab": {
          "base_uri": "https://localhost:8080/"
        },
        "id": "fJIZcoFgPJe5",
        "outputId": "656c8fc0-9dce-4e02-ed9d-61886e87f994"
      },
      "execution_count": 2,
      "outputs": [
        {
          "output_type": "stream",
          "name": "stdout",
          "text": [
            "[1, 2, 3, 4, 5, 6]\n",
            "[0, 1, 2, 3, 4, 5]\n",
            "[1, 'A', True, 4.5, [True, False]]\n"
          ]
        }
      ]
    },
    {
      "cell_type": "code",
      "source": [
        "print(type(list_type)) # used to check the type\n",
        "print(len(list_type)) # used to find the length\n",
        "\n",
        "list_empty = [] # empty list\n",
        "print(list_empty)\n",
        "print(len(list_empty))"
      ],
      "metadata": {
        "colab": {
          "base_uri": "https://localhost:8080/"
        },
        "id": "sFUb-YqOP_tV",
        "outputId": "e1e895a3-7085-44f8-a254-bbc5d5d6eb1d"
      },
      "execution_count": 5,
      "outputs": [
        {
          "output_type": "stream",
          "name": "stdout",
          "text": [
            "<class 'list'>\n",
            "6\n",
            "[]\n",
            "0\n"
          ]
        }
      ]
    },
    {
      "cell_type": "code",
      "source": [
        "l = [1,2,3,4,5,6]\n",
        "\n",
        "print(l,type(l))\n",
        "\n",
        "print(l[0]) # element 1\n",
        "\n",
        "print(l[len(l)- 1]) # len - 1 = last element\n",
        "\n",
        "print(l[-1]) # last element\n",
        "\n",
        "print(list(),type(list())) # empty list\n"
      ],
      "metadata": {
        "colab": {
          "base_uri": "https://localhost:8080/"
        },
        "id": "SuQ466MVQHjG",
        "outputId": "4a6f4c06-e4fc-4705-f163-9686403a5b02"
      },
      "execution_count": 13,
      "outputs": [
        {
          "output_type": "stream",
          "name": "stdout",
          "text": [
            "[1, 2, 3, 4, 5, 6] <class 'list'>\n",
            "1\n",
            "6\n",
            "6\n",
            "[] <class 'list'>\n"
          ]
        }
      ]
    },
    {
      "cell_type": "code",
      "source": [
        "l[2] = 3.142\n",
        "l[-1] = \"string\"\n",
        "\n",
        "print(l)"
      ],
      "metadata": {
        "colab": {
          "base_uri": "https://localhost:8080/"
        },
        "id": "K0seN6ksQwex",
        "outputId": "8cadda1e-c715-4eb9-82ef-811fa26dc8b5"
      },
      "execution_count": 15,
      "outputs": [
        {
          "output_type": "stream",
          "name": "stdout",
          "text": [
            "[1, 2, 3.142, 4, 5, 'string']\n"
          ]
        }
      ]
    },
    {
      "cell_type": "markdown",
      "source": [
        "# Tuples"
      ],
      "metadata": {
        "id": "l3vBGjDrR_bk"
      }
    },
    {
      "cell_type": "markdown",
      "source": [
        "# container type\n",
        "\n",
        "# sequence type\n",
        "\n",
        "# hetero\n",
        "\n",
        "# immutable\n",
        "\n",
        "# cannot add remove or update elements to tuple\n",
        "\n",
        "(tuple) - ()\n"
      ],
      "metadata": {
        "id": "xA__HBC2SBfB"
      }
    },
    {
      "cell_type": "code",
      "source": [
        "tuple_type = (1,2,3,(1,2),[True ,False])\n",
        "print(tuple_type)\n",
        "print(type(tuple_type))\n",
        "print(len(tuple_type))\n",
        "print(tuple_type[-1])"
      ],
      "metadata": {
        "colab": {
          "base_uri": "https://localhost:8080/"
        },
        "id": "7YwZ69CNSAqc",
        "outputId": "089eac4f-1c0d-4b39-c2ad-983bd0735dbe"
      },
      "execution_count": 19,
      "outputs": [
        {
          "output_type": "stream",
          "name": "stdout",
          "text": [
            "(1, 2, 3, (1, 2), [True, False])\n",
            "<class 'tuple'>\n",
            "5\n",
            "[True, False]\n"
          ]
        }
      ]
    },
    {
      "cell_type": "code",
      "source": [
        "tuple_type[0] = 100 # cannot be mutable\n"
      ],
      "metadata": {
        "colab": {
          "base_uri": "https://localhost:8080/",
          "height": 219
        },
        "id": "mNtZHSoOSqOF",
        "outputId": "52fd7965-5a31-4bd7-8b25-8e654045954e"
      },
      "execution_count": 21,
      "outputs": [
        {
          "output_type": "error",
          "ename": "TypeError",
          "evalue": "'tuple' object does not support item assignment",
          "traceback": [
            "\u001b[0;31m---------------------------------------------------------------------------\u001b[0m",
            "\u001b[0;31mTypeError\u001b[0m                                 Traceback (most recent call last)",
            "\u001b[0;32m<ipython-input-21-e393a835e6d6>\u001b[0m in \u001b[0;36m<cell line: 1>\u001b[0;34m()\u001b[0m\n\u001b[0;32m----> 1\u001b[0;31m \u001b[0mtuple_type\u001b[0m\u001b[0;34m[\u001b[0m\u001b[0;36m0\u001b[0m\u001b[0;34m]\u001b[0m \u001b[0;34m=\u001b[0m \u001b[0;36m100\u001b[0m \u001b[0;31m# cannot be mutable\u001b[0m\u001b[0;34m\u001b[0m\u001b[0;34m\u001b[0m\u001b[0m\n\u001b[0m\u001b[1;32m      2\u001b[0m \u001b[0;34m\u001b[0m\u001b[0m\n\u001b[1;32m      3\u001b[0m \u001b[0mtuple_type\u001b[0m\u001b[0;34m[\u001b[0m\u001b[0;34m-\u001b[0m\u001b[0;36m1\u001b[0m\u001b[0;34m]\u001b[0m\u001b[0;34m[\u001b[0m\u001b[0;36m0\u001b[0m\u001b[0;34m]\u001b[0m \u001b[0;34m=\u001b[0m \u001b[0;34m\"Changed\"\u001b[0m \u001b[0;31m# can be changed as the list inside a tuple can be changed\u001b[0m\u001b[0;34m\u001b[0m\u001b[0;34m\u001b[0m\u001b[0m\n\u001b[1;32m      4\u001b[0m \u001b[0;34m\u001b[0m\u001b[0m\n\u001b[1;32m      5\u001b[0m \u001b[0mprint\u001b[0m\u001b[0;34m(\u001b[0m\u001b[0mtuple_type\u001b[0m\u001b[0;34m)\u001b[0m\u001b[0;34m\u001b[0m\u001b[0;34m\u001b[0m\u001b[0m\n",
            "\u001b[0;31mTypeError\u001b[0m: 'tuple' object does not support item assignment"
          ]
        }
      ]
    },
    {
      "cell_type": "code",
      "source": [
        "tuple_type[-1][0] = \"Changed\" # can be changed as the list inside a tuple can be changed (lists are mutable)\n",
        "\n",
        "print(tuple_type)\n",
        "\n",
        "# there is no use to create an empty tuple as they are immutable\n",
        "\n",
        "a =()\n",
        "\n",
        "print(a)"
      ],
      "metadata": {
        "colab": {
          "base_uri": "https://localhost:8080/"
        },
        "id": "c5EEOneXS58c",
        "outputId": "605e6259-b44a-48e2-e2e1-e07ffb83392c"
      },
      "execution_count": 24,
      "outputs": [
        {
          "output_type": "stream",
          "name": "stdout",
          "text": [
            "(1, 2, 3, (1, 2), ['Changed', False])\n",
            "()\n"
          ]
        }
      ]
    },
    {
      "cell_type": "code",
      "source": [
        "t = 1,2,3,4\n",
        "print(t,type(t),len(t))"
      ],
      "metadata": {
        "colab": {
          "base_uri": "https://localhost:8080/"
        },
        "id": "R-izKtmlTOnn",
        "outputId": "d3704be2-b0e2-466c-d375-9c2691427809"
      },
      "execution_count": 26,
      "outputs": [
        {
          "output_type": "stream",
          "name": "stdout",
          "text": [
            "(1, 2, 3, 4) <class 'tuple'> 4\n"
          ]
        }
      ]
    },
    {
      "cell_type": "code",
      "source": [
        "print(t[len(t)-1]) # last element"
      ],
      "metadata": {
        "colab": {
          "base_uri": "https://localhost:8080/"
        },
        "id": "raBRu8V3T0dD",
        "outputId": "55f6f55c-6ffb-423a-9d5c-b7e3d9cce361"
      },
      "execution_count": 27,
      "outputs": [
        {
          "output_type": "stream",
          "name": "stdout",
          "text": [
            "4\n"
          ]
        }
      ]
    },
    {
      "cell_type": "code",
      "source": [
        "t_mutable = ([1,2,3],[True,False],9.5,(1,2))\n",
        "\n",
        "print(t_mutable)"
      ],
      "metadata": {
        "colab": {
          "base_uri": "https://localhost:8080/"
        },
        "id": "nLXCXQ6sUIh9",
        "outputId": "ea68b49f-9fee-4285-eafe-6eda056f9e52"
      },
      "execution_count": 29,
      "outputs": [
        {
          "output_type": "stream",
          "name": "stdout",
          "text": [
            "([1, 2, 3], [True, False], 9.5, (1, 2))\n"
          ]
        }
      ]
    },
    {
      "cell_type": "code",
      "source": [
        "# tuple as a collection is immutable but if there are mutable types in the tuple they can be mutable\n",
        "\n",
        "t_mutable[0][2] = \"Changed\"\n",
        "\n",
        "print(t_mutable,type(t_mutable))"
      ],
      "metadata": {
        "colab": {
          "base_uri": "https://localhost:8080/"
        },
        "id": "pwSg73z2UhJr",
        "outputId": "59323c63-5c3f-4061-cb0c-08083b04fd48"
      },
      "execution_count": 31,
      "outputs": [
        {
          "output_type": "stream",
          "name": "stdout",
          "text": [
            "([1, 2, 'Changed'], [True, False], 9.5, (1, 2)) <class 'tuple'>\n"
          ]
        }
      ]
    },
    {
      "cell_type": "code",
      "source": [
        "a = 10\n",
        "b = 20\n",
        "\n",
        "t = a,b,a+b\n",
        "\n",
        "print(t)"
      ],
      "metadata": {
        "colab": {
          "base_uri": "https://localhost:8080/"
        },
        "id": "sm3Qvxv-U5QN",
        "outputId": "3a5a2289-7acc-4c51-93c7-9b418dcd4af5"
      },
      "execution_count": 33,
      "outputs": [
        {
          "output_type": "stream",
          "name": "stdout",
          "text": [
            "(10, 20, 30)\n"
          ]
        }
      ]
    },
    {
      "cell_type": "code",
      "source": [
        "t = tuple(range(10))\n",
        "\n",
        "t_list = list(t)\n",
        "\n",
        "print(t,t_list)\n",
        "\n",
        "t_list[0] = 100\n",
        "\n",
        "t = tuple(t_list)\n",
        "\n",
        "print(t)"
      ],
      "metadata": {
        "colab": {
          "base_uri": "https://localhost:8080/"
        },
        "id": "k6oNihXwVT6a",
        "outputId": "3cbab5d5-8af4-4bd3-f499-b8b2fe85c539"
      },
      "execution_count": 37,
      "outputs": [
        {
          "output_type": "stream",
          "name": "stdout",
          "text": [
            "(0, 1, 2, 3, 4, 5, 6, 7, 8, 9) [0, 1, 2, 3, 4, 5, 6, 7, 8, 9]\n",
            "(100, 1, 2, 3, 4, 5, 6, 7, 8, 9)\n"
          ]
        }
      ]
    },
    {
      "cell_type": "markdown",
      "source": [
        "# String\n",
        "\n",
        "# container type\n",
        "\n",
        "# sequence type\n",
        "\n",
        "# immutable\n",
        "\n",
        "\n",
        "'string'\n",
        "\n",
        "\"string\"\n",
        "\n",
        "\"\"\"string\"\"\""
      ],
      "metadata": {
        "id": "7Ie7AZhlZ-rY"
      }
    },
    {
      "cell_type": "code",
      "source": [
        "s = \"python\"\n",
        "\n",
        "print(s,type(s))\n",
        "print(len(s))\n",
        "print(s[-1])"
      ],
      "metadata": {
        "colab": {
          "base_uri": "https://localhost:8080/"
        },
        "id": "zeZ3whjIcjsi",
        "outputId": "9f52d626-29c1-432d-9120-8c71f44a97ad"
      },
      "execution_count": 40,
      "outputs": [
        {
          "output_type": "stream",
          "name": "stdout",
          "text": [
            "python <class 'str'>\n",
            "6\n",
            "n\n"
          ]
        }
      ]
    },
    {
      "cell_type": "code",
      "source": [
        "a = 'hello'\n",
        "b = \"hello 'WORLD'\"\n",
        "c = \"\"\"hello\n",
        "       world \"\"\"\n",
        "print(a)\n",
        "print(b)\n",
        "print(c)"
      ],
      "metadata": {
        "colab": {
          "base_uri": "https://localhost:8080/"
        },
        "id": "j1QXrYlLcmun",
        "outputId": "3eef8532-e46d-4a43-c6fe-f4c6cd6901a7"
      },
      "execution_count": 42,
      "outputs": [
        {
          "output_type": "stream",
          "name": "stdout",
          "text": [
            "hello\n",
            "hello 'WORLD'\n",
            "hello \n",
            "       world \n"
          ]
        }
      ]
    },
    {
      "cell_type": "code",
      "source": [
        "s = \"Python Rocks !\"\n",
        "\n",
        "print(s[len(s) - 1])"
      ],
      "metadata": {
        "colab": {
          "base_uri": "https://localhost:8080/"
        },
        "id": "NRfD2hT9dCJ-",
        "outputId": "7f2337d6-61ad-4e5b-e237-a3d45827d51e"
      },
      "execution_count": 43,
      "outputs": [
        {
          "output_type": "stream",
          "name": "stdout",
          "text": [
            "!\n"
          ]
        }
      ]
    },
    {
      "cell_type": "code",
      "source": [
        "a = \" \"\n",
        "b = str(\" \")\n",
        "\n",
        "print(type(a),type(b))\n",
        "print(len(a),len(b))"
      ],
      "metadata": {
        "colab": {
          "base_uri": "https://localhost:8080/"
        },
        "id": "sy0GvNjseIAb",
        "outputId": "887c0445-5c3d-4240-ac4e-53b4ab47bea0"
      },
      "execution_count": 46,
      "outputs": [
        {
          "output_type": "stream",
          "name": "stdout",
          "text": [
            "<class 'str'> <class 'str'>\n",
            "1 1\n"
          ]
        }
      ]
    },
    {
      "cell_type": "code",
      "source": [
        "s_tuple = str(t_list)\n",
        "\n",
        "print(s_tuple,type(s_tuple))"
      ],
      "metadata": {
        "colab": {
          "base_uri": "https://localhost:8080/"
        },
        "id": "mHN_ZHq0eaxP",
        "outputId": "8502a917-3c9d-4d63-ffaf-799f451d2c5b"
      },
      "execution_count": 48,
      "outputs": [
        {
          "output_type": "stream",
          "name": "stdout",
          "text": [
            "[100, 1, 2, 3, 4, 5, 6, 7, 8, 9] <class 'str'>\n"
          ]
        }
      ]
    },
    {
      "cell_type": "code",
      "source": [
        "tuple_str = tuple(s)\n",
        "\n",
        "print(tuple_str,type(tuple_str))"
      ],
      "metadata": {
        "colab": {
          "base_uri": "https://localhost:8080/"
        },
        "id": "_tiSBBsQepC0",
        "outputId": "9e9a14b7-a2e2-459e-aaed-c1173254b5fd"
      },
      "execution_count": 49,
      "outputs": [
        {
          "output_type": "stream",
          "name": "stdout",
          "text": [
            "('P', 'y', 't', 'h', 'o', 'n', ' ', 'R', 'o', 'c', 'k', 's', ' ', '!') <class 'tuple'>\n"
          ]
        }
      ]
    },
    {
      "cell_type": "code",
      "source": [
        "list_str = tuple(s)\n",
        "\n",
        "print(list_str,type(list_str))"
      ],
      "metadata": {
        "colab": {
          "base_uri": "https://localhost:8080/"
        },
        "id": "u31M_Ds8e3DR",
        "outputId": "c0d6bd23-1929-4afa-b9af-b3751e3faaef"
      },
      "execution_count": 50,
      "outputs": [
        {
          "output_type": "stream",
          "name": "stdout",
          "text": [
            "('P', 'y', 't', 'h', 'o', 'n', ' ', 'R', 'o', 'c', 'k', 's', ' ', '!') <class 'tuple'>\n"
          ]
        }
      ]
    },
    {
      "cell_type": "code",
      "source": [
        "# string Operators = +( cconcat ) and *( multiply)\n",
        "\n",
        "a = \"hello\"\n",
        "b = \"world\"\n",
        "c = \"*\"\n",
        "\n",
        "print(a + b)\n",
        "\n",
        "print(c * 10)"
      ],
      "metadata": {
        "colab": {
          "base_uri": "https://localhost:8080/"
        },
        "id": "rqTS9fjGe8ub",
        "outputId": "2ad68609-0fc0-467b-a3bc-20514b1bb552"
      },
      "execution_count": 53,
      "outputs": [
        {
          "output_type": "stream",
          "name": "stdout",
          "text": [
            "helloworld\n",
            "**********\n"
          ]
        }
      ]
    },
    {
      "cell_type": "code",
      "source": [
        "import numpy as np\n",
        "matrix = np.eye(3)"
      ],
      "metadata": {
        "id": "aqhtrdkKfPCY"
      },
      "execution_count": 54,
      "outputs": []
    },
    {
      "cell_type": "code",
      "source": [
        "print(matrix)"
      ],
      "metadata": {
        "colab": {
          "base_uri": "https://localhost:8080/"
        },
        "id": "LJLQSafxjNiq",
        "outputId": "3b21dfc4-b1a2-45d6-c95a-d9b900c84bc7"
      },
      "execution_count": 55,
      "outputs": [
        {
          "output_type": "stream",
          "name": "stdout",
          "text": [
            "[[1. 0. 0.]\n",
            " [0. 1. 0.]\n",
            " [0. 0. 1.]]\n"
          ]
        }
      ]
    },
    {
      "cell_type": "code",
      "source": [
        "# 1st row\n",
        "\n",
        "print(matrix[0])\n",
        "\n",
        "print(matrix[0][0])\n",
        "\n",
        "print(matrix[0][1])\n",
        "\n",
        "print(matrix[0][2])"
      ],
      "metadata": {
        "colab": {
          "base_uri": "https://localhost:8080/"
        },
        "id": "hMCnNU4cjO6x",
        "outputId": "bdb7423d-3b03-4ea9-cdda-9a63731f1c74"
      },
      "execution_count": 59,
      "outputs": [
        {
          "output_type": "stream",
          "name": "stdout",
          "text": [
            "[1. 0. 0.]\n",
            "1.0\n",
            "0.0\n",
            "0.0\n"
          ]
        }
      ]
    },
    {
      "cell_type": "code",
      "source": [
        "# 2nd row\n",
        "\n",
        "print(matrix[1])\n",
        "\n",
        "print(matrix[1][0])\n",
        "\n",
        "print(matrix[1][1])\n",
        "\n",
        "print(matrix[1][2])"
      ],
      "metadata": {
        "colab": {
          "base_uri": "https://localhost:8080/"
        },
        "id": "_d7KCBwijUrl",
        "outputId": "fb1f3775-0075-4143-fc67-b5fe9824e69f"
      },
      "execution_count": 60,
      "outputs": [
        {
          "output_type": "stream",
          "name": "stdout",
          "text": [
            "[0. 1. 0.]\n",
            "0.0\n",
            "1.0\n",
            "0.0\n"
          ]
        }
      ]
    },
    {
      "cell_type": "markdown",
      "source": [
        "# Slicing\n",
        "\n",
        "[start:stop:step]\n",
        "\n",
        "[inclusive:exclusive:step]"
      ],
      "metadata": {
        "id": "Etcwms0Bj5_M"
      }
    },
    {
      "cell_type": "code",
      "source": [
        "s = [1,2,3,4,5,6,7,8,9]\n",
        "\n",
        "print(s[0:3])"
      ],
      "metadata": {
        "colab": {
          "base_uri": "https://localhost:8080/"
        },
        "id": "fXO0WZC0j6w1",
        "outputId": "7f4a5967-ad8e-415f-ae2b-0a1356e57ede"
      },
      "execution_count": 61,
      "outputs": [
        {
          "output_type": "stream",
          "name": "stdout",
          "text": [
            "[1, 2, 3]\n"
          ]
        }
      ]
    },
    {
      "cell_type": "code",
      "source": [
        "s = \"Python Rocks !\"\n",
        "\n",
        "print(s[0:-1:2])"
      ],
      "metadata": {
        "colab": {
          "base_uri": "https://localhost:8080/"
        },
        "id": "sB9zpdlqkWB0",
        "outputId": "c21eacc8-6f76-4d7e-9f7e-395e5ce4b326"
      },
      "execution_count": 64,
      "outputs": [
        {
          "output_type": "stream",
          "name": "stdout",
          "text": [
            "Pto ok \n"
          ]
        }
      ]
    },
    {
      "cell_type": "code",
      "source": [
        "# for slicing we can have out bound\n",
        "\n",
        "print(s[0:100])"
      ],
      "metadata": {
        "colab": {
          "base_uri": "https://localhost:8080/"
        },
        "id": "zmfeWDrBkowr",
        "outputId": "bfa4b1eb-a749-4d6e-af6e-694a71241861"
      },
      "execution_count": 65,
      "outputs": [
        {
          "output_type": "stream",
          "name": "stdout",
          "text": [
            "Python Rocks !\n"
          ]
        }
      ]
    },
    {
      "cell_type": "code",
      "source": [
        "print(s[:])"
      ],
      "metadata": {
        "colab": {
          "base_uri": "https://localhost:8080/"
        },
        "id": "78hj6uXWk-bM",
        "outputId": "46bc7b44-d213-4e11-bd70-f2445a7600dc"
      },
      "execution_count": 66,
      "outputs": [
        {
          "output_type": "stream",
          "name": "stdout",
          "text": [
            "Python Rocks !\n"
          ]
        }
      ]
    },
    {
      "cell_type": "code",
      "source": [
        " # negative steps\n",
        "\n",
        " print(s[:2:-1])"
      ],
      "metadata": {
        "colab": {
          "base_uri": "https://localhost:8080/"
        },
        "id": "XjgNBfvwnszO",
        "outputId": "8baf6e08-8716-4580-cefd-c20337e3ef94"
      },
      "execution_count": 69,
      "outputs": [
        {
          "output_type": "stream",
          "name": "stdout",
          "text": [
            "! skcoR noh\n"
          ]
        }
      ]
    },
    {
      "cell_type": "markdown",
      "source": [
        "# Slicing can be done on all sequence types\n",
        "\n",
        "1. list\n",
        "2. tuple\n",
        "3. string"
      ],
      "metadata": {
        "id": "bUWZUP3qyted"
      }
    },
    {
      "cell_type": "code",
      "source": [
        "s = \"Python Rocks !\"\n",
        "\n",
        "print(s)"
      ],
      "metadata": {
        "colab": {
          "base_uri": "https://localhost:8080/"
        },
        "id": "Z1lmfVCGzxhG",
        "outputId": "eeaf5fca-b037-4bd9-f1e4-a12a8c40c6df"
      },
      "execution_count": 72,
      "outputs": [
        {
          "output_type": "stream",
          "name": "stdout",
          "text": [
            "Python Rocks !\n"
          ]
        }
      ]
    },
    {
      "cell_type": "code",
      "source": [
        "# Shallow copy\n",
        "\n",
        "l1 = [1,2,3,4]\n",
        "a2 = l1[:] # shallow copy\n",
        "\n",
        "l1 is l2\n",
        "\n",
        "print(l1,a2)\n",
        "\n",
        "# slicing created a new object"
      ],
      "metadata": {
        "colab": {
          "base_uri": "https://localhost:8080/"
        },
        "id": "KxJguh3Vz4iR",
        "outputId": "0e86a372-65e6-4c5c-ba87-e911a5ef50b1"
      },
      "execution_count": 86,
      "outputs": [
        {
          "output_type": "stream",
          "name": "stdout",
          "text": [
            "[1, 2, 3, 4] [1, 2, 3, 4]\n"
          ]
        }
      ]
    },
    {
      "cell_type": "code",
      "source": [
        "a2[3] = False\n",
        "\n",
        "\n",
        "print(l1,a2)"
      ],
      "metadata": {
        "colab": {
          "base_uri": "https://localhost:8080/"
        },
        "id": "_ER4T1vS0hbw",
        "outputId": "d964e858-9c4a-4584-a877-010ec75369be"
      },
      "execution_count": 88,
      "outputs": [
        {
          "output_type": "stream",
          "name": "stdout",
          "text": [
            "[1, 2, 3, 4] [1, 2, 3, False]\n"
          ]
        }
      ]
    },
    {
      "cell_type": "code",
      "source": [
        "s = \"Python Rocks !\""
      ],
      "metadata": {
        "id": "EXNg8f021Uta"
      },
      "execution_count": 1,
      "outputs": []
    },
    {
      "cell_type": "code",
      "source": [
        "print(s[5])"
      ],
      "metadata": {
        "colab": {
          "base_uri": "https://localhost:8080/"
        },
        "id": "MKNCVeeCBNpX",
        "outputId": "b02de8d6-d542-4cc8-cc8b-a32c284154e2"
      },
      "execution_count": 2,
      "outputs": [
        {
          "output_type": "stream",
          "name": "stdout",
          "text": [
            "n\n"
          ]
        }
      ]
    },
    {
      "cell_type": "code",
      "source": [
        "print(s[0:6])\n",
        "print(s[:5 + 1])"
      ],
      "metadata": {
        "colab": {
          "base_uri": "https://localhost:8080/"
        },
        "id": "Y0p0C09iBSRl",
        "outputId": "75b1f695-6097-40e5-bb2c-7810e5047db1"
      },
      "execution_count": 4,
      "outputs": [
        {
          "output_type": "stream",
          "name": "stdout",
          "text": [
            "Python\n",
            "Python\n"
          ]
        }
      ]
    },
    {
      "cell_type": "code",
      "source": [
        "t = (1,2,3,4)\n",
        "\n",
        "print(t[:3])"
      ],
      "metadata": {
        "colab": {
          "base_uri": "https://localhost:8080/"
        },
        "id": "m5YrG30vBXSY",
        "outputId": "2dcb643f-d4a0-486b-96fe-6a15f64b2f68"
      },
      "execution_count": 6,
      "outputs": [
        {
          "output_type": "stream",
          "name": "stdout",
          "text": [
            "(1, 2, 3)\n"
          ]
        }
      ]
    },
    {
      "cell_type": "code",
      "source": [
        "l = [1,2,3,4]\n",
        "\n",
        "print(l[:3])"
      ],
      "metadata": {
        "colab": {
          "base_uri": "https://localhost:8080/"
        },
        "id": "6xe17Y_tBniY",
        "outputId": "3f2e9e58-5b9a-4e64-d801-bac2acfb8ccd"
      },
      "execution_count": 7,
      "outputs": [
        {
          "output_type": "stream",
          "name": "stdout",
          "text": [
            "[1, 2, 3]\n"
          ]
        }
      ]
    },
    {
      "cell_type": "code",
      "source": [
        "l1 = l[:]"
      ],
      "metadata": {
        "id": "oVcmRcMRBt0Z"
      },
      "execution_count": 8,
      "outputs": []
    },
    {
      "cell_type": "code",
      "source": [
        "l1 is l"
      ],
      "metadata": {
        "colab": {
          "base_uri": "https://localhost:8080/"
        },
        "id": "YSa_UUn9B5G1",
        "outputId": "f79b3f32-9383-4ffd-9d78-4579155d9758"
      },
      "execution_count": 9,
      "outputs": [
        {
          "output_type": "execute_result",
          "data": {
            "text/plain": [
              "False"
            ]
          },
          "metadata": {},
          "execution_count": 9
        }
      ]
    },
    {
      "cell_type": "code",
      "source": [
        "l1[3] = \"True\""
      ],
      "metadata": {
        "id": "9vi8rOauB6QO"
      },
      "execution_count": 10,
      "outputs": []
    },
    {
      "cell_type": "code",
      "source": [
        "print(l , l1)"
      ],
      "metadata": {
        "colab": {
          "base_uri": "https://localhost:8080/"
        },
        "id": "c2ca_NBEB-yJ",
        "outputId": "50ff0b94-43c0-4493-b685-dea9ee703635"
      },
      "execution_count": 11,
      "outputs": [
        {
          "output_type": "stream",
          "name": "stdout",
          "text": [
            "[1, 2, 3, 4] [1, 2, 3, 'True']\n"
          ]
        }
      ]
    },
    {
      "cell_type": "code",
      "source": [
        "list01 = [[1,1,1],[2,2,2],[3,3,3]]\n",
        "\n",
        "sub = list01[0:2]\n",
        "\n",
        "print(list01,sub)"
      ],
      "metadata": {
        "colab": {
          "base_uri": "https://localhost:8080/"
        },
        "id": "tI-qFDFMCAWq",
        "outputId": "7491a927-56e3-4e57-d3b2-5f1c8be97ce8"
      },
      "execution_count": 14,
      "outputs": [
        {
          "output_type": "stream",
          "name": "stdout",
          "text": [
            "[[1, 1, 1], [2, 2, 2], [3, 3, 3]] [[1, 1, 1], [2, 2, 2]]\n"
          ]
        }
      ]
    },
    {
      "cell_type": "code",
      "source": [
        "list01 is sub"
      ],
      "metadata": {
        "colab": {
          "base_uri": "https://localhost:8080/"
        },
        "id": "dYml0TGyCVa9",
        "outputId": "cdc26dae-b530-4e9b-821e-7d033f36d94c"
      },
      "execution_count": 15,
      "outputs": [
        {
          "output_type": "execute_result",
          "data": {
            "text/plain": [
              "False"
            ]
          },
          "metadata": {},
          "execution_count": 15
        }
      ]
    },
    {
      "cell_type": "code",
      "source": [
        "list01[1] is sub[1]"
      ],
      "metadata": {
        "colab": {
          "base_uri": "https://localhost:8080/"
        },
        "id": "-Zlckx7UCpPf",
        "outputId": "7ba40ac8-241d-4eb5-c152-e312507874af"
      },
      "execution_count": 24,
      "outputs": [
        {
          "output_type": "execute_result",
          "data": {
            "text/plain": [
              "True"
            ]
          },
          "metadata": {},
          "execution_count": 24
        }
      ]
    },
    {
      "cell_type": "code",
      "source": [
        "sub[1] = \"changed\"\n",
        "\n",
        "print(list01,sub)"
      ],
      "metadata": {
        "colab": {
          "base_uri": "https://localhost:8080/"
        },
        "id": "rm4-VUYRCwc5",
        "outputId": "afceb5a9-a646-4b3b-8eb1-6b571574b909"
      },
      "execution_count": 25,
      "outputs": [
        {
          "output_type": "stream",
          "name": "stdout",
          "text": [
            "[[1, 1, 1], [2, 2, 2], [3, 3, 3]] [[1, 1, 1], 'changed']\n"
          ]
        }
      ]
    },
    {
      "cell_type": "code",
      "source": [
        "sub[0][0] = \"changed\"\n",
        "\n",
        "print(list01,sub)"
      ],
      "metadata": {
        "colab": {
          "base_uri": "https://localhost:8080/"
        },
        "id": "JYxgcYYFDZJJ",
        "outputId": "a8146569-f90e-45b8-b70b-bd426b8ad278"
      },
      "execution_count": 26,
      "outputs": [
        {
          "output_type": "stream",
          "name": "stdout",
          "text": [
            "[['changed', 1, 1], [2, 2, 2], [3, 3, 3]] [['changed', 1, 1], 'changed']\n"
          ]
        }
      ]
    },
    {
      "cell_type": "code",
      "source": [
        "s = \"python rocks !\"\n",
        "\n",
        "print(s[:6])"
      ],
      "metadata": {
        "colab": {
          "base_uri": "https://localhost:8080/"
        },
        "id": "4kBsuoNiDkuM",
        "outputId": "c6e2f6d6-f6af-4581-c5ec-5195960a44fa"
      },
      "execution_count": 27,
      "outputs": [
        {
          "output_type": "stream",
          "name": "stdout",
          "text": [
            "python\n"
          ]
        }
      ]
    },
    {
      "cell_type": "code",
      "source": [
        "l = [1,2,3,4]\n",
        "\n",
        "l1 = l[:]\n",
        "\n",
        "print(l,l1)"
      ],
      "metadata": {
        "colab": {
          "base_uri": "https://localhost:8080/"
        },
        "id": "j1ifZ_pxEDTq",
        "outputId": "8c0f756c-3445-4a11-c8cc-8d6c564da113"
      },
      "execution_count": 28,
      "outputs": [
        {
          "output_type": "stream",
          "name": "stdout",
          "text": [
            "[1, 2, 3, 4] [1, 2, 3, 4]\n"
          ]
        }
      ]
    },
    {
      "cell_type": "code",
      "source": [
        "l1[0] = 100\n",
        "\n",
        "print(l,l1)"
      ],
      "metadata": {
        "colab": {
          "base_uri": "https://localhost:8080/"
        },
        "id": "NGlU1VnDEb0p",
        "outputId": "b76b5df9-b093-43b4-d03e-14dd9f109cef"
      },
      "execution_count": 29,
      "outputs": [
        {
          "output_type": "stream",
          "name": "stdout",
          "text": [
            "[1, 2, 3, 4] [100, 2, 3, 4]\n"
          ]
        }
      ]
    },
    {
      "cell_type": "code",
      "source": [
        "l = [1,2,3,4,5,6,7,8,9]\n",
        "\n",
        "print(l[::2])"
      ],
      "metadata": {
        "colab": {
          "base_uri": "https://localhost:8080/"
        },
        "id": "oc9DCbiAEe0q",
        "outputId": "e86418dc-7902-4b25-8022-0bacdfab69c7"
      },
      "execution_count": 30,
      "outputs": [
        {
          "output_type": "stream",
          "name": "stdout",
          "text": [
            "[1, 3, 5, 7, 9]\n"
          ]
        }
      ]
    },
    {
      "cell_type": "code",
      "source": [
        "print(l[-1:-6:-2])"
      ],
      "metadata": {
        "colab": {
          "base_uri": "https://localhost:8080/"
        },
        "id": "B4JDLiKRFDjd",
        "outputId": "ebe452d1-bd67-4944-b014-16c316fb7bd0"
      },
      "execution_count": 32,
      "outputs": [
        {
          "output_type": "stream",
          "name": "stdout",
          "text": [
            "[9, 7, 5]\n"
          ]
        }
      ]
    },
    {
      "cell_type": "code",
      "source": [
        "print(l[5::-1])"
      ],
      "metadata": {
        "colab": {
          "base_uri": "https://localhost:8080/"
        },
        "id": "JHSVO2YlFpne",
        "outputId": "d289b595-4282-4f60-c8fa-30af99724eee"
      },
      "execution_count": 33,
      "outputs": [
        {
          "output_type": "stream",
          "name": "stdout",
          "text": [
            "[6, 5, 4, 3, 2, 1]\n"
          ]
        }
      ]
    },
    {
      "cell_type": "code",
      "source": [
        "# palindrome\n",
        "\n",
        "x = \"racecar\"\n",
        "\n",
        "x == x[::-1]"
      ],
      "metadata": {
        "colab": {
          "base_uri": "https://localhost:8080/"
        },
        "id": "oSfZDfeVGK1B",
        "outputId": "34eab976-6411-47ff-afe3-625b024d4e23"
      },
      "execution_count": 35,
      "outputs": [
        {
          "output_type": "execute_result",
          "data": {
            "text/plain": [
              "True"
            ]
          },
          "metadata": {},
          "execution_count": 35
        }
      ]
    },
    {
      "cell_type": "code",
      "source": [
        "# manipulating\n",
        "\n",
        "# adding element\n",
        "\n",
        "print(l)\n",
        "\n",
        "l[2] = \"True\"\n",
        "\n",
        "print(l)"
      ],
      "metadata": {
        "colab": {
          "base_uri": "https://localhost:8080/"
        },
        "id": "zUc7DDwGGiEC",
        "outputId": "2b487ad7-9e26-487a-bf72-05a5d9fd5641"
      },
      "execution_count": 36,
      "outputs": [
        {
          "output_type": "stream",
          "name": "stdout",
          "text": [
            "[1, 2, 3, 4, 5, 6, 7, 8, 9]\n",
            "[1, 2, 'True', 4, 5, 6, 7, 8, 9]\n"
          ]
        }
      ]
    },
    {
      "cell_type": "code",
      "source": [
        "l[3:7] = [\"A\",\"B\"]"
      ],
      "metadata": {
        "id": "l5BMwar2H-vD"
      },
      "execution_count": 37,
      "outputs": []
    },
    {
      "cell_type": "code",
      "source": [
        "print(l)"
      ],
      "metadata": {
        "colab": {
          "base_uri": "https://localhost:8080/"
        },
        "id": "BrBn8WhIILDt",
        "outputId": "0f8f22eb-b515-4a57-bc81-0b4772e78a73"
      },
      "execution_count": 38,
      "outputs": [
        {
          "output_type": "stream",
          "name": "stdout",
          "text": [
            "[1, 2, 'True', 'A', 'B', 8, 9]\n"
          ]
        }
      ]
    },
    {
      "cell_type": "markdown",
      "source": [
        "# del"
      ],
      "metadata": {
        "id": "pX_ZQmDJJ6ui"
      }
    },
    {
      "cell_type": "code",
      "source": [
        "# deleting element\n",
        "\n",
        "del l[2]\n",
        "print(l)"
      ],
      "metadata": {
        "colab": {
          "base_uri": "https://localhost:8080/"
        },
        "id": "hyE9pC_sIMNB",
        "outputId": "e7e49309-8746-424a-e35e-a63305450d07"
      },
      "execution_count": 39,
      "outputs": [
        {
          "output_type": "stream",
          "name": "stdout",
          "text": [
            "[1, 2, 'A', 'B', 8, 9]\n"
          ]
        }
      ]
    },
    {
      "cell_type": "code",
      "source": [
        "del l [2:4]\n",
        "\n",
        "print(l)"
      ],
      "metadata": {
        "colab": {
          "base_uri": "https://localhost:8080/"
        },
        "id": "wNCckg-MIguM",
        "outputId": "9d0085a1-1bd6-4a9a-8f4a-e5da8bf314b9"
      },
      "execution_count": 40,
      "outputs": [
        {
          "output_type": "stream",
          "name": "stdout",
          "text": [
            "[1, 2, 8, 9]\n"
          ]
        }
      ]
    },
    {
      "cell_type": "markdown",
      "source": [
        "# appending an elemnt at the end"
      ],
      "metadata": {
        "id": "sMyU7X9JJ-qB"
      }
    },
    {
      "cell_type": "code",
      "source": [
        "# appending elements to list\n",
        "# .append\n",
        "\n",
        "a = [\"A\",\"B\",\"C\"]\n",
        "\n",
        "l.append(a)\n",
        "\n",
        "print(l)\n",
        "\n",
        "print(a)"
      ],
      "metadata": {
        "colab": {
          "base_uri": "https://localhost:8080/"
        },
        "id": "r0xrr6zRIpl4",
        "outputId": "c226ea13-68ef-462f-eba2-857b1d1f0768"
      },
      "execution_count": 41,
      "outputs": [
        {
          "output_type": "stream",
          "name": "stdout",
          "text": [
            "[1, 2, 8, 9, ['A', 'B', 'C']]\n",
            "['A', 'B', 'C']\n"
          ]
        }
      ]
    },
    {
      "cell_type": "markdown",
      "source": [
        "# extend"
      ],
      "metadata": {
        "id": "cdQh-YRzKCwv"
      }
    },
    {
      "cell_type": "code",
      "source": [
        "# .extend\n",
        "\n",
        "\n",
        "l.extend(a)\n",
        "\n",
        "print(l)"
      ],
      "metadata": {
        "colab": {
          "base_uri": "https://localhost:8080/"
        },
        "id": "fAOBgMQDI7MZ",
        "outputId": "8fd18882-eaf4-4046-b23d-99dbb2d3cd90"
      },
      "execution_count": 43,
      "outputs": [
        {
          "output_type": "stream",
          "name": "stdout",
          "text": [
            "[1, 2, 8, 9, ['A', 'B', 'C'], 'A', 'B', 'C', 'A', 'B', 'C']\n"
          ]
        }
      ]
    },
    {
      "cell_type": "markdown",
      "source": [
        "# insert"
      ],
      "metadata": {
        "id": "GKSyp2ZBKF84"
      }
    },
    {
      "cell_type": "code",
      "source": [
        "# inserting an element in the middle of sequence\n",
        "# time take in more as it has to shift eveything from the middle.\n",
        "\n",
        "l.insert(2,\"Inserted\")\n",
        "\n",
        "print(l)"
      ],
      "metadata": {
        "colab": {
          "base_uri": "https://localhost:8080/"
        },
        "id": "TwvZUEszJDDO",
        "outputId": "1812a296-4348-43b5-9cea-2544df148bd6"
      },
      "execution_count": 44,
      "outputs": [
        {
          "output_type": "stream",
          "name": "stdout",
          "text": [
            "[1, 2, 'Inserted', 8, 9, ['A', 'B', 'C'], 'A', 'B', 'C', 'A', 'B', 'C']\n"
          ]
        }
      ]
    },
    {
      "cell_type": "markdown",
      "source": [
        "# practice"
      ],
      "metadata": {
        "id": "bPfxgea0Kdfy"
      }
    },
    {
      "cell_type": "code",
      "source": [
        " l = [1,2,3,4,5,6,7,8,9]\n",
        "\n",
        " l[3] = \"Changed\"\n",
        "\n",
        " print(l)"
      ],
      "metadata": {
        "colab": {
          "base_uri": "https://localhost:8080/"
        },
        "id": "P9rwWzcKKc6P",
        "outputId": "0ebf4bf7-7abe-4cb1-98d8-41f48447979f"
      },
      "execution_count": 70,
      "outputs": [
        {
          "output_type": "stream",
          "name": "stdout",
          "text": [
            "[1, 2, 3, 'Changed', 5, 6, 7, 8, 9]\n"
          ]
        }
      ]
    },
    {
      "cell_type": "code",
      "source": [
        "l[3:5] = \"Python\"\n",
        "\n",
        "print(l)"
      ],
      "metadata": {
        "colab": {
          "base_uri": "https://localhost:8080/"
        },
        "id": "Dm0o5A5PJlqe",
        "outputId": "e9ec7890-0e5c-4a8d-e4d0-3ed5d39d6091"
      },
      "execution_count": 71,
      "outputs": [
        {
          "output_type": "stream",
          "name": "stdout",
          "text": [
            "[1, 2, 3, 'P', 'y', 't', 'h', 'o', 'n', 6, 7, 8, 9]\n"
          ]
        }
      ]
    },
    {
      "cell_type": "code",
      "source": [
        "l[4] = \"Python\""
      ],
      "metadata": {
        "id": "VNX8eRkSKu4p"
      },
      "execution_count": 72,
      "outputs": []
    },
    {
      "cell_type": "code",
      "source": [
        "print(l)"
      ],
      "metadata": {
        "colab": {
          "base_uri": "https://localhost:8080/"
        },
        "id": "xiiONN_qK34V",
        "outputId": "8bd23c9c-e49c-4347-db25-9bb58ad14865"
      },
      "execution_count": 73,
      "outputs": [
        {
          "output_type": "stream",
          "name": "stdout",
          "text": [
            "[1, 2, 3, 'P', 'Python', 't', 'h', 'o', 'n', 6, 7, 8, 9]\n"
          ]
        }
      ]
    },
    {
      "cell_type": "code",
      "source": [
        "\n",
        "print(len(l))"
      ],
      "metadata": {
        "colab": {
          "base_uri": "https://localhost:8080/"
        },
        "id": "zS8lGsL1K4o2",
        "outputId": "1be9cbfb-ae40-4e6c-ea0f-a0c3fa14328e"
      },
      "execution_count": 74,
      "outputs": [
        {
          "output_type": "stream",
          "name": "stdout",
          "text": [
            "13\n"
          ]
        }
      ]
    },
    {
      "cell_type": "code",
      "source": [
        "# assigning using slicing\n",
        "\n",
        "l[::2] = 20,40,60,80,100,120,140\n",
        "\n",
        "print(l,len(l))"
      ],
      "metadata": {
        "colab": {
          "base_uri": "https://localhost:8080/"
        },
        "id": "lRWKuKTsLMoK",
        "outputId": "198fabad-c3a5-4c55-f0b2-f6985a5bb9ed"
      },
      "execution_count": 75,
      "outputs": [
        {
          "output_type": "stream",
          "name": "stdout",
          "text": [
            "[20, 2, 40, 'P', 60, 't', 80, 'o', 100, 6, 120, 8, 140] 13\n"
          ]
        }
      ]
    },
    {
      "cell_type": "code",
      "source": [
        "print(l[:-5:-1])\n",
        "l[:-5:-1] = 0,1,2,3\n",
        "\n",
        "print(l)"
      ],
      "metadata": {
        "colab": {
          "base_uri": "https://localhost:8080/"
        },
        "id": "FiTHKJtRLVC2",
        "outputId": "415eca13-51e7-4028-e7fe-31540a505166"
      },
      "execution_count": 76,
      "outputs": [
        {
          "output_type": "stream",
          "name": "stdout",
          "text": [
            "[140, 8, 120, 6]\n",
            "[20, 2, 40, 'P', 60, 't', 80, 'o', 100, 3, 2, 1, 0]\n"
          ]
        }
      ]
    },
    {
      "cell_type": "code",
      "source": [
        "# del\n",
        "\n",
        "del l[::2]\n",
        "print(l)"
      ],
      "metadata": {
        "colab": {
          "base_uri": "https://localhost:8080/"
        },
        "id": "OI3HXyxQL86Z",
        "outputId": "c6beea3c-b869-4fe5-a034-846f7828c3d5"
      },
      "execution_count": 77,
      "outputs": [
        {
          "output_type": "stream",
          "name": "stdout",
          "text": [
            "[2, 'P', 't', 'o', 3, 1]\n"
          ]
        }
      ]
    },
    {
      "cell_type": "code",
      "source": [
        "print(l)"
      ],
      "metadata": {
        "colab": {
          "base_uri": "https://localhost:8080/"
        },
        "id": "j973n1mONAcF",
        "outputId": "99205e32-30b5-435a-9dcd-28018a02e8e3"
      },
      "execution_count": 78,
      "outputs": [
        {
          "output_type": "stream",
          "name": "stdout",
          "text": [
            "[2, 'P', 't', 'o', 3, 1]\n"
          ]
        }
      ]
    },
    {
      "cell_type": "code",
      "source": [
        "del l[0:1]\n",
        "\n",
        "print(l)"
      ],
      "metadata": {
        "colab": {
          "base_uri": "https://localhost:8080/"
        },
        "id": "8bpkgMu2NGEo",
        "outputId": "91ccf85e-069c-4659-db57-a7fa27674e2e"
      },
      "execution_count": 79,
      "outputs": [
        {
          "output_type": "stream",
          "name": "stdout",
          "text": [
            "['P', 't', 'o', 3, 1]\n"
          ]
        }
      ]
    },
    {
      "cell_type": "code",
      "source": [
        "# append\n",
        "\n",
        "l.append(\"python\")\n",
        "\n",
        "print(l)"
      ],
      "metadata": {
        "colab": {
          "base_uri": "https://localhost:8080/"
        },
        "id": "q9kX_I1XNRhT",
        "outputId": "9b214389-451a-4787-f7bb-d68f56a56099"
      },
      "execution_count": 80,
      "outputs": [
        {
          "output_type": "stream",
          "name": "stdout",
          "text": [
            "['P', 't', 'o', 3, 1, 'python']\n"
          ]
        }
      ]
    },
    {
      "cell_type": "code",
      "source": [
        "l.append([1,2,3])"
      ],
      "metadata": {
        "id": "N9z6mjRJNjum"
      },
      "execution_count": 82,
      "outputs": []
    },
    {
      "cell_type": "code",
      "source": [
        "print(l)"
      ],
      "metadata": {
        "colab": {
          "base_uri": "https://localhost:8080/"
        },
        "id": "-lZXR7doNokJ",
        "outputId": "792f7842-a2b6-4537-f3e0-21fdc3a5396f"
      },
      "execution_count": 83,
      "outputs": [
        {
          "output_type": "stream",
          "name": "stdout",
          "text": [
            "['P', 't', 'o', 3, 1, 'python', [1, 2, 3], [1, 2, 3]]\n"
          ]
        }
      ]
    },
    {
      "cell_type": "code",
      "source": [
        "# pop\n",
        "l.pop()\n",
        "\n",
        "print(l)"
      ],
      "metadata": {
        "colab": {
          "base_uri": "https://localhost:8080/"
        },
        "id": "YASESki3NsOi",
        "outputId": "765b07b4-b28e-43f2-d586-10bf8d84e179"
      },
      "execution_count": 84,
      "outputs": [
        {
          "output_type": "stream",
          "name": "stdout",
          "text": [
            "['P', 't', 'o', 3, 1, 'python', [1, 2, 3]]\n"
          ]
        }
      ]
    },
    {
      "cell_type": "code",
      "source": [
        "# extend\n",
        "\n",
        "l.extend([1,2,3])\n",
        "\n",
        "print(l)"
      ],
      "metadata": {
        "colab": {
          "base_uri": "https://localhost:8080/"
        },
        "id": "tBw7RiqENw9V",
        "outputId": "f94b9c2b-c6b3-4701-9ef5-8076f4d3748a"
      },
      "execution_count": 85,
      "outputs": [
        {
          "output_type": "stream",
          "name": "stdout",
          "text": [
            "['P', 't', 'o', 3, 1, 'python', [1, 2, 3], 1, 2, 3]\n"
          ]
        }
      ]
    },
    {
      "cell_type": "code",
      "source": [
        "l.extend(\"python\")\n",
        "\n",
        "print(l)"
      ],
      "metadata": {
        "colab": {
          "base_uri": "https://localhost:8080/"
        },
        "id": "fQu-U_NeN6Rd",
        "outputId": "45d35485-8b54-4025-a735-a306824c693f"
      },
      "execution_count": 86,
      "outputs": [
        {
          "output_type": "stream",
          "name": "stdout",
          "text": [
            "['P', 't', 'o', 3, 1, 'python', [1, 2, 3], 1, 2, 3, 'p', 'y', 't', 'h', 'o', 'n']\n"
          ]
        }
      ]
    },
    {
      "cell_type": "code",
      "source": [
        "# insert\n",
        "\n",
        "l.insert(5,\"Inserted\")\n",
        "\n",
        "print(l)"
      ],
      "metadata": {
        "colab": {
          "base_uri": "https://localhost:8080/"
        },
        "id": "UUsZuxLFN-Nm",
        "outputId": "3de22da0-b7e4-4c45-cae0-c5c1db32dbaa"
      },
      "execution_count": 88,
      "outputs": [
        {
          "output_type": "stream",
          "name": "stdout",
          "text": [
            "['P', 't', 'o', 3, 1, 'Inserted', 'True', 'python', [1, 2, 3], 1, 2, 3, 'p', 'y', 't', 'h', 'o', 'n']\n"
          ]
        }
      ]
    },
    {
      "cell_type": "code",
      "source": [
        "# appending is faster than inserting"
      ],
      "metadata": {
        "id": "_GgT1vZVOECK"
      },
      "execution_count": 89,
      "outputs": []
    },
    {
      "cell_type": "markdown",
      "source": [
        "# copying Sequences\n",
        "\n",
        "shallow copy  - a new sequence is created but the element references are the same - elements are same - if the elements are mutables - it changes the original elements.\n",
        "\n",
        "index 0   \n",
        "\n",
        "deep copy  - a new copy is created but the elemnets are not referenced to the same element"
      ],
      "metadata": {
        "id": "7xMcAOlrbqZK"
      }
    },
    {
      "cell_type": "code",
      "source": [
        "# shallow copy\n",
        "\n",
        "l = [1,2,3,4]\n",
        "\n",
        "l1 = l[:]\n",
        "\n",
        "l2 = l.copy()\n",
        "\n",
        "print(l,l1,l2)"
      ],
      "metadata": {
        "colab": {
          "base_uri": "https://localhost:8080/"
        },
        "id": "MRPhqIkSPJ89",
        "outputId": "ad618d8d-580c-48c3-9feb-1d071dfdbedb"
      },
      "execution_count": 105,
      "outputs": [
        {
          "output_type": "stream",
          "name": "stdout",
          "text": [
            "[1, 2, 3, 4] [1, 2, 3, 4] [1, 2, 3, 4]\n"
          ]
        }
      ]
    },
    {
      "cell_type": "code",
      "source": [
        "l is l1 # they are not same objects"
      ],
      "metadata": {
        "colab": {
          "base_uri": "https://localhost:8080/"
        },
        "id": "flxpPSEAqi_T",
        "outputId": "57009d0f-4c72-4358-a3f9-d7f9578edb83"
      },
      "execution_count": 110,
      "outputs": [
        {
          "output_type": "execute_result",
          "data": {
            "text/plain": [
              "False"
            ]
          },
          "metadata": {},
          "execution_count": 110
        }
      ]
    },
    {
      "cell_type": "code",
      "source": [
        "m = [[1,0,0],[0,1,0],[0,0,1]]\n",
        "\n",
        "print(m)"
      ],
      "metadata": {
        "colab": {
          "base_uri": "https://localhost:8080/"
        },
        "id": "rY0ygF2aqtQP",
        "outputId": "954f109b-b696-4c60-c6ab-66acf30a2717"
      },
      "execution_count": 116,
      "outputs": [
        {
          "output_type": "stream",
          "name": "stdout",
          "text": [
            "[[1, 0, 0], [0, 1, 0], [0, 0, 1]]\n"
          ]
        }
      ]
    },
    {
      "cell_type": "code",
      "source": [
        "m1 = m[:]\n",
        "\n",
        "print(m,m1)"
      ],
      "metadata": {
        "colab": {
          "base_uri": "https://localhost:8080/"
        },
        "id": "nYDFi5rwrIE9",
        "outputId": "b6ef375b-5cbf-4b5b-e46a-5ddf114ffd1a"
      },
      "execution_count": 117,
      "outputs": [
        {
          "output_type": "stream",
          "name": "stdout",
          "text": [
            "[[1, 0, 0], [0, 1, 0], [0, 0, 1]] [[1, 0, 0], [0, 1, 0], [0, 0, 1]]\n"
          ]
        }
      ]
    },
    {
      "cell_type": "code",
      "source": [
        "m1[0] is m[0]"
      ],
      "metadata": {
        "colab": {
          "base_uri": "https://localhost:8080/"
        },
        "id": "xcvv7NOsrVjN",
        "outputId": "ba17dbda-5195-468c-9399-d2658d3c790f"
      },
      "execution_count": 118,
      "outputs": [
        {
          "output_type": "execute_result",
          "data": {
            "text/plain": [
              "True"
            ]
          },
          "metadata": {},
          "execution_count": 118
        }
      ]
    },
    {
      "cell_type": "code",
      "source": [
        "m1[0].append(-1)\n",
        "\n",
        "print(m,m1)"
      ],
      "metadata": {
        "colab": {
          "base_uri": "https://localhost:8080/"
        },
        "id": "E_HH-5xtrj47",
        "outputId": "8ba30bc7-642c-4030-e6af-0e2c972ad0f4"
      },
      "execution_count": 119,
      "outputs": [
        {
          "output_type": "stream",
          "name": "stdout",
          "text": [
            "[[1, 0, 0, -1], [0, 1, 0], [0, 0, 1]] [[1, 0, 0, -1], [0, 1, 0], [0, 0, 1]]\n"
          ]
        }
      ]
    },
    {
      "cell_type": "code",
      "source": [
        "# deep copy\n",
        "\n",
        "from copy import deepcopy\n",
        "\n",
        "m2 = deepcopy(m)\n",
        "\n",
        "print(m,m2)"
      ],
      "metadata": {
        "colab": {
          "base_uri": "https://localhost:8080/"
        },
        "id": "ikTJB-jvruuA",
        "outputId": "5cd1b78b-0e84-48e1-bb5f-348a0194b30d"
      },
      "execution_count": 120,
      "outputs": [
        {
          "output_type": "stream",
          "name": "stdout",
          "text": [
            "[[1, 0, 0, -1], [0, 1, 0], [0, 0, 1]] [[1, 0, 0, -1], [0, 1, 0], [0, 0, 1]]\n"
          ]
        }
      ]
    },
    {
      "cell_type": "code",
      "source": [
        "m is m2"
      ],
      "metadata": {
        "colab": {
          "base_uri": "https://localhost:8080/"
        },
        "id": "NM25mb_xsBqz",
        "outputId": "dceb7cfe-f6ac-4897-d31a-d5986a55058c"
      },
      "execution_count": 121,
      "outputs": [
        {
          "output_type": "execute_result",
          "data": {
            "text/plain": [
              "False"
            ]
          },
          "metadata": {},
          "execution_count": 121
        }
      ]
    },
    {
      "cell_type": "code",
      "source": [
        "m[0] is m2[0]"
      ],
      "metadata": {
        "colab": {
          "base_uri": "https://localhost:8080/"
        },
        "id": "M4fusRgDsGeq",
        "outputId": "858a232d-4f8b-4d56-d61f-ecaad501e4c4"
      },
      "execution_count": 124,
      "outputs": [
        {
          "output_type": "execute_result",
          "data": {
            "text/plain": [
              "False"
            ]
          },
          "metadata": {},
          "execution_count": 124
        }
      ]
    },
    {
      "cell_type": "code",
      "source": [
        "m2[0].append(10)\n",
        "\n",
        "print(m,m2)"
      ],
      "metadata": {
        "colab": {
          "base_uri": "https://localhost:8080/"
        },
        "id": "0wI8YoPlsIw0",
        "outputId": "fc9c6f6e-d202-4871-f607-bf25b1e6d067"
      },
      "execution_count": 125,
      "outputs": [
        {
          "output_type": "stream",
          "name": "stdout",
          "text": [
            "[[1, 0, 0, -1], [0, 1, 0], [0, 0, 1]] [[1, 0, 0, -1, 10], [0, 1, 0], [0, 0, 1]]\n"
          ]
        }
      ]
    },
    {
      "cell_type": "code",
      "source": [
        "del m1[0]\n",
        "\n",
        "print(m,m1,m2)"
      ],
      "metadata": {
        "colab": {
          "base_uri": "https://localhost:8080/"
        },
        "id": "pZTm_t9QsSpx",
        "outputId": "493cca2d-94d3-4f7e-bbaa-352f45533bad"
      },
      "execution_count": 126,
      "outputs": [
        {
          "output_type": "stream",
          "name": "stdout",
          "text": [
            "[[1, 0, 0, -1], [0, 1, 0], [0, 0, 1]] [[0, 1, 0], [0, 0, 1]] [[1, 0, 0, -1, 10], [0, 1, 0], [0, 0, 1]]\n"
          ]
        }
      ]
    },
    {
      "cell_type": "markdown",
      "source": [
        "# Unpacking Sequences\n",
        "\n",
        "Both the sides must be the same"
      ],
      "metadata": {
        "id": "Tcmru_oUsu4L"
      }
    },
    {
      "cell_type": "code",
      "source": [
        "a,b,c = (11,33,22)\n",
        "\n",
        "print(a,b,c)"
      ],
      "metadata": {
        "colab": {
          "base_uri": "https://localhost:8080/"
        },
        "id": "x3b_3iONsYaX",
        "outputId": "014613af-168c-46ec-bc4c-2cfc1d298f1f"
      },
      "execution_count": 127,
      "outputs": [
        {
          "output_type": "stream",
          "name": "stdout",
          "text": [
            "11 33 22\n"
          ]
        }
      ]
    },
    {
      "cell_type": "code",
      "source": [
        "a,b,c = [11,33,22]\n",
        "\n",
        "print(a,b,c)"
      ],
      "metadata": {
        "colab": {
          "base_uri": "https://localhost:8080/"
        },
        "id": "i11XDXuZs9cd",
        "outputId": "f057fbc6-48e5-4ae4-a0ad-2e0531e7d776"
      },
      "execution_count": 128,
      "outputs": [
        {
          "output_type": "stream",
          "name": "stdout",
          "text": [
            "11 33 22\n"
          ]
        }
      ]
    },
    {
      "cell_type": "code",
      "source": [
        "a,b,c = 'xyz'\n",
        "\n",
        "print(a,b,c)"
      ],
      "metadata": {
        "colab": {
          "base_uri": "https://localhost:8080/"
        },
        "id": "tGQVzsPCtCH_",
        "outputId": "17b6d62a-1898-4791-9d1a-8a0080306045"
      },
      "execution_count": 129,
      "outputs": [
        {
          "output_type": "stream",
          "name": "stdout",
          "text": [
            "x y z\n"
          ]
        }
      ]
    },
    {
      "cell_type": "code",
      "source": [
        "# swapping 2 numebrs\n",
        "\n",
        "a = 100\n",
        "b = 20\n",
        "\n",
        "print(a,b)\n"
      ],
      "metadata": {
        "colab": {
          "base_uri": "https://localhost:8080/"
        },
        "id": "DwKwdkxZtIVO",
        "outputId": "c082edf3-b1c4-4ac5-e965-b061fa2e655d"
      },
      "execution_count": 134,
      "outputs": [
        {
          "output_type": "stream",
          "name": "stdout",
          "text": [
            "100 20\n"
          ]
        }
      ]
    },
    {
      "cell_type": "code",
      "source": [
        "temp = a\n",
        "a = b\n",
        "b = temp\n",
        "\n",
        "print(a,b)"
      ],
      "metadata": {
        "colab": {
          "base_uri": "https://localhost:8080/"
        },
        "id": "tv6S2DObth-w",
        "outputId": "105b79b4-c220-4127-f660-12264821670c"
      },
      "execution_count": 131,
      "outputs": [
        {
          "output_type": "stream",
          "name": "stdout",
          "text": [
            "20 10\n"
          ]
        }
      ]
    },
    {
      "cell_type": "code",
      "source": [
        "# swapping 2 numebrs using unpacking\n",
        "\n",
        "a,b = b,a\n",
        "\n",
        "print(a,b)"
      ],
      "metadata": {
        "colab": {
          "base_uri": "https://localhost:8080/"
        },
        "id": "KhAOpkRituNk",
        "outputId": "83af17cb-efe9-4685-e5fd-701654a1f7df"
      },
      "execution_count": 135,
      "outputs": [
        {
          "output_type": "stream",
          "name": "stdout",
          "text": [
            "20 100\n"
          ]
        }
      ]
    },
    {
      "cell_type": "code",
      "source": [
        "a = 10\n",
        "b = 20\n",
        "c = 30\n",
        "\n",
        "temp = a\n",
        "print(f'temp {temp}')\n",
        "a = c\n",
        "print(f'a {a}')\n",
        "b = b\n",
        "print(f'b {b}')\n",
        "\n",
        "c = temp\n",
        "print(f'c {c}')\n"
      ],
      "metadata": {
        "colab": {
          "base_uri": "https://localhost:8080/"
        },
        "id": "83Q3KL4NuHie",
        "outputId": "ae108528-f85a-4b7d-bd80-444adf8e5d37"
      },
      "execution_count": 143,
      "outputs": [
        {
          "output_type": "stream",
          "name": "stdout",
          "text": [
            "temp 10\n",
            "a 30\n",
            "b 20\n",
            "c 10\n"
          ]
        }
      ]
    },
    {
      "cell_type": "code",
      "source": [
        "# sequence unpacking\n",
        "a,b,c = 30,20,10\n",
        "\n",
        "print(a,b,c)"
      ],
      "metadata": {
        "colab": {
          "base_uri": "https://localhost:8080/"
        },
        "id": "ofdslSDeuibF",
        "outputId": "3e12f228-461b-4d69-8884-04b124886a1c"
      },
      "execution_count": 145,
      "outputs": [
        {
          "output_type": "stream",
          "name": "stdout",
          "text": [
            "30 20 10\n"
          ]
        }
      ]
    },
    {
      "cell_type": "code",
      "source": [],
      "metadata": {
        "id": "qtVVcNtIwAsG"
      },
      "execution_count": null,
      "outputs": []
    }
  ]
}