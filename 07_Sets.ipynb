{
  "nbformat": 4,
  "nbformat_minor": 0,
  "metadata": {
    "colab": {
      "provenance": [],
      "authorship_tag": "ABX9TyNPG8j0larKd78dyJUmmkqv",
      "include_colab_link": true
    },
    "kernelspec": {
      "name": "python3",
      "display_name": "Python 3"
    },
    "language_info": {
      "name": "python"
    }
  },
  "cells": [
    {
      "cell_type": "markdown",
      "metadata": {
        "id": "view-in-github",
        "colab_type": "text"
      },
      "source": [
        "<a href=\"https://colab.research.google.com/github/RaghuVDs/Python/blob/main/07_Sets.ipynb\" target=\"_parent\"><img src=\"https://colab.research.google.com/assets/colab-badge.svg\" alt=\"Open In Colab\"/></a>"
      ]
    },
    {
      "cell_type": "markdown",
      "source": [
        "# Sets\n",
        "\n",
        "1. collection of elements\n",
        "2. no ordering of elements\n",
        "3. each element is unique\n",
        "4. iterable - no iterable order\n",
        "5. there is no insertion order as well\n",
        "\n",
        "# operations\n",
        "\n",
        "1. union - Combines all the unique elements from two or more sets into a single set.\n",
        "2. intersection -  Finds the elements that are common to two or more sets.\n",
        "3. difference - Determines the elements that are in one set but not in another.\n",
        "4. membership -  Checks if an element belongs to a set.\n",
        "5. containments - subset, strict subset, superset, strict superset\n",
        "\n",
        "# containments\n",
        "1. Subset (⊆): A set A is a subset of set B if all elements of A are also in B.\n",
        "Example: {1, 2} ⊆ {1, 2, 3}\n",
        "2. Strict Subset (⊂): A set A is a strict subset of set B if all elements of A are in B, but A and B are not equal.\n",
        "Example: {1, 2} ⊂ {1, 2, 3}\n",
        "3. Superset (⊇): A set A is a superset of set B if all elements of B are also in A.\n",
        "Example: {1, 2, 3} ⊇ {1, 2}\n",
        "4. Strict Superset (⊃): A set A is a strict superset of set B if all elements of B are in A, but A and B are not equal.\n",
        "Example: {1, 2, 3} ⊃ {1, 2}"
      ],
      "metadata": {
        "id": "rET6nRKctkXR"
      }
    },
    {
      "cell_type": "markdown",
      "source": [
        "# sets are - dict without values\n",
        "\n",
        "type  set\n",
        "\n",
        "iterables\n",
        "\n",
        "no order\n",
        "\n",
        "not hashable"
      ],
      "metadata": {
        "id": "4k7gqvmvv_2H"
      }
    },
    {
      "cell_type": "code",
      "execution_count": 1,
      "metadata": {
        "colab": {
          "base_uri": "https://localhost:8080/"
        },
        "id": "XOf-GI_mtOlD",
        "outputId": "cfa44c83-87d3-400e-d75f-3eb4846016b0"
      },
      "outputs": [
        {
          "output_type": "stream",
          "name": "stdout",
          "text": [
            "{False, 1, None, 'Hello'}\n"
          ]
        }
      ],
      "source": [
        "sets = {1,1,True,False,None,\"Hello\"}\n",
        "print(sets)"
      ]
    },
    {
      "cell_type": "code",
      "source": [
        "sets = set([1,1,True,False,None,\"Hello\"])\n",
        "sets"
      ],
      "metadata": {
        "colab": {
          "base_uri": "https://localhost:8080/"
        },
        "id": "Jd1pG5pewr5U",
        "outputId": "abbb9a1c-7502-4274-dfe0-8217ec3741eb"
      },
      "execution_count": 2,
      "outputs": [
        {
          "output_type": "execute_result",
          "data": {
            "text/plain": [
              "{1, False, 'Hello', None}"
            ]
          },
          "metadata": {},
          "execution_count": 2
        }
      ]
    },
    {
      "cell_type": "code",
      "source": [
        "list = [1,2,3,3,True,False,None,\"Hello\"]\n",
        "sets = set(list)\n",
        "sets"
      ],
      "metadata": {
        "colab": {
          "base_uri": "https://localhost:8080/"
        },
        "id": "tqaN4RAhw10j",
        "outputId": "2b2a6772-8a26-472e-ef1b-a4e6f3aa9154"
      },
      "execution_count": 3,
      "outputs": [
        {
          "output_type": "execute_result",
          "data": {
            "text/plain": [
              "{1, 2, 3, False, 'Hello', None}"
            ]
          },
          "metadata": {},
          "execution_count": 3
        }
      ]
    },
    {
      "cell_type": "code",
      "source": [
        "s = set(\"Hello\")\n",
        "s"
      ],
      "metadata": {
        "colab": {
          "base_uri": "https://localhost:8080/"
        },
        "id": "GIx2wXp1xHjT",
        "outputId": "cd05932b-59ae-4037-b759-e60f2f42d5c7"
      },
      "execution_count": 4,
      "outputs": [
        {
          "output_type": "execute_result",
          "data": {
            "text/plain": [
              "{'H', 'e', 'l', 'o'}"
            ]
          },
          "metadata": {},
          "execution_count": 4
        }
      ]
    },
    {
      "cell_type": "code",
      "source": [
        "for i in s:\n",
        "    print(i)"
      ],
      "metadata": {
        "colab": {
          "base_uri": "https://localhost:8080/"
        },
        "id": "Aw5S96IFxNIF",
        "outputId": "dcc844af-ebdf-4dfd-869c-df5d755e3bd6"
      },
      "execution_count": 5,
      "outputs": [
        {
          "output_type": "stream",
          "name": "stdout",
          "text": [
            "l\n",
            "o\n",
            "e\n",
            "H\n"
          ]
        }
      ]
    },
    {
      "cell_type": "markdown",
      "source": [
        "# as there is no ordering they are not sequence type like dict"
      ],
      "metadata": {
        "id": "amYTtOp6xk0-"
      }
    },
    {
      "cell_type": "code",
      "source": [
        "# empty set\n",
        "\n",
        "empty_set = set()\n",
        "empty_set"
      ],
      "metadata": {
        "colab": {
          "base_uri": "https://localhost:8080/"
        },
        "id": "u7QLU5WgxaFQ",
        "outputId": "93db5fdc-4c32-46ca-c586-97bb54e2c1fb"
      },
      "execution_count": 6,
      "outputs": [
        {
          "output_type": "execute_result",
          "data": {
            "text/plain": [
              "set()"
            ]
          },
          "metadata": {},
          "execution_count": 6
        }
      ]
    },
    {
      "cell_type": "code",
      "source": [
        "print(type(empty_set))"
      ],
      "metadata": {
        "colab": {
          "base_uri": "https://localhost:8080/"
        },
        "id": "uSC4NXosyCZ7",
        "outputId": "b954f3f6-00e5-4b6f-eaea-556b5f9053f5"
      },
      "execution_count": 7,
      "outputs": [
        {
          "output_type": "stream",
          "name": "stdout",
          "text": [
            "<class 'set'>\n"
          ]
        }
      ]
    },
    {
      "cell_type": "code",
      "source": [
        "\"H\" in s"
      ],
      "metadata": {
        "colab": {
          "base_uri": "https://localhost:8080/"
        },
        "id": "6_zgxys9yFMZ",
        "outputId": "e5a9b853-8585-4c61-91b5-328dd1e42e59"
      },
      "execution_count": 12,
      "outputs": [
        {
          "output_type": "execute_result",
          "data": {
            "text/plain": [
              "True"
            ]
          },
          "metadata": {},
          "execution_count": 12
        }
      ]
    },
    {
      "cell_type": "code",
      "source": [
        "s1 = s.copy()"
      ],
      "metadata": {
        "id": "-_efmrp9yOYF"
      },
      "execution_count": 13,
      "outputs": []
    },
    {
      "cell_type": "code",
      "source": [
        "s1"
      ],
      "metadata": {
        "colab": {
          "base_uri": "https://localhost:8080/"
        },
        "id": "-nRik9Dgyfnm",
        "outputId": "8df850e2-a3c4-458d-8bc3-e66a56138b7c"
      },
      "execution_count": 14,
      "outputs": [
        {
          "output_type": "execute_result",
          "data": {
            "text/plain": [
              "{'H', 'e', 'l', 'o'}"
            ]
          },
          "metadata": {},
          "execution_count": 14
        }
      ]
    },
    {
      "cell_type": "markdown",
      "source": [
        "# Commmon set operations\n",
        "\n",
        "1. disjoint - no common elemens - isdisjoint()\n",
        "2. .add()\n",
        "3. .remove() - key error if not exists\n",
        "4. .discard - same as remove - if there is a non existant element - there is no exception\n",
        "\n",
        "5. union - all elements but not duplicates\n",
        "6. intersection - all common\n",
        "\n"
      ],
      "metadata": {
        "id": "AamkwCTtykX7"
      }
    },
    {
      "cell_type": "code",
      "source": [
        "s1 = set(['abc'])\n",
        "s2 = set([True,False])\n",
        "s3 = set([\"a\",2,3])"
      ],
      "metadata": {
        "id": "TzI6XPQ3yhME"
      },
      "execution_count": 17,
      "outputs": []
    },
    {
      "cell_type": "code",
      "source": [
        "s1.isdisjoint(s2)"
      ],
      "metadata": {
        "colab": {
          "base_uri": "https://localhost:8080/"
        },
        "id": "EgT1v6uf02XP",
        "outputId": "55c742be-d5ec-40a3-fd9c-31be4ebac1f0"
      },
      "execution_count": 18,
      "outputs": [
        {
          "output_type": "execute_result",
          "data": {
            "text/plain": [
              "True"
            ]
          },
          "metadata": {},
          "execution_count": 18
        }
      ]
    },
    {
      "cell_type": "code",
      "source": [
        "s1.isdisjoint(s3)"
      ],
      "metadata": {
        "colab": {
          "base_uri": "https://localhost:8080/"
        },
        "id": "p3d0qTCN06bZ",
        "outputId": "45b4b768-186c-4ae6-8c4d-d616905c962e"
      },
      "execution_count": 19,
      "outputs": [
        {
          "output_type": "execute_result",
          "data": {
            "text/plain": [
              "True"
            ]
          },
          "metadata": {},
          "execution_count": 19
        }
      ]
    },
    {
      "cell_type": "code",
      "source": [
        "s1.add(2)\n",
        "s1"
      ],
      "metadata": {
        "colab": {
          "base_uri": "https://localhost:8080/"
        },
        "id": "M5JonGIi1BaG",
        "outputId": "8c62ef7c-528b-4d6c-e3c2-f3ae00ce9d5d"
      },
      "execution_count": 20,
      "outputs": [
        {
          "output_type": "execute_result",
          "data": {
            "text/plain": [
              "{2, 'abc'}"
            ]
          },
          "metadata": {},
          "execution_count": 20
        }
      ]
    },
    {
      "cell_type": "code",
      "source": [
        "s1.remove(2)\n",
        "s1"
      ],
      "metadata": {
        "colab": {
          "base_uri": "https://localhost:8080/"
        },
        "id": "8Tjtltqk1Fhr",
        "outputId": "33b1eee4-cc22-4eb8-c1d1-ec61533956a0"
      },
      "execution_count": 21,
      "outputs": [
        {
          "output_type": "execute_result",
          "data": {
            "text/plain": [
              "{'abc'}"
            ]
          },
          "metadata": {},
          "execution_count": 21
        }
      ]
    },
    {
      "cell_type": "code",
      "source": [
        "s1.remove(2)"
      ],
      "metadata": {
        "colab": {
          "base_uri": "https://localhost:8080/",
          "height": 146
        },
        "id": "uEEsdQzd1JUJ",
        "outputId": "ea839687-7a43-4cea-9d7c-ba9c403ccc2f"
      },
      "execution_count": 22,
      "outputs": [
        {
          "output_type": "error",
          "ename": "KeyError",
          "evalue": "2",
          "traceback": [
            "\u001b[0;31m---------------------------------------------------------------------------\u001b[0m",
            "\u001b[0;31mKeyError\u001b[0m                                  Traceback (most recent call last)",
            "\u001b[0;32m<ipython-input-22-c53c6efe4379>\u001b[0m in \u001b[0;36m<cell line: 1>\u001b[0;34m()\u001b[0m\n\u001b[0;32m----> 1\u001b[0;31m \u001b[0ms1\u001b[0m\u001b[0;34m.\u001b[0m\u001b[0mremove\u001b[0m\u001b[0;34m(\u001b[0m\u001b[0;36m2\u001b[0m\u001b[0;34m)\u001b[0m\u001b[0;34m\u001b[0m\u001b[0;34m\u001b[0m\u001b[0m\n\u001b[0m",
            "\u001b[0;31mKeyError\u001b[0m: 2"
          ]
        }
      ]
    },
    {
      "cell_type": "code",
      "source": [
        "s1.discard(2) # no exception\n",
        "s1"
      ],
      "metadata": {
        "colab": {
          "base_uri": "https://localhost:8080/"
        },
        "id": "RFpoF2FZ1LuE",
        "outputId": "2ea8e60c-c251-47da-9354-5ac307689141"
      },
      "execution_count": 24,
      "outputs": [
        {
          "output_type": "execute_result",
          "data": {
            "text/plain": [
              "{'abc'}"
            ]
          },
          "metadata": {},
          "execution_count": 24
        }
      ]
    },
    {
      "cell_type": "code",
      "source": [
        "s1 | s2"
      ],
      "metadata": {
        "colab": {
          "base_uri": "https://localhost:8080/"
        },
        "id": "65khuvOJ1O3x",
        "outputId": "a55f034c-11ab-4b3d-cfd2-cfdd85947c6f"
      },
      "execution_count": 25,
      "outputs": [
        {
          "output_type": "execute_result",
          "data": {
            "text/plain": [
              "{False, True, 'abc'}"
            ]
          },
          "metadata": {},
          "execution_count": 25
        }
      ]
    },
    {
      "cell_type": "code",
      "source": [
        "s1 & s3"
      ],
      "metadata": {
        "colab": {
          "base_uri": "https://localhost:8080/"
        },
        "id": "XJdcNoz811Ni",
        "outputId": "1435b09a-b340-48ba-e576-a907423198ae"
      },
      "execution_count": 26,
      "outputs": [
        {
          "output_type": "execute_result",
          "data": {
            "text/plain": [
              "set()"
            ]
          },
          "metadata": {},
          "execution_count": 26
        }
      ]
    },
    {
      "cell_type": "code",
      "source": [
        "string1 = \"Python is a great language\"\n",
        "string2 = \"Python is also a snake\""
      ],
      "metadata": {
        "id": "LHXdJUwI1-QR"
      },
      "execution_count": 29,
      "outputs": []
    },
    {
      "cell_type": "code",
      "source": [
        "set1 = set(string1)\n",
        "set2 = set(string2)"
      ],
      "metadata": {
        "id": "n_GzKdgo2NYw"
      },
      "execution_count": 30,
      "outputs": []
    },
    {
      "cell_type": "code",
      "source": [
        "set1 | set2"
      ],
      "metadata": {
        "colab": {
          "base_uri": "https://localhost:8080/"
        },
        "id": "muPBv4Hn2R9c",
        "outputId": "da21ce3b-d728-48b1-a034-8b199833b71f"
      },
      "execution_count": 31,
      "outputs": [
        {
          "output_type": "execute_result",
          "data": {
            "text/plain": [
              "{' ',\n",
              " 'P',\n",
              " 'a',\n",
              " 'e',\n",
              " 'g',\n",
              " 'h',\n",
              " 'i',\n",
              " 'k',\n",
              " 'l',\n",
              " 'n',\n",
              " 'o',\n",
              " 'r',\n",
              " 's',\n",
              " 't',\n",
              " 'u',\n",
              " 'y'}"
            ]
          },
          "metadata": {},
          "execution_count": 31
        }
      ]
    },
    {
      "cell_type": "code",
      "source": [
        "set1 & set2"
      ],
      "metadata": {
        "colab": {
          "base_uri": "https://localhost:8080/"
        },
        "id": "Qc7IQGSS2Ucf",
        "outputId": "a75face6-cc01-4fea-bccd-913e71142ec3"
      },
      "execution_count": 32,
      "outputs": [
        {
          "output_type": "execute_result",
          "data": {
            "text/plain": [
              "{' ', 'P', 'a', 'e', 'h', 'i', 'l', 'n', 'o', 's', 't', 'y'}"
            ]
          },
          "metadata": {},
          "execution_count": 32
        }
      ]
    },
    {
      "cell_type": "code",
      "source": [
        "import string"
      ],
      "metadata": {
        "id": "ngXgC2gX3b-H"
      },
      "execution_count": 35,
      "outputs": []
    },
    {
      "cell_type": "code",
      "source": [
        "?string"
      ],
      "metadata": {
        "id": "-BK6USUH2XQP"
      },
      "execution_count": 36,
      "outputs": []
    },
    {
      "cell_type": "code",
      "source": [
        "alphabet_lower = set(string.ascii_lowercase)\n",
        "alphabet_lower"
      ],
      "metadata": {
        "colab": {
          "base_uri": "https://localhost:8080/"
        },
        "id": "se6IR-ST3j-b",
        "outputId": "98623959-b3cb-4ce9-dd5f-c39f9e58e81e"
      },
      "execution_count": 39,
      "outputs": [
        {
          "output_type": "execute_result",
          "data": {
            "text/plain": [
              "{'a',\n",
              " 'b',\n",
              " 'c',\n",
              " 'd',\n",
              " 'e',\n",
              " 'f',\n",
              " 'g',\n",
              " 'h',\n",
              " 'i',\n",
              " 'j',\n",
              " 'k',\n",
              " 'l',\n",
              " 'm',\n",
              " 'n',\n",
              " 'o',\n",
              " 'p',\n",
              " 'q',\n",
              " 'r',\n",
              " 's',\n",
              " 't',\n",
              " 'u',\n",
              " 'v',\n",
              " 'w',\n",
              " 'x',\n",
              " 'y',\n",
              " 'z'}"
            ]
          },
          "metadata": {},
          "execution_count": 39
        }
      ]
    },
    {
      "cell_type": "code",
      "source": [
        "import numpy as np"
      ],
      "metadata": {
        "id": "pux0mfXH3a7U"
      },
      "execution_count": 40,
      "outputs": []
    },
    {
      "cell_type": "code",
      "source": [
        "?np"
      ],
      "metadata": {
        "id": "iDiwBIsw3svY"
      },
      "execution_count": 42,
      "outputs": []
    },
    {
      "cell_type": "code",
      "source": [],
      "metadata": {
        "id": "b227Vkv13uuf"
      },
      "execution_count": null,
      "outputs": []
    }
  ]
}