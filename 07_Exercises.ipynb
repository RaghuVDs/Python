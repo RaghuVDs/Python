{
  "cells": [
    {
      "cell_type": "markdown",
      "metadata": {
        "id": "view-in-github",
        "colab_type": "text"
      },
      "source": [
        "<a href=\"https://colab.research.google.com/github/RaghuVDs/Python/blob/main/07_Exercises.ipynb\" target=\"_parent\"><img src=\"https://colab.research.google.com/assets/colab-badge.svg\" alt=\"Open In Colab\"/></a>"
      ]
    },
    {
      "cell_type": "markdown",
      "id": "neural-details",
      "metadata": {
        "id": "neural-details"
      },
      "source": [
        "### Exercises"
      ]
    },
    {
      "cell_type": "markdown",
      "id": "liked-hearts",
      "metadata": {
        "id": "liked-hearts"
      },
      "source": [
        "#### Question 1"
      ]
    },
    {
      "cell_type": "markdown",
      "id": "indonesian-municipality",
      "metadata": {
        "id": "indonesian-municipality"
      },
      "source": [
        "You are given a list of strings from which you want to generate all the unique values."
      ]
    },
    {
      "cell_type": "markdown",
      "id": "artificial-heritage",
      "metadata": {
        "id": "artificial-heritage"
      },
      "source": [
        "For example, if you were given this list:\n",
        "\n",
        "```\n",
        "['a', 'A', 'b', 'B', 'B', 'A', 'a', 'c']\n",
        "```\n",
        "\n",
        "your result should contain these values:\n",
        "\n",
        "```\n",
        "['a', 'A', 'b', 'B', 'c']\n",
        "```"
      ]
    },
    {
      "cell_type": "code",
      "source": [
        "a = ['a', 'A', 'b', 'B', 'B', 'A', 'a', 'c']\n",
        "set_a = set(a)\n",
        "print(set_a)"
      ],
      "metadata": {
        "colab": {
          "base_uri": "https://localhost:8080/"
        },
        "id": "khbK8VB25pu_",
        "outputId": "6abb6a04-45d5-4dcb-fb80-5f30b2afe245"
      },
      "id": "khbK8VB25pu_",
      "execution_count": 1,
      "outputs": [
        {
          "output_type": "stream",
          "name": "stdout",
          "text": [
            "{'B', 'A', 'a', 'b', 'c'}\n"
          ]
        }
      ]
    },
    {
      "cell_type": "markdown",
      "id": "muslim-hurricane",
      "metadata": {
        "id": "muslim-hurricane"
      },
      "source": [
        "Note that the order of the elements in the resulting list is not important."
      ]
    },
    {
      "cell_type": "markdown",
      "id": "brave-pasta",
      "metadata": {
        "id": "brave-pasta"
      },
      "source": [
        "You can use this list for this exercise."
      ]
    },
    {
      "cell_type": "code",
      "execution_count": 2,
      "id": "rotary-mirror",
      "metadata": {
        "id": "rotary-mirror"
      },
      "outputs": [],
      "source": [
        "l = ['AAPL', 'AAPL', 'Aapl', 'aapl', 'MSFT']"
      ]
    },
    {
      "cell_type": "code",
      "source": [
        "set_l = set(l)\n",
        "print(set_l)"
      ],
      "metadata": {
        "colab": {
          "base_uri": "https://localhost:8080/"
        },
        "id": "KZyFbSJd52EO",
        "outputId": "10de0e60-ca99-4cb1-d7b0-43ec4ba9076d"
      },
      "id": "KZyFbSJd52EO",
      "execution_count": 3,
      "outputs": [
        {
          "output_type": "stream",
          "name": "stdout",
          "text": [
            "{'MSFT', 'aapl', 'Aapl', 'AAPL'}\n"
          ]
        }
      ]
    },
    {
      "cell_type": "markdown",
      "id": "closing-massage",
      "metadata": {
        "id": "closing-massage"
      },
      "source": [
        "#### Question 2"
      ]
    },
    {
      "cell_type": "markdown",
      "id": "labeled-bouquet",
      "metadata": {
        "id": "labeled-bouquet"
      },
      "source": [
        "Using the same data we saw in Question 1, the goal is to find all the unique values in a **case-insensitive** fashion."
      ]
    },
    {
      "cell_type": "markdown",
      "id": "handled-cruise",
      "metadata": {
        "id": "handled-cruise"
      },
      "source": [
        "For example, `AAPL`, `Aapl` and `aapl` should each be considered to be the same value."
      ]
    },
    {
      "cell_type": "code",
      "source": [
        "l"
      ],
      "metadata": {
        "colab": {
          "base_uri": "https://localhost:8080/"
        },
        "id": "95SBkyag7cjf",
        "outputId": "4b52d721-b220-48df-ac2d-62ad04e1a9c6"
      },
      "id": "95SBkyag7cjf",
      "execution_count": 15,
      "outputs": [
        {
          "output_type": "execute_result",
          "data": {
            "text/plain": [
              "['AAPL', 'AAPL', 'Aapl', 'aapl', 'MSFT']"
            ]
          },
          "metadata": {},
          "execution_count": 15
        }
      ]
    },
    {
      "cell_type": "code",
      "source": [
        "lower_l = set([l.lower() for l in l])\n",
        "lower_l"
      ],
      "metadata": {
        "colab": {
          "base_uri": "https://localhost:8080/"
        },
        "id": "9I4INJ1o7oXc",
        "outputId": "0b5f91e5-e1a8-4231-9030-8c56e5ce7bec"
      },
      "id": "9I4INJ1o7oXc",
      "execution_count": 19,
      "outputs": [
        {
          "output_type": "execute_result",
          "data": {
            "text/plain": [
              "{'aapl', 'msft'}"
            ]
          },
          "metadata": {},
          "execution_count": 19
        }
      ]
    },
    {
      "cell_type": "markdown",
      "id": "adjacent-southwest",
      "metadata": {
        "id": "adjacent-southwest"
      },
      "source": [
        "#### Question 3"
      ]
    },
    {
      "cell_type": "markdown",
      "id": "authorized-cathedral",
      "metadata": {
        "id": "authorized-cathedral"
      },
      "source": [
        "Given this data structure:"
      ]
    },
    {
      "cell_type": "code",
      "execution_count": 7,
      "id": "flying-processor",
      "metadata": {
        "id": "flying-processor"
      },
      "outputs": [],
      "source": [
        "data = {\n",
        "    'd1': {'a': 1, 'b': 2, 'c': 3},\n",
        "    'd2': {'b': 20, 'c': 30, 'd': 40},\n",
        "    'd3': {'d': 100, 'x': 200}\n",
        "}"
      ]
    },
    {
      "cell_type": "markdown",
      "id": "emotional-respect",
      "metadata": {
        "id": "emotional-respect"
      },
      "source": [
        "Find all the unique keys in the sub-dictionaries.\n",
        "\n",
        "In this case above, your result should be:\n",
        "\n",
        "```\n",
        "{'a', 'b', 'c', 'd', 'x'}\n",
        "```\n",
        "\n",
        "Of course, the order in the result is irrelevant (there is no ordering in sets)."
      ]
    },
    {
      "cell_type": "code",
      "source": [
        "set_list = []\n",
        "for i,j in data.items():\n",
        "  for k,v in j.items():\n",
        "    set_list.append(k)\n",
        "set_list = set(set_list)\n",
        "print(set_list)\n",
        ""
      ],
      "metadata": {
        "colab": {
          "base_uri": "https://localhost:8080/"
        },
        "id": "ktUOUp-E6bMQ",
        "outputId": "bc4f8d87-9246-494d-d55a-bc6467e7d614"
      },
      "id": "ktUOUp-E6bMQ",
      "execution_count": 14,
      "outputs": [
        {
          "output_type": "stream",
          "name": "stdout",
          "text": [
            "{'d', 'x', 'a', 'b', 'c'}\n"
          ]
        }
      ]
    },
    {
      "cell_type": "code",
      "source": [],
      "metadata": {
        "id": "2oVwgDrt6s9U"
      },
      "id": "2oVwgDrt6s9U",
      "execution_count": null,
      "outputs": []
    }
  ],
  "metadata": {
    "kernelspec": {
      "display_name": "Python 3",
      "language": "python",
      "name": "python3"
    },
    "language_info": {
      "codemirror_mode": {
        "name": "ipython",
        "version": 3
      },
      "file_extension": ".py",
      "mimetype": "text/x-python",
      "name": "python",
      "nbconvert_exporter": "python",
      "pygments_lexer": "ipython3",
      "version": "3.9.1"
    },
    "colab": {
      "provenance": [],
      "include_colab_link": true
    }
  },
  "nbformat": 4,
  "nbformat_minor": 5
}