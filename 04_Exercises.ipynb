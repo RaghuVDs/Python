{
  "cells": [
    {
      "cell_type": "markdown",
      "metadata": {
        "id": "view-in-github",
        "colab_type": "text"
      },
      "source": [
        "<a href=\"https://colab.research.google.com/github/RaghuVDs/Python/blob/main/04_Exercises.ipynb\" target=\"_parent\"><img src=\"https://colab.research.google.com/assets/colab-badge.svg\" alt=\"Open In Colab\"/></a>"
      ]
    },
    {
      "cell_type": "markdown",
      "id": "b32a09ec",
      "metadata": {
        "id": "b32a09ec"
      },
      "source": [
        "### Solutions"
      ]
    },
    {
      "cell_type": "markdown",
      "id": "89d7fa38",
      "metadata": {
        "id": "89d7fa38"
      },
      "source": [
        "#### Question 1"
      ]
    },
    {
      "cell_type": "markdown",
      "id": "f4226de7",
      "metadata": {
        "id": "f4226de7"
      },
      "source": [
        "Given this string of comma separated characters, create three new variables containing the unicode codepoint (in hex), uppercase and lower case versions of each character (also comma delimited).\n",
        "\n",
        "For example, if the string was `'a, b, c'` you should generate three lists that look like:\n",
        "* `['0x61', '0x62', '0x63']`\n",
        "* `['a', 'b', 'c']`\n",
        "* `['A', 'B', 'C']`\n",
        "\n",
        "[You should use the `split()` and `strip()` functions, amongst others, to help you solve this.]"
      ]
    },
    {
      "cell_type": "code",
      "execution_count": null,
      "id": "8b78843c",
      "metadata": {
        "id": "8b78843c"
      },
      "outputs": [],
      "source": [
        "s = 'Π, ύ, θ, ω, ν'"
      ]
    },
    {
      "cell_type": "code",
      "source": [
        "unicode = s.split(\",\")\n",
        "print(unicode)"
      ],
      "metadata": {
        "colab": {
          "base_uri": "https://localhost:8080/"
        },
        "id": "IHiZP4UX6di2",
        "outputId": "fd8b641c-6369-4220-e6b3-d37832ceceac"
      },
      "id": "IHiZP4UX6di2",
      "execution_count": null,
      "outputs": [
        {
          "output_type": "stream",
          "name": "stdout",
          "text": [
            "['Π', ' ύ', ' θ', ' ω', ' ν']\n"
          ]
        }
      ]
    },
    {
      "cell_type": "code",
      "source": [
        "unicode[0] = unicode[0].strip()\n",
        "unicode[1] = unicode[1].strip()\n",
        "unicode[2] = unicode[2].strip()\n",
        "unicode[3] = unicode[3].strip()\n",
        "unicode[4] = unicode[4].strip()\n",
        "print(unicode)"
      ],
      "metadata": {
        "colab": {
          "base_uri": "https://localhost:8080/"
        },
        "id": "yi3UsxAA6s2H",
        "outputId": "f32ace3f-ad2a-4738-9057-9a154f71c578"
      },
      "id": "yi3UsxAA6s2H",
      "execution_count": null,
      "outputs": [
        {
          "output_type": "stream",
          "name": "stdout",
          "text": [
            "['Π', 'ύ', 'θ', 'ω', 'ν']\n"
          ]
        }
      ]
    },
    {
      "cell_type": "code",
      "source": [
        "unicode[0] = hex(ord(unicode[0]))\n",
        "unicode[1] = hex(ord(unicode[1]))\n",
        "unicode[2] = hex(ord(unicode[2]))\n",
        "unicode[3] = hex(ord(unicode[3]))\n",
        "unicode[4] = hex(ord(unicode[4]))\n",
        "print(unicode)"
      ],
      "metadata": {
        "colab": {
          "base_uri": "https://localhost:8080/"
        },
        "id": "EpnyX1mi7gPb",
        "outputId": "e5c889e8-b49c-4972-ca90-2be173fa6998"
      },
      "id": "EpnyX1mi7gPb",
      "execution_count": null,
      "outputs": [
        {
          "output_type": "stream",
          "name": "stdout",
          "text": [
            "['0x3a0', '0x3cd', '0x3b8', '0x3c9', '0x3bd']\n"
          ]
        }
      ]
    },
    {
      "cell_type": "code",
      "source": [
        "from copy import deepcopy\n",
        "upper = deepcopy(unicode)\n",
        "lower = deepcopy(unicode)"
      ],
      "metadata": {
        "id": "RD6KU8ML72Q6"
      },
      "id": "RD6KU8ML72Q6",
      "execution_count": null,
      "outputs": []
    },
    {
      "cell_type": "code",
      "source": [
        "upper[0] = upper[0].upper()\n",
        "upper[1] = upper[1].upper()\n",
        "upper[2] = upper[2].upper()\n",
        "upper[3] = upper[3].upper()\n",
        "upper[4] = upper[4].upper()\n",
        "print(upper)"
      ],
      "metadata": {
        "colab": {
          "base_uri": "https://localhost:8080/"
        },
        "id": "F6gEbAEr7-VW",
        "outputId": "a577bfcf-52a5-40ad-bcc3-abc1874dd58b"
      },
      "id": "F6gEbAEr7-VW",
      "execution_count": null,
      "outputs": [
        {
          "output_type": "stream",
          "name": "stdout",
          "text": [
            "['0X3A0', '0X3CD', '0X3B8', '0X3C9', '0X3BD']\n"
          ]
        }
      ]
    },
    {
      "cell_type": "code",
      "source": [
        "lower[0] = lower[0].lower()\n",
        "lower[1] = lower[1].lower()\n",
        "lower[2] = lower[2].lower()\n",
        "lower[3] = lower[3].lower()\n",
        "lower[4] = lower[4].lower()\n",
        "print(lower)"
      ],
      "metadata": {
        "colab": {
          "base_uri": "https://localhost:8080/"
        },
        "id": "2YXA6d0r8JKK",
        "outputId": "51947588-0db7-4f1e-8682-208a0c14d097"
      },
      "id": "2YXA6d0r8JKK",
      "execution_count": null,
      "outputs": [
        {
          "output_type": "stream",
          "name": "stdout",
          "text": [
            "['0x3a0', '0x3cd', '0x3b8', '0x3c9', '0x3bd']\n"
          ]
        }
      ]
    },
    {
      "cell_type": "markdown",
      "id": "94e45cbc",
      "metadata": {
        "id": "94e45cbc"
      },
      "source": [
        "#### Question 2"
      ]
    },
    {
      "cell_type": "markdown",
      "id": "a0554e52",
      "metadata": {
        "id": "a0554e52"
      },
      "source": [
        "Using two types of string interpolation, and given the variable `a` that contains an integer, print out the following string for `a`:\n",
        "\n",
        "`The number ...value of a... is (or is not) even`\n",
        "\n",
        "For example, if `a` is `42`, the your code should print:\n",
        "\n",
        "`'The number 42 is even'`\n",
        "\n",
        "But if `a` is `31`, then the **same** code should print:\n",
        "\n",
        "`'The number 31 is not even'`\n"
      ]
    },
    {
      "cell_type": "code",
      "source": [
        "a = 21\n",
        "\n",
        "print('The number {a} is {even}'.format(a = a ,even = \"even\" if a%2 ==0 else \"not even\"))"
      ],
      "metadata": {
        "colab": {
          "base_uri": "https://localhost:8080/"
        },
        "id": "huSRh_zx8WDn",
        "outputId": "79f9cc11-ba68-4d5b-9812-b12d0391c077"
      },
      "id": "huSRh_zx8WDn",
      "execution_count": null,
      "outputs": [
        {
          "output_type": "stream",
          "name": "stdout",
          "text": [
            "The number 21 is not even\n"
          ]
        }
      ]
    },
    {
      "cell_type": "markdown",
      "id": "ab2c955f",
      "metadata": {
        "id": "ab2c955f"
      },
      "source": [
        "#### Question 3"
      ]
    },
    {
      "cell_type": "markdown",
      "id": "03619dde",
      "metadata": {
        "id": "03619dde"
      },
      "source": [
        "You are given two variables `a` and `b` (with `b` non-zero), and you need to generate a string that reads something like this:\n",
        "\n",
        "```\n",
        "'a / b = (result)'\n",
        "```"
      ]
    },
    {
      "cell_type": "markdown",
      "id": "76378ec5",
      "metadata": {
        "id": "76378ec5"
      },
      "source": [
        "But you want your string to be nicely formatted for display purposes, so you want to limit displaying possible digits after the decimal point in all your values to 4 digits."
      ]
    },
    {
      "cell_type": "code",
      "source": [
        "a = 123.123456\n",
        "b = 5\n",
        "\n",
        "print('a / b = ({result:.4f})'.format(result = a/b))"
      ],
      "metadata": {
        "colab": {
          "base_uri": "https://localhost:8080/"
        },
        "id": "XBC3E8Pm90Pi",
        "outputId": "3a47b9e9-3e1e-4ad5-956d-1d174a1a3c00"
      },
      "id": "XBC3E8Pm90Pi",
      "execution_count": null,
      "outputs": [
        {
          "output_type": "stream",
          "name": "stdout",
          "text": [
            "a / b = (24.6247)\n"
          ]
        }
      ]
    }
  ],
  "metadata": {
    "kernelspec": {
      "display_name": "Python 3 (ipykernel)",
      "language": "python",
      "name": "python3"
    },
    "language_info": {
      "codemirror_mode": {
        "name": "ipython",
        "version": 3
      },
      "file_extension": ".py",
      "mimetype": "text/x-python",
      "name": "python",
      "nbconvert_exporter": "python",
      "pygments_lexer": "ipython3",
      "version": "3.10.2"
    },
    "colab": {
      "provenance": [],
      "include_colab_link": true
    }
  },
  "nbformat": 4,
  "nbformat_minor": 5
}