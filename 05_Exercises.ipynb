{
  "cells": [
    {
      "cell_type": "markdown",
      "metadata": {
        "id": "view-in-github",
        "colab_type": "text"
      },
      "source": [
        "<a href=\"https://colab.research.google.com/github/RaghuVDs/Python/blob/main/05_Exercises.ipynb\" target=\"_parent\"><img src=\"https://colab.research.google.com/assets/colab-badge.svg\" alt=\"Open In Colab\"/></a>"
      ]
    },
    {
      "cell_type": "markdown",
      "id": "canadian-manchester",
      "metadata": {
        "id": "canadian-manchester"
      },
      "source": [
        "### Solutions"
      ]
    },
    {
      "cell_type": "markdown",
      "id": "generic-ottawa",
      "metadata": {
        "id": "generic-ottawa"
      },
      "source": [
        "#### Question 1"
      ]
    },
    {
      "cell_type": "markdown",
      "id": "mexican-fairy",
      "metadata": {
        "id": "mexican-fairy"
      },
      "source": [
        "Write some code that generates an `m` x `n` multiplication table.\n",
        "\n",
        "For example if `m=3` and `n=4` your output should look something like:\n",
        "\n",
        "```\n",
        "1 x 1 = 1\n",
        "1 x 2 = 2\n",
        "1 x 3 = 3\n",
        "1 x 4 = 4\n",
        "---------------\n",
        "2 x 1 = 2\n",
        "2 x 2 = 4\n",
        "2 x 3 = 6\n",
        "2 x 4 = 8\n",
        "---------------\n",
        "3 x 1 = 3\n",
        "3 x 2 = 6\n",
        "3 x 3 = 9\n",
        "3 x 4 = 12\n",
        "---------------\n",
        "```"
      ]
    },
    {
      "cell_type": "code",
      "source": [
        "m = int(input(\"m: \"))\n",
        "n = int(input(\"n: \"))"
      ],
      "metadata": {
        "colab": {
          "base_uri": "https://localhost:8080/"
        },
        "id": "P7CR89G-g5QB",
        "outputId": "0ec336ad-dd15-43b2-a225-fc8f87047059"
      },
      "id": "P7CR89G-g5QB",
      "execution_count": null,
      "outputs": [
        {
          "name": "stdout",
          "output_type": "stream",
          "text": [
            "m: 3\n",
            "n: 4\n"
          ]
        }
      ]
    },
    {
      "cell_type": "code",
      "source": [
        "for m in range(1,m+1):\n",
        "  for n in  range(1,n+1):\n",
        "    print(f\"{m} x {n} = {m*n}\")\n",
        "  print(\"_ _\" * 5)"
      ],
      "metadata": {
        "colab": {
          "base_uri": "https://localhost:8080/"
        },
        "id": "oKhdBmh5hHHf",
        "outputId": "a8d3e52c-b7e6-42a4-f21c-bc7ae7f40724"
      },
      "id": "oKhdBmh5hHHf",
      "execution_count": null,
      "outputs": [
        {
          "output_type": "stream",
          "name": "stdout",
          "text": [
            "1 x 1 = 1\n",
            "1 x 2 = 2\n",
            "1 x 3 = 3\n",
            "1 x 4 = 4\n",
            "_ __ __ __ __ _\n",
            "2 x 1 = 2\n",
            "2 x 2 = 4\n",
            "2 x 3 = 6\n",
            "2 x 4 = 8\n",
            "_ __ __ __ __ _\n",
            "3 x 1 = 3\n",
            "3 x 2 = 6\n",
            "3 x 3 = 9\n",
            "3 x 4 = 12\n",
            "_ __ __ __ __ _\n"
          ]
        }
      ]
    },
    {
      "cell_type": "markdown",
      "id": "unlikely-awareness",
      "metadata": {
        "id": "unlikely-awareness"
      },
      "source": [
        "Your code should be generic enough that it can handle any positive integer values of `m` and `n`."
      ]
    },
    {
      "cell_type": "markdown",
      "id": "automotive-establishment",
      "metadata": {
        "id": "automotive-establishment"
      },
      "source": [
        "#### Question 2"
      ]
    },
    {
      "cell_type": "markdown",
      "id": "resident-plain",
      "metadata": {
        "id": "resident-plain"
      },
      "source": [
        "Your are given the following tuple of lists:"
      ]
    },
    {
      "cell_type": "code",
      "execution_count": null,
      "id": "oriental-turtle",
      "metadata": {
        "id": "oriental-turtle"
      },
      "outputs": [],
      "source": [
        "data = (\n",
        "    ['2021-01-01', 10, 20],\n",
        "    ['2021-01-02', 20, 18],\n",
        "    ['2021-01-03', -10, 10],\n",
        "    ['2021-01-04', 100, 102],\n",
        "    ['2021-01-05', 20, 45]\n",
        ")"
      ]
    },
    {
      "cell_type": "markdown",
      "id": "ordered-jonathan",
      "metadata": {
        "id": "ordered-jonathan"
      },
      "source": [
        "Your program should:\n",
        "1. Mutate the lists in `data` to add one more element indicating the distance between the two integer numbers (i.e. the absolute value fo the difference)\n",
        "2. Determine on which date this newly calculate value was the largest.\n",
        "3. Be able to work for a `data` set containing any number of lists."
      ]
    },
    {
      "cell_type": "code",
      "source": [
        "for index,row in enumerate(data):\n",
        "  data[index].append(abs(row[1] - row[2]))\n",
        "  print(index,row)"
      ],
      "metadata": {
        "colab": {
          "base_uri": "https://localhost:8080/"
        },
        "id": "NJ04MutciWoy",
        "outputId": "c9b45b32-2eb8-4762-e81d-f8a298e7bbc0"
      },
      "id": "NJ04MutciWoy",
      "execution_count": null,
      "outputs": [
        {
          "output_type": "stream",
          "name": "stdout",
          "text": [
            "0 ['2021-01-01', 10, 20, 10]\n",
            "1 ['2021-01-02', 20, 18, 2]\n",
            "2 ['2021-01-03', -10, 10, 20]\n",
            "3 ['2021-01-04', 100, 102, 2]\n",
            "4 ['2021-01-05', 20, 45, 25]\n"
          ]
        }
      ]
    },
    {
      "cell_type": "code",
      "source": [
        "for index,row in enumerate(data):\n",
        "  if row[-1] == max(row[-1] for row in data):\n",
        "    print(index,row[0])"
      ],
      "metadata": {
        "colab": {
          "base_uri": "https://localhost:8080/"
        },
        "id": "ySfcy__Gjt1m",
        "outputId": "ada1c284-50d6-4ff5-9c49-6c2822765408"
      },
      "id": "ySfcy__Gjt1m",
      "execution_count": null,
      "outputs": [
        {
          "output_type": "stream",
          "name": "stdout",
          "text": [
            "4 2021-01-05\n"
          ]
        }
      ]
    },
    {
      "cell_type": "markdown",
      "id": "activated-pixel",
      "metadata": {
        "id": "activated-pixel"
      },
      "source": [
        "#### Question 3"
      ]
    },
    {
      "cell_type": "markdown",
      "id": "aquatic-sewing",
      "metadata": {
        "id": "aquatic-sewing"
      },
      "source": [
        "You are given a list of lists containing two numbers that will need to be color coded later based on a trend determined by the following rules:\n",
        "1. If the first number of a row is higher than the second number of the previous row, append the string `up` to the row\n",
        "2. If the first number of a row is lower than the second number of the previous row, append the string `down` to the row\n",
        "3. Otherwise, append `same` to the row.\n",
        "\n",
        "Obviously you cannot apply these rules to the first row (there is no preceding row), so append an empty string for the first row.\n",
        "\n",
        "Basically think of this as a list of Open/Close values, and we want to assign the values `same`, `up`, or `down` based on how a row's Open value compares to the Close of the *previous* row."
      ]
    },
    {
      "cell_type": "markdown",
      "id": "reliable-cleveland",
      "metadata": {
        "id": "reliable-cleveland"
      },
      "source": [
        "For example, given the following list:"
      ]
    },
    {
      "cell_type": "code",
      "execution_count": null,
      "id": "still-bridges",
      "metadata": {
        "id": "still-bridges"
      },
      "outputs": [],
      "source": [
        "data = [\n",
        "    [10, 20],\n",
        "    [20, 30],\n",
        "    [35, 50],\n",
        "    [45, 60]\n",
        "]"
      ]
    },
    {
      "cell_type": "markdown",
      "id": "activated-phase",
      "metadata": {
        "id": "activated-phase"
      },
      "source": [
        "Then after your code finishes running, your `data` should look like this:\n",
        "\n",
        "```\n",
        "[\n",
        "    [10, 20, ''],\n",
        "    [20, 30, 'same'],\n",
        "    [35, 50, 'up'],\n",
        "    [45, 60, 'down']\n",
        "]\n",
        "```"
      ]
    },
    {
      "cell_type": "code",
      "source": [
        "for index,row in enumerate(data):\n",
        "  print(index,row)\n",
        "  if index == 0:\n",
        "    data[index].append('')\n",
        "  else:\n",
        "    if row[0] > data[index-1][1]:\n",
        "      data[index].append(\"up\")\n",
        "    elif row[0] < data[index-1][1]:\n",
        "      data[index].append(\"down\")\n",
        "    else:\n",
        "      data[index].append(\"same\")\n",
        "\n",
        "print(data)"
      ],
      "metadata": {
        "colab": {
          "base_uri": "https://localhost:8080/"
        },
        "id": "bWH9czHEmzfq",
        "outputId": "31ac8338-611e-4e55-f8bc-b78b6ac5b854"
      },
      "id": "bWH9czHEmzfq",
      "execution_count": null,
      "outputs": [
        {
          "output_type": "stream",
          "name": "stdout",
          "text": [
            "0 [10, 20]\n",
            "1 [20, 30]\n",
            "2 [35, 50]\n",
            "3 [45, 60]\n",
            "[[10, 20, ''], [20, 30, 'same'], [35, 50, 'up'], [45, 60, 'down']]\n"
          ]
        }
      ]
    },
    {
      "cell_type": "code",
      "source": [],
      "metadata": {
        "id": "AdFpz5eFm_hz"
      },
      "id": "AdFpz5eFm_hz",
      "execution_count": null,
      "outputs": []
    }
  ],
  "metadata": {
    "kernelspec": {
      "display_name": "Python 3",
      "language": "python",
      "name": "python3"
    },
    "language_info": {
      "codemirror_mode": {
        "name": "ipython",
        "version": 3
      },
      "file_extension": ".py",
      "mimetype": "text/x-python",
      "name": "python",
      "nbconvert_exporter": "python",
      "pygments_lexer": "ipython3",
      "version": "3.9.1"
    },
    "colab": {
      "provenance": [],
      "include_colab_link": true
    }
  },
  "nbformat": 4,
  "nbformat_minor": 5
}