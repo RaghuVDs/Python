{
  "cells": [
    {
      "cell_type": "markdown",
      "metadata": {
        "id": "view-in-github",
        "colab_type": "text"
      },
      "source": [
        "<a href=\"https://colab.research.google.com/github/RaghuVDs/Python/blob/main/06_Exercises.ipynb\" target=\"_parent\"><img src=\"https://colab.research.google.com/assets/colab-badge.svg\" alt=\"Open In Colab\"/></a>"
      ]
    },
    {
      "cell_type": "markdown",
      "id": "corporate-husband",
      "metadata": {
        "id": "corporate-husband"
      },
      "source": [
        "### Solutions"
      ]
    },
    {
      "cell_type": "markdown",
      "id": "romance-tracker",
      "metadata": {
        "id": "romance-tracker"
      },
      "source": [
        "#### Question 1"
      ]
    },
    {
      "cell_type": "markdown",
      "id": "empty-slovenia",
      "metadata": {
        "id": "empty-slovenia"
      },
      "source": [
        "Use a dictionary to count the frequency of the characters `a-z A-Z` in a given string.\n",
        "\n",
        "You should write your code to be as general as possible, so that it will work with any string of any given length.\n",
        "\n",
        "Your resulting dictionary should only contain keys for characters that occured at least once (i.e. no zero count characters should be present.)\n",
        "\n",
        "Hint: you will probably want to use the `ord()` function that we studied earlier along with the unicode character codes for `a`, `z`, `A` and `Z`."
      ]
    },
    {
      "cell_type": "markdown",
      "id": "thousand-handling",
      "metadata": {
        "id": "thousand-handling"
      },
      "source": [
        "For example, if the given string is:\n",
        "\n",
        "```\n",
        "s = 'Aa, Bb - A a B C'\n",
        "```\n",
        "\n",
        "then your resulting dictionary should be:\n",
        "\n",
        "```\n",
        "{\n",
        "    'A': 2,\n",
        "    'a': 2,\n",
        "    'B': 2,\n",
        "    'b': 1,\n",
        "    'C': 1\n",
        "}\n",
        "```\n",
        "\n",
        "(Note that the order of the keys in the dictionary is not important)"
      ]
    },
    {
      "cell_type": "markdown",
      "id": "considerable-orchestra",
      "metadata": {
        "id": "considerable-orchestra"
      },
      "source": [
        "Here are two sample strings you can use:"
      ]
    },
    {
      "cell_type": "code",
      "execution_count": 1,
      "id": "baking-logic",
      "metadata": {
        "id": "baking-logic"
      },
      "outputs": [],
      "source": [
        "s1 = \"\"\"\n",
        "“'And' and 'or' are the basic operations of logic. Together with 'no' (the logical operation\n",
        "of negation) they are a complete set of basic logical operations — all other logical\n",
        "operations, no matter how complex, can be obtained by suitable combinations of these.”\n",
        "― John von Neumann, The Computer and the Brain\n",
        "\"\"\"\n",
        "\n",
        "s2 = \"\"\"\n",
        "Lorem ipsum dolor sit amet, consectetur adipiscing elit, sed do eiusmod tempor incididunt ut\n",
        "labore et dolore magna aliqua. Ut enim ad minim veniam, quis nostrud exercitation ullamco laboris\n",
        "nisi ut aliquip ex ea commodo consequat. Duis aute irure dolor in reprehenderit in voluptate velit\n",
        "esse cillum dolore eu fugiat nulla pariatur. Excepteur sint occaecat cupidatat non proident, sunt\n",
        "in culpa qui officia deserunt mollit anim id est laborum.\n",
        "\"\"\""
      ]
    },
    {
      "cell_type": "code",
      "source": [
        "char_count = {}\n",
        "\n",
        "for i in s1:\n",
        "  if i.isalpha():\n",
        "    if i in char_count:\n",
        "      char_count[i] = char_count.get(i,0) + 1\n",
        "    else:\n",
        "      char_count[i] = 1\n",
        "\n",
        "print(char_count)\n"
      ],
      "metadata": {
        "colab": {
          "base_uri": "https://localhost:8080/"
        },
        "id": "rXWfY4V9AVTP",
        "outputId": "75d9d904-84f0-4a49-932b-8d74d00b3af2"
      },
      "id": "rXWfY4V9AVTP",
      "execution_count": 20,
      "outputs": [
        {
          "output_type": "stream",
          "name": "stdout",
          "text": [
            "{'A': 1, 'n': 20, 'd': 4, 'a': 23, 'o': 31, 'r': 12, 'e': 27, 't': 21, 'h': 11, 'b': 7, 's': 9, 'i': 17, 'c': 10, 'p': 7, 'f': 4, 'l': 12, 'g': 6, 'T': 2, 'w': 2, 'y': 2, 'm': 6, 'x': 1, 'u': 3, 'J': 1, 'v': 1, 'N': 1, 'C': 1, 'B': 1}\n"
          ]
        }
      ]
    },
    {
      "cell_type": "markdown",
      "id": "double-engine",
      "metadata": {
        "id": "double-engine"
      },
      "source": [
        "#### Question 2"
      ]
    },
    {
      "cell_type": "markdown",
      "id": "finnish-villa",
      "metadata": {
        "id": "finnish-villa"
      },
      "source": [
        "Given the following dictionaries:"
      ]
    },
    {
      "cell_type": "code",
      "execution_count": 21,
      "id": "racial-medline",
      "metadata": {
        "id": "racial-medline"
      },
      "outputs": [],
      "source": [
        "d1 = {'a': 10, 'b': 20, 'c': 30}\n",
        "d2 = {'d': 100, 'e': 200, 'f': 300}\n",
        "d3 = {'f': 30, 'g': 40}"
      ]
    },
    {
      "cell_type": "markdown",
      "id": "north-information",
      "metadata": {
        "id": "north-information"
      },
      "source": [
        "Construct two lists, one containing all the keys of both dictionaries, and one containing all the values of each dictionary. (It is OK for values or keys to be repeated in the lists)."
      ]
    },
    {
      "cell_type": "markdown",
      "id": "automotive-railway",
      "metadata": {
        "id": "automotive-railway"
      },
      "source": [
        "In the example above you should end up with two lists containing the elements:\n",
        "\n",
        "```\n",
        "'a', 'b', 'c', 'd', 'e', 'f', 'f', 'g'\n",
        "```\n",
        "\n",
        "and\n",
        "\n",
        "```\n",
        "10, 20, 30, 100, 200, 300, 30, 40\n",
        "```"
      ]
    },
    {
      "cell_type": "markdown",
      "id": "military-tuning",
      "metadata": {
        "id": "military-tuning"
      },
      "source": [
        "Note that the order in which the elements appear in each list is not important."
      ]
    },
    {
      "cell_type": "code",
      "source": [
        "key = []\n",
        "value = []\n",
        "\n",
        "for i in (d1,d2,d3):\n",
        "  print(i)\n",
        "  for k,v in i.items():\n",
        "    key.append(k)\n",
        "    value.append(v)\n",
        "\n",
        "print(key)\n",
        "print(value)"
      ],
      "metadata": {
        "colab": {
          "base_uri": "https://localhost:8080/"
        },
        "id": "zEc29Ra_EC4X",
        "outputId": "9e96638b-d216-441b-8a95-7c38e83bfede"
      },
      "id": "zEc29Ra_EC4X",
      "execution_count": 27,
      "outputs": [
        {
          "output_type": "stream",
          "name": "stdout",
          "text": [
            "{'a': 10, 'b': 20, 'c': 30}\n",
            "{'d': 100, 'e': 200, 'f': 300}\n",
            "{'f': 30, 'g': 40}\n",
            "['a', 'b', 'c', 'd', 'e', 'f', 'f', 'g']\n",
            "[10, 20, 30, 100, 200, 300, 30, 40]\n"
          ]
        }
      ]
    },
    {
      "cell_type": "markdown",
      "id": "hawaiian-proxy",
      "metadata": {
        "id": "hawaiian-proxy"
      },
      "source": [
        "#### Question 3"
      ]
    },
    {
      "cell_type": "markdown",
      "id": "cardiac-contractor",
      "metadata": {
        "id": "cardiac-contractor"
      },
      "source": [
        "In this example, suppose you have a grade book designed as follows:"
      ]
    },
    {
      "cell_type": "code",
      "execution_count": 68,
      "id": "decreased-dress",
      "metadata": {
        "id": "decreased-dress"
      },
      "outputs": [],
      "source": [
        "grades = {\n",
        "    'John': [90, 95, 98],\n",
        "    'Eric': [86, 84, 92],\n",
        "    'Michael': [90, 89, 85]\n",
        "}"
      ]
    },
    {
      "cell_type": "markdown",
      "id": "alleged-relevance",
      "metadata": {
        "id": "alleged-relevance"
      },
      "source": [
        "This grade book is a dictionary that consists of the student's name as the key, and the value is a list representing results for a series of tests, from most recent to oldest."
      ]
    },
    {
      "cell_type": "markdown",
      "id": "hidden-crystal",
      "metadata": {
        "id": "hidden-crystal"
      },
      "source": [
        "A new exam has just been graded, and you receive the grades for that specific exam also as a dictionary:"
      ]
    },
    {
      "cell_type": "code",
      "execution_count": 65,
      "id": "acceptable-clinic",
      "metadata": {
        "id": "acceptable-clinic"
      },
      "outputs": [],
      "source": [
        "exam = {\n",
        "    'Eric': 99,\n",
        "    'John': 100\n",
        "}"
      ]
    },
    {
      "cell_type": "markdown",
      "id": "interracial-florence",
      "metadata": {
        "id": "interracial-florence"
      },
      "source": [
        "Write code that updates the grades dictionary by adding the latest test result to the beginning of each list corresponding to the student.\n",
        "\n",
        "If the new exam grade is missing for a student, assign the value `None` as the latest grade in the `grades` dictionary."
      ]
    },
    {
      "cell_type": "markdown",
      "id": "judicial-release",
      "metadata": {
        "id": "judicial-release"
      },
      "source": [
        "For the data given above, your `grades` dictionary should now contain the following information:\n",
        "\n",
        "```\n",
        "{\n",
        "    'John': [100, 90, 95, 98],\n",
        "    'Eric': [99, 86, 84, 92],\n",
        "    'Michael': [None, 90, 89, 85]\n",
        "}\n",
        "```"
      ]
    },
    {
      "cell_type": "code",
      "source": [
        "for i in grades:\n",
        "  if j in exam:\n",
        "    grades[i].insert(0,exam[j])\n",
        "print(grades)"
      ],
      "metadata": {
        "colab": {
          "base_uri": "https://localhost:8080/"
        },
        "id": "8UXcjlDoGc2B",
        "outputId": "5a67f69b-cb48-45ab-cbb5-b6b514f81534"
      },
      "id": "8UXcjlDoGc2B",
      "execution_count": 58,
      "outputs": [
        {
          "output_type": "stream",
          "name": "stdout",
          "text": [
            "{'John': [100, 90, 95, 98], 'Eric': [100, 86, 84, 92], 'Michael': [100, 90, 89, 85]}\n"
          ]
        }
      ]
    },
    {
      "cell_type": "code",
      "source": [
        "for i in grades:\n",
        "  grades[i].insert(0,exam.get(i,None))\n",
        "\n",
        "print(grades)"
      ],
      "metadata": {
        "colab": {
          "base_uri": "https://localhost:8080/"
        },
        "id": "4VIaA-adGjQy",
        "outputId": "245f4258-fdb7-4cd3-a981-3918ae0d15ab"
      },
      "id": "4VIaA-adGjQy",
      "execution_count": 67,
      "outputs": [
        {
          "output_type": "stream",
          "name": "stdout",
          "text": [
            "{'John': [100, 100, 90, 95, 98], 'Eric': [99, 99, 86, 84, 92], 'Michael': [None, None, 90, 89, 85]}\n"
          ]
        }
      ]
    },
    {
      "cell_type": "code",
      "source": [],
      "metadata": {
        "id": "3lPsl6nqLnTY"
      },
      "id": "3lPsl6nqLnTY",
      "execution_count": null,
      "outputs": []
    }
  ],
  "metadata": {
    "kernelspec": {
      "display_name": "Python 3",
      "language": "python",
      "name": "python3"
    },
    "language_info": {
      "codemirror_mode": {
        "name": "ipython",
        "version": 3
      },
      "file_extension": ".py",
      "mimetype": "text/x-python",
      "name": "python",
      "nbconvert_exporter": "python",
      "pygments_lexer": "ipython3",
      "version": "3.9.1"
    },
    "colab": {
      "provenance": [],
      "include_colab_link": true
    }
  },
  "nbformat": 4,
  "nbformat_minor": 5
}