{
  "nbformat": 4,
  "nbformat_minor": 0,
  "metadata": {
    "colab": {
      "provenance": [],
      "authorship_tag": "ABX9TyMkMuwoRwcNbGSKxsmUZbpS",
      "include_colab_link": true
    },
    "kernelspec": {
      "name": "python3",
      "display_name": "Python 3"
    },
    "language_info": {
      "name": "python"
    }
  },
  "cells": [
    {
      "cell_type": "markdown",
      "metadata": {
        "id": "view-in-github",
        "colab_type": "text"
      },
      "source": [
        "<a href=\"https://colab.research.google.com/github/RaghuVDs/Python/blob/main/01_Python_Basics.ipynb\" target=\"_parent\"><img src=\"https://colab.research.google.com/assets/colab-badge.svg\" alt=\"Open In Colab\"/></a>"
      ]
    },
    {
      "cell_type": "markdown",
      "source": [
        "# Basic Data Types\n",
        "\n",
        "## Integer\n",
        "\n",
        "1. its used to represent integer number\n",
        "2. it can have any magnitude\n",
        "\n",
        "ex: 10,19,100000 etc\n",
        "\n",
        "## Float\n",
        "\n",
        "1. represents floating point number (decimal Number) - we do not have exact representation\n",
        "\n",
        "ex: 1.234\n",
        "\n",
        "## Deciaml\n",
        "\n",
        "1. have exact representation but harder to work with.\n",
        "2. slower than float"
      ],
      "metadata": {
        "id": "qLsV0rw1p0Gm"
      }
    },
    {
      "cell_type": "code",
      "source": [
        "1 # literal object - integer input - string output representation"
      ],
      "metadata": {
        "colab": {
          "base_uri": "https://localhost:8080/"
        },
        "id": "b6TdF6F0sSIT",
        "outputId": "78f00188-9ab9-4720-bf9b-6f61e98879dc"
      },
      "execution_count": 3,
      "outputs": [
        {
          "output_type": "execute_result",
          "data": {
            "text/plain": [
              "1"
            ]
          },
          "metadata": {},
          "execution_count": 3
        }
      ]
    },
    {
      "cell_type": "code",
      "source": [
        "-10"
      ],
      "metadata": {
        "colab": {
          "base_uri": "https://localhost:8080/"
        },
        "id": "mEsYmnFSsWYg",
        "outputId": "d736fc48-189e-476a-d2ca-25545c603dcf"
      },
      "execution_count": 4,
      "outputs": [
        {
          "output_type": "execute_result",
          "data": {
            "text/plain": [
              "-10"
            ]
          },
          "metadata": {},
          "execution_count": 4
        }
      ]
    },
    {
      "cell_type": "code",
      "source": [
        "True"
      ],
      "metadata": {
        "colab": {
          "base_uri": "https://localhost:8080/"
        },
        "id": "STB_niLhsifs",
        "outputId": "07dc53c9-b783-4d21-e178-30e8113e8d19"
      },
      "execution_count": 5,
      "outputs": [
        {
          "output_type": "execute_result",
          "data": {
            "text/plain": [
              "True"
            ]
          },
          "metadata": {},
          "execution_count": 5
        }
      ]
    },
    {
      "cell_type": "code",
      "source": [
        "False"
      ],
      "metadata": {
        "colab": {
          "base_uri": "https://localhost:8080/"
        },
        "id": "u-WtApCasjcZ",
        "outputId": "1ea8bfda-9d07-4bf7-d22b-119f218f06db"
      },
      "execution_count": 6,
      "outputs": [
        {
          "output_type": "execute_result",
          "data": {
            "text/plain": [
              "False"
            ]
          },
          "metadata": {},
          "execution_count": 6
        }
      ]
    },
    {
      "cell_type": "code",
      "source": [
        "0.1 # does not have exact representation - its a string and not an actual value"
      ],
      "metadata": {
        "colab": {
          "base_uri": "https://localhost:8080/"
        },
        "id": "3AiB0QvesklD",
        "outputId": "dcbb1752-69e9-4ca2-d193-bbbbce68bf42"
      },
      "execution_count": 7,
      "outputs": [
        {
          "output_type": "execute_result",
          "data": {
            "text/plain": [
              "0.1"
            ]
          },
          "metadata": {},
          "execution_count": 7
        }
      ]
    },
    {
      "cell_type": "code",
      "source": [
        "format(0.1, '.50f') # 25 degits after decimal"
      ],
      "metadata": {
        "colab": {
          "base_uri": "https://localhost:8080/",
          "height": 36
        },
        "id": "ay08l_Rlsp3C",
        "outputId": "5b2fa18c-ddf3-4fdd-915b-4308323ff950"
      },
      "execution_count": 10,
      "outputs": [
        {
          "output_type": "execute_result",
          "data": {
            "text/plain": [
              "'0.10000000000000000555111512312578270211815834045410'"
            ],
            "application/vnd.google.colaboratory.intrinsic+json": {
              "type": "string"
            }
          },
          "metadata": {},
          "execution_count": 10
        }
      ]
    },
    {
      "cell_type": "code",
      "source": [
        "1 + 1 + 1 == 3 # comparission - true/false"
      ],
      "metadata": {
        "colab": {
          "base_uri": "https://localhost:8080/"
        },
        "id": "rByO8q9ZtGJ9",
        "outputId": "a5b837f9-2585-487a-b755-9f8a4e5f5ac9"
      },
      "execution_count": 12,
      "outputs": [
        {
          "output_type": "execute_result",
          "data": {
            "text/plain": [
              "True"
            ]
          },
          "metadata": {},
          "execution_count": 12
        }
      ]
    },
    {
      "cell_type": "code",
      "source": [
        "0.1 +0.1 + 0.1 == 0.3 # not true as 0.1 is not exactly 0.1\n",
        "print(format((0.1 + 0.1 + 0.1), '.50f'))\n"
      ],
      "metadata": {
        "colab": {
          "base_uri": "https://localhost:8080/"
        },
        "id": "ccwQCB7StZvh",
        "outputId": "94725a4c-ec20-431c-c180-2fa3de404db2"
      },
      "execution_count": 17,
      "outputs": [
        {
          "output_type": "stream",
          "name": "stdout",
          "text": [
            "0.30000000000000004440892098500626161694526672363281\n"
          ]
        }
      ]
    },
    {
      "cell_type": "markdown",
      "source": [
        "# Object\n",
        "\n",
        "They are entities created my python\n",
        "\n",
        "1. they have a state - data\n",
        "2. they have funcationality - functionality\n",
        "\n",
        "### int and floats are also state as it can store value - 1\n",
        "### it also has a funcationality - 1 + 1"
      ],
      "metadata": {
        "id": "NHqI7trQuF-S"
      }
    },
    {
      "cell_type": "code",
      "source": [
        "# getting the ratio of a decimal numebr\n",
        "\n",
        "(0.125).as_integer_ratio() # this is a funcationality of float"
      ],
      "metadata": {
        "colab": {
          "base_uri": "https://localhost:8080/"
        },
        "id": "IJ4zcO2guwPT",
        "outputId": "0daca781-2856-4a96-fe72-b51d295f0113"
      },
      "execution_count": 20,
      "outputs": [
        {
          "output_type": "execute_result",
          "data": {
            "text/plain": [
              "(1, 8)"
            ]
          },
          "metadata": {},
          "execution_count": 20
        }
      ]
    },
    {
      "cell_type": "markdown",
      "source": [
        "# All the entity in python is an OBJECT\n",
        "\n",
        "its can be accessed by a DOT (.)\n",
        "\n",
        "ex:\n",
        "\n",
        "1. car.brand\n",
        "2. car.model\n",
        "\n",
        "1. car.accelerate(x,y) - is a funcationality\n",
        "\n",
        "## Mutability - object can we changed\n",
        "## Immutability - objects cannot be changed - ex: car.brand cannot be changed **(integer,floats,string,boolean)** are immutable **(list, sets, dict)** are mutable\n",
        "\n"
      ],
      "metadata": {
        "id": "ssL3gc5dvUFD"
      }
    },
    {
      "cell_type": "markdown",
      "source": [
        "# Variables  - naming of an object usinf an = assignment operator\n",
        "\n",
        "ex: account_bal = 1000\n",
        "\n",
        "a is refereces an object 100\n",
        "\n",
        "after some time in the program it can change - a = True they can also be **mutable**\n",
        "\n",
        "lable = object - creates an object 1st and then assignes it to able\n",
        "\n",
        "a = 11\n",
        "\n",
        "**a =** a + 1 = 11 + 1 **= 12**"
      ],
      "metadata": {
        "id": "n3ldKud5BE7U"
      }
    },
    {
      "cell_type": "markdown",
      "source": [
        "# Naming variable\n",
        "\n",
        "1. case sensitive\n",
        "2. starts with _ or [a-z] or [A-Z]\n",
        "3. numbers can be used after the start\n",
        "4. Cannot be reserved words\n",
        "5. camelCase\n",
        "6. snake_case (variables are usually used in this case)"
      ],
      "metadata": {
        "id": "CxDhA_3KDs7r"
      }
    },
    {
      "cell_type": "code",
      "source": [
        "# variables\n",
        "\n",
        "a = 100 # assignment operator"
      ],
      "metadata": {
        "id": "turZjVY1ETzs"
      },
      "execution_count": 22,
      "outputs": []
    },
    {
      "cell_type": "code",
      "source": [
        "b = a + 1\n",
        "b"
      ],
      "metadata": {
        "colab": {
          "base_uri": "https://localhost:8080/"
        },
        "id": "EqMoj0NZEWHK",
        "outputId": "7c233004-8dac-4be1-e70e-b658b609422a"
      },
      "execution_count": 24,
      "outputs": [
        {
          "output_type": "execute_result",
          "data": {
            "text/plain": [
              "101"
            ]
          },
          "metadata": {},
          "execution_count": 24
        }
      ]
    },
    {
      "cell_type": "code",
      "source": [
        "test1 = 100\n",
        "test_1 = 100\n",
        "_test_1 = 100"
      ],
      "metadata": {
        "id": "rxWX3_NRFYvz"
      },
      "execution_count": 25,
      "outputs": []
    },
    {
      "cell_type": "code",
      "source": [
        "print(test1)\n",
        "print(test_1)\n",
        "print(_test_1)"
      ],
      "metadata": {
        "colab": {
          "base_uri": "https://localhost:8080/"
        },
        "id": "KHGwqOgXF5Na",
        "outputId": "236c8db3-263d-43dc-f90e-cf5529d8eac0"
      },
      "execution_count": 26,
      "outputs": [
        {
          "output_type": "stream",
          "name": "stdout",
          "text": [
            "100\n",
            "100\n",
            "100\n"
          ]
        }
      ]
    },
    {
      "cell_type": "code",
      "source": [
        "a = float(100)\n",
        "a"
      ],
      "metadata": {
        "colab": {
          "base_uri": "https://localhost:8080/"
        },
        "id": "eDYHOG7vF9tM",
        "outputId": "db570d60-4e3d-4e3f-8866-f6881ea6be24"
      },
      "execution_count": 27,
      "outputs": [
        {
          "output_type": "execute_result",
          "data": {
            "text/plain": [
              "100.0"
            ]
          },
          "metadata": {},
          "execution_count": 27
        }
      ]
    },
    {
      "cell_type": "code",
      "source": [
        "currect_bal = float(100)\n",
        "currect_bal"
      ],
      "metadata": {
        "colab": {
          "base_uri": "https://localhost:8080/"
        },
        "id": "u5cCrVKMGEQ9",
        "outputId": "dd302f28-163b-43cd-cf85-c99e2e2b7332"
      },
      "execution_count": 28,
      "outputs": [
        {
          "output_type": "execute_result",
          "data": {
            "text/plain": [
              "100.0"
            ]
          },
          "metadata": {},
          "execution_count": 28
        }
      ]
    },
    {
      "cell_type": "code",
      "source": [
        "# give valid names - make it human readable"
      ],
      "metadata": {
        "id": "VRGw6P59GZ9y"
      },
      "execution_count": null,
      "outputs": []
    },
    {
      "cell_type": "markdown",
      "source": [
        "# Arithmetic operators\n",
        "\n",
        "## operand\n",
        "###unary operator = +10,-10\n",
        "\n",
        "### binary operators\n",
        "\n",
        "# + - * / ** (group expressions) - can operate for both int and float\n",
        "\n",
        "\n"
      ],
      "metadata": {
        "id": "-GlJlmIkHMxA"
      }
    },
    {
      "cell_type": "code",
      "source": [
        "# how python implements the operation\n",
        "\n",
        "a = 10\n",
        "b = 20\n",
        "\n",
        "a.__add__(b)"
      ],
      "metadata": {
        "colab": {
          "base_uri": "https://localhost:8080/"
        },
        "id": "Y3ByInPgHtAa",
        "outputId": "62536fd7-aa58-4b52-8057-3f0536958e6f"
      },
      "execution_count": 29,
      "outputs": [
        {
          "output_type": "execute_result",
          "data": {
            "text/plain": [
              "30"
            ]
          },
          "metadata": {},
          "execution_count": 29
        }
      ]
    },
    {
      "cell_type": "code",
      "source": [
        "c = (-4) ** 0.5\n",
        "c"
      ],
      "metadata": {
        "colab": {
          "base_uri": "https://localhost:8080/"
        },
        "id": "BK6N8NQXJUpE",
        "outputId": "6a111643-680b-4ff8-e973-3f8831eff0d4"
      },
      "execution_count": 31,
      "outputs": [
        {
          "output_type": "execute_result",
          "data": {
            "text/plain": [
              "(1.2246467991473532e-16+2j)"
            ]
          },
          "metadata": {},
          "execution_count": 31
        }
      ]
    },
    {
      "cell_type": "code",
      "source": [
        "type(c)"
      ],
      "metadata": {
        "colab": {
          "base_uri": "https://localhost:8080/"
        },
        "id": "F7c7dzkiKhz3",
        "outputId": "ce52598d-5ddd-437d-bd9e-237f4663da7f"
      },
      "execution_count": 32,
      "outputs": [
        {
          "output_type": "execute_result",
          "data": {
            "text/plain": [
              "complex"
            ]
          },
          "metadata": {},
          "execution_count": 32
        }
      ]
    },
    {
      "cell_type": "code",
      "source": [
        "c.real"
      ],
      "metadata": {
        "colab": {
          "base_uri": "https://localhost:8080/"
        },
        "id": "nXTWx4t4Kl6b",
        "outputId": "4fac66f0-03cb-4340-9ecc-9856a491e72d"
      },
      "execution_count": 34,
      "outputs": [
        {
          "output_type": "execute_result",
          "data": {
            "text/plain": [
              "1.2246467991473532e-16"
            ]
          },
          "metadata": {},
          "execution_count": 34
        }
      ]
    },
    {
      "cell_type": "code",
      "source": [
        "c.imag"
      ],
      "metadata": {
        "colab": {
          "base_uri": "https://localhost:8080/"
        },
        "id": "uXJJ6lZVKpjg",
        "outputId": "bdd70460-5804-4ed0-9113-c622eaaa9283"
      },
      "execution_count": 35,
      "outputs": [
        {
          "output_type": "execute_result",
          "data": {
            "text/plain": [
              "2.0"
            ]
          },
          "metadata": {},
          "execution_count": 35
        }
      ]
    },
    {
      "cell_type": "markdown",
      "source": [
        "# operator precedence\n",
        "\n",
        "## higher and lower precedence\n",
        "\n",
        "### ** and unary     + - *\n",
        "\n",
        "use ()"
      ],
      "metadata": {
        "id": "MvONx40aNJB5"
      }
    },
    {
      "cell_type": "code",
      "source": [
        "100 - 20 + 50  # same precedence - lower"
      ],
      "metadata": {
        "colab": {
          "base_uri": "https://localhost:8080/"
        },
        "id": "6Bx0YkaaNM45",
        "outputId": "6e9a2435-6217-4145-e1dc-61ee89391fe0"
      },
      "execution_count": 37,
      "outputs": [
        {
          "output_type": "execute_result",
          "data": {
            "text/plain": [
              "130"
            ]
          },
          "metadata": {},
          "execution_count": 37
        }
      ]
    },
    {
      "cell_type": "code",
      "source": [
        "(20 * 4) + (5 * 5)"
      ],
      "metadata": {
        "colab": {
          "base_uri": "https://localhost:8080/"
        },
        "id": "hISoslDmP73R",
        "outputId": "23693a34-88db-48e6-fd43-64d860db4119"
      },
      "execution_count": 39,
      "outputs": [
        {
          "output_type": "execute_result",
          "data": {
            "text/plain": [
              "105"
            ]
          },
          "metadata": {},
          "execution_count": 39
        }
      ]
    },
    {
      "cell_type": "code",
      "source": [
        "10 * 2 ** 3"
      ],
      "metadata": {
        "colab": {
          "base_uri": "https://localhost:8080/"
        },
        "id": "o1gKITc1QHrY",
        "outputId": "968dcbfb-b628-4a6f-d479-48a671238184"
      },
      "execution_count": 40,
      "outputs": [
        {
          "output_type": "execute_result",
          "data": {
            "text/plain": [
              "80"
            ]
          },
          "metadata": {},
          "execution_count": 40
        }
      ]
    },
    {
      "cell_type": "code",
      "source": [
        "10 * (2 ** 3) # keep it clear use the ()"
      ],
      "metadata": {
        "colab": {
          "base_uri": "https://localhost:8080/"
        },
        "id": "5PXw5Xh2QRZa",
        "outputId": "13e74ba1-9572-4a6f-8de6-7495e72be40d"
      },
      "execution_count": 42,
      "outputs": [
        {
          "output_type": "execute_result",
          "data": {
            "text/plain": [
              "80"
            ]
          },
          "metadata": {},
          "execution_count": 42
        }
      ]
    },
    {
      "cell_type": "code",
      "source": [
        "131 // 3 # gived the integer portion - also called as integer division or floor division"
      ],
      "metadata": {
        "colab": {
          "base_uri": "https://localhost:8080/"
        },
        "id": "cemKQi38Rf3u",
        "outputId": "a9c7542f-8ecb-4c99-9921-d59e1add7be9"
      },
      "execution_count": 45,
      "outputs": [
        {
          "output_type": "execute_result",
          "data": {
            "text/plain": [
              "43"
            ]
          },
          "metadata": {},
          "execution_count": 45
        }
      ]
    },
    {
      "cell_type": "code",
      "source": [
        "131 % 3 # gives the remainder"
      ],
      "metadata": {
        "colab": {
          "base_uri": "https://localhost:8080/"
        },
        "id": "Ps9iCoe0Rge5",
        "outputId": "1db0ce65-5679-4ad6-f935-7f4dd5903fa2"
      },
      "execution_count": 46,
      "outputs": [
        {
          "output_type": "execute_result",
          "data": {
            "text/plain": [
              "2"
            ]
          },
          "metadata": {},
          "execution_count": 46
        }
      ]
    },
    {
      "cell_type": "code",
      "source": [
        "a =10\n",
        "b = 3"
      ],
      "metadata": {
        "id": "57ocxruTRncD"
      },
      "execution_count": 47,
      "outputs": []
    },
    {
      "cell_type": "code",
      "source": [
        "a / b # division"
      ],
      "metadata": {
        "colab": {
          "base_uri": "https://localhost:8080/"
        },
        "id": "vrgPpukkUtuf",
        "outputId": "1b23d251-641b-40af-9158-581cd0fb98d2"
      },
      "execution_count": 48,
      "outputs": [
        {
          "output_type": "execute_result",
          "data": {
            "text/plain": [
              "3.3333333333333335"
            ]
          },
          "metadata": {},
          "execution_count": 48
        }
      ]
    },
    {
      "cell_type": "code",
      "source": [
        "a // b # floor or integer division"
      ],
      "metadata": {
        "colab": {
          "base_uri": "https://localhost:8080/"
        },
        "id": "EUcflr6HUu80",
        "outputId": "a3fa37f6-1e04-48fc-b693-e85bb96a965d"
      },
      "execution_count": 49,
      "outputs": [
        {
          "output_type": "execute_result",
          "data": {
            "text/plain": [
              "3"
            ]
          },
          "metadata": {},
          "execution_count": 49
        }
      ]
    },
    {
      "cell_type": "code",
      "source": [
        "a % b # mod gived remainder"
      ],
      "metadata": {
        "colab": {
          "base_uri": "https://localhost:8080/"
        },
        "id": "Erc5KmoGUvzS",
        "outputId": "3312b097-a7c2-4a44-961a-55d76b133666"
      },
      "execution_count": 50,
      "outputs": [
        {
          "output_type": "execute_result",
          "data": {
            "text/plain": [
              "1"
            ]
          },
          "metadata": {},
          "execution_count": 50
        }
      ]
    },
    {
      "cell_type": "code",
      "source": [
        "-12 // 5 # floor division of a -ve number"
      ],
      "metadata": {
        "colab": {
          "base_uri": "https://localhost:8080/"
        },
        "id": "lgtHrCupUxPg",
        "outputId": "f57ffa77-2d77-4d68-f203-dd6676232403"
      },
      "execution_count": 52,
      "outputs": [
        {
          "output_type": "execute_result",
          "data": {
            "text/plain": [
              "-3"
            ]
          },
          "metadata": {},
          "execution_count": 52
        }
      ]
    },
    {
      "cell_type": "code",
      "source": [
        "elapsed_mins = 165\n",
        "\n",
        "hours = elapsed_mins // 60\n",
        "minutes = elapsed_mins % 60\n",
        "print(f\"hours = {hours} & minute = {minutes}')\")"
      ],
      "metadata": {
        "colab": {
          "base_uri": "https://localhost:8080/"
        },
        "id": "eER9axlPU9t7",
        "outputId": "f1a309aa-3679-4673-d80d-db056dbb2b64"
      },
      "execution_count": 53,
      "outputs": [
        {
          "output_type": "stream",
          "name": "stdout",
          "text": [
            "hours = 2 & minute = 45')\n"
          ]
        }
      ]
    },
    {
      "cell_type": "markdown",
      "source": [
        "# comparission operators\n",
        "\n",
        "1. == equality\n",
        "2. != inequality\n",
        "3. '>' greater than\n",
        "4. '<' less than\n",
        "5. '>=' greater than or equal to\n",
        "6. <= less than or equal to\n",
        "\n",
        "output will be in boolean\n",
        "\n",
        "int and float are comparable"
      ],
      "metadata": {
        "id": "U4i3i0zMXFZL"
      }
    },
    {
      "cell_type": "code",
      "source": [
        "# comparission operators\n",
        "\n",
        "1. == equality\n",
        "2. != inequality\n",
        "3. > greater than\n",
        "4. < less than\n",
        "5. >= greater than or equal to\n",
        "6. <= less than or equal to\n",
        "\n",
        "output will be in boolean"
      ],
      "metadata": {
        "id": "anhmT-AcWDq2"
      },
      "execution_count": null,
      "outputs": []
    },
    {
      "cell_type": "code",
      "source": [
        "0.1 + 0.1 + 0.1 == 0.3 # but why\n",
        "\n",
        "# its becasue floats have infinite representation\n",
        "# do not use float for comparassion"
      ],
      "metadata": {
        "colab": {
          "base_uri": "https://localhost:8080/"
        },
        "id": "IKhbFu6CYwAL",
        "outputId": "83f4bcfb-1298-49f1-b9b9-37b4158b7dad"
      },
      "execution_count": 56,
      "outputs": [
        {
          "output_type": "execute_result",
          "data": {
            "text/plain": [
              "False"
            ]
          },
          "metadata": {},
          "execution_count": 56
        }
      ]
    },
    {
      "cell_type": "code",
      "source": [
        "1 is 1.0"
      ],
      "metadata": {
        "colab": {
          "base_uri": "https://localhost:8080/"
        },
        "id": "L2i0g1JFY2Ea",
        "outputId": "ef477e0e-4f7c-4306-f60a-1b6dcb76f94a"
      },
      "execution_count": 59,
      "outputs": [
        {
          "output_type": "stream",
          "name": "stderr",
          "text": [
            "<>:1: SyntaxWarning: \"is\" with a literal. Did you mean \"==\"?\n",
            "<>:1: SyntaxWarning: \"is\" with a literal. Did you mean \"==\"?\n",
            "<ipython-input-59-2ebf4c947f31>:1: SyntaxWarning: \"is\" with a literal. Did you mean \"==\"?\n",
            "  1 is 1.0\n"
          ]
        },
        {
          "output_type": "execute_result",
          "data": {
            "text/plain": [
              "False"
            ]
          },
          "metadata": {},
          "execution_count": 59
        }
      ]
    },
    {
      "cell_type": "code",
      "source": [
        "1 is 1"
      ],
      "metadata": {
        "colab": {
          "base_uri": "https://localhost:8080/"
        },
        "id": "kJnL_ifBZQNB",
        "outputId": "84114caf-8ac9-4352-ff1f-f83b93cfdffb"
      },
      "execution_count": 60,
      "outputs": [
        {
          "output_type": "stream",
          "name": "stderr",
          "text": [
            "<>:1: SyntaxWarning: \"is\" with a literal. Did you mean \"==\"?\n",
            "<>:1: SyntaxWarning: \"is\" with a literal. Did you mean \"==\"?\n",
            "<ipython-input-60-c4ba21148a2b>:1: SyntaxWarning: \"is\" with a literal. Did you mean \"==\"?\n",
            "  1 is 1\n"
          ]
        },
        {
          "output_type": "execute_result",
          "data": {
            "text/plain": [
              "True"
            ]
          },
          "metadata": {},
          "execution_count": 60
        }
      ]
    },
    {
      "cell_type": "code",
      "source": [],
      "metadata": {
        "id": "VYq66EV-ZkUk"
      },
      "execution_count": null,
      "outputs": []
    }
  ]
}